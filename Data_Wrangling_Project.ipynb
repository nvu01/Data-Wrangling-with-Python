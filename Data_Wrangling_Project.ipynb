{
 "cells": [
  {
   "cell_type": "markdown",
   "metadata": {
    "id": "GNIwe5N7s0e_"
   },
   "source": [
    "# Real-world Data Wrangling"
   ]
  },
  {
   "cell_type": "markdown",
   "metadata": {
    "id": "LbN7z7rcuqpO"
   },
   "source": [
    "## 1. Problem Statement\n",
    "\n",
    "In this project, we will explore two datasets gathered from the U.S. Census Bureau.\n",
    "- Dataset 1: a subset of 2023 data on full-time earnings for individuals aged 16+ across U.S. county.\n",
    "- Dataset 2: 2023 data on the number of individuals aged 18 and older with a bachelor's degree, along with the total population aged 18+ across U.S. counties.\n",
    "\n",
    "Research questions:  \n",
    "1.\tWhat's the relationship between the percentage of bachelor's degree holders and median earnings across U.S. counties?  \n",
    "2.\tWhich income range has the highest percentage in the U.S.?"
   ]
  },
  {
   "cell_type": "markdown",
   "metadata": {
    "id": "lDYDkH-Zs7Nn"
   },
   "source": [
    "## 2. Gather data"
   ]
  },
  {
   "cell_type": "markdown",
   "metadata": {
    "id": "7e6gS0wL1KTu"
   },
   "source": [
    "### 2.1: Dataset 1\n",
    "\n",
    "Type: CSV file\n",
    "\n",
    "Gathering method: The data was \"downloaded manually\" from U.S. Census Bureau (https://data.census.gov/table?q=earnings&g=010XX00US$0500000).\n",
    "\n",
    "Dataset variables:\n",
    "There are over 200 variables, but I will keep only 12 of them. In the raw dataset, these variables' names are alphanumeric codes which will be converted to meaningful readable names later in the cleaning steps.\n",
    "The list of all variables and their meanings can be found here: https://api.census.gov/data/2023/acs/acs1/subject/groups/S2001.html\n",
    "\n",
    "*   NAME: Geographic Area Name (county and state)\n",
    "*   S2001_C01_003E: Total population aged 16+ with full-time earnings\n",
    "*   S2001_C01_004E: Number of people aged 16+ with full-time earnings of \\$9,999 or less\n",
    "*   S2001_C01_005E: Number of people aged 16+ with full-time earnings between \\\\$10,000 - \\$14,999\n",
    "*   S2001_C01_006E: Number of people aged 16+ with full-time earnings between \\\\$15,000 - \\$24,999\n",
    "*   S2001_C01_007E: Number of people aged 16+ with full-time earnings between \\\\$25,000 - \\$34,999\n",
    "*   S2001_C01_008E: Number of people aged 16+ with full-time earnings between \\\\$35,000 - \\$49,999\n",
    "*   S2001_C01_009E: Number of people aged 16+ with full-time earnings between \\\\$50,000 - \\$64,999\n",
    "*   S2001_C01_010E: Number of people aged 16+ with full-time earnings between \\\\$65,000 - \\$74,999\n",
    "*   S2001_C01_011E: Number of people aged 16+ with full-time earnings between \\\\$75,000 - \\$99,999\n",
    "*   S2001_C01_012E: Number of people aged 16+ with full-time earnings of \\\\$100,000 or more\n",
    "*   S2001_C01_013E: Median full-time earning for people aged 16+"
   ]
  },
  {
   "cell_type": "code",
   "execution_count": 1,
   "metadata": {
    "id": "Su8E0uLuYkHU",
    "scrolled": true
   },
   "outputs": [
    {
     "data": {
      "text/html": [
       "<div>\n",
       "<style scoped>\n",
       "    .dataframe tbody tr th:only-of-type {\n",
       "        vertical-align: middle;\n",
       "    }\n",
       "\n",
       "    .dataframe tbody tr th {\n",
       "        vertical-align: top;\n",
       "    }\n",
       "\n",
       "    .dataframe thead th {\n",
       "        text-align: right;\n",
       "    }\n",
       "</style>\n",
       "<table border=\"1\" class=\"dataframe\">\n",
       "  <thead>\n",
       "    <tr style=\"text-align: right;\">\n",
       "      <th></th>\n",
       "      <th>GEO_ID</th>\n",
       "      <th>NAME</th>\n",
       "      <th>S2001_C01_001E</th>\n",
       "      <th>S2001_C01_001M</th>\n",
       "      <th>S2001_C01_002E</th>\n",
       "      <th>S2001_C01_002M</th>\n",
       "      <th>S2001_C01_003E</th>\n",
       "      <th>S2001_C01_003M</th>\n",
       "      <th>S2001_C01_004E</th>\n",
       "      <th>S2001_C01_004M</th>\n",
       "      <th>...</th>\n",
       "      <th>S2001_C06_016M</th>\n",
       "      <th>S2001_C06_017E</th>\n",
       "      <th>S2001_C06_017M</th>\n",
       "      <th>S2001_C06_018E</th>\n",
       "      <th>S2001_C06_018M</th>\n",
       "      <th>S2001_C06_019E</th>\n",
       "      <th>S2001_C06_019M</th>\n",
       "      <th>S2001_C06_020E</th>\n",
       "      <th>S2001_C06_020M</th>\n",
       "      <th>Unnamed: 242</th>\n",
       "    </tr>\n",
       "  </thead>\n",
       "  <tbody>\n",
       "    <tr>\n",
       "      <th>0</th>\n",
       "      <td>Geography</td>\n",
       "      <td>Geographic Area Name</td>\n",
       "      <td>Estimate!!Total!!Population 16 years and over ...</td>\n",
       "      <td>Margin of Error!!Total!!Population 16 years an...</td>\n",
       "      <td>Estimate!!Total!!Population 16 years and over ...</td>\n",
       "      <td>Margin of Error!!Total!!Population 16 years an...</td>\n",
       "      <td>Estimate!!Total!!Population 16 years and over ...</td>\n",
       "      <td>Margin of Error!!Total!!Population 16 years an...</td>\n",
       "      <td>Estimate!!Total!!Population 16 years and over ...</td>\n",
       "      <td>Margin of Error!!Total!!Population 16 years an...</td>\n",
       "      <td>...</td>\n",
       "      <td>Margin of Error!!Percent Female!!MEDIAN EARNIN...</td>\n",
       "      <td>Estimate!!Percent Female!!MEDIAN EARNINGS BY E...</td>\n",
       "      <td>Margin of Error!!Percent Female!!MEDIAN EARNIN...</td>\n",
       "      <td>Estimate!!Percent Female!!MEDIAN EARNINGS BY E...</td>\n",
       "      <td>Margin of Error!!Percent Female!!MEDIAN EARNIN...</td>\n",
       "      <td>Estimate!!Percent Female!!MEDIAN EARNINGS BY E...</td>\n",
       "      <td>Margin of Error!!Percent Female!!MEDIAN EARNIN...</td>\n",
       "      <td>Estimate!!Percent Female!!MEDIAN EARNINGS BY E...</td>\n",
       "      <td>Margin of Error!!Percent Female!!MEDIAN EARNIN...</td>\n",
       "      <td>NaN</td>\n",
       "    </tr>\n",
       "    <tr>\n",
       "      <th>1</th>\n",
       "      <td>0500000US01003</td>\n",
       "      <td>Baldwin County, Alabama</td>\n",
       "      <td>126591</td>\n",
       "      <td>3755</td>\n",
       "      <td>41702</td>\n",
       "      <td>1591</td>\n",
       "      <td>90456</td>\n",
       "      <td>4487</td>\n",
       "      <td>1332</td>\n",
       "      <td>643</td>\n",
       "      <td>...</td>\n",
       "      <td>(X)</td>\n",
       "      <td>(X)</td>\n",
       "      <td>(X)</td>\n",
       "      <td>(X)</td>\n",
       "      <td>(X)</td>\n",
       "      <td>(X)</td>\n",
       "      <td>(X)</td>\n",
       "      <td>(X)</td>\n",
       "      <td>(X)</td>\n",
       "      <td>NaN</td>\n",
       "    </tr>\n",
       "    <tr>\n",
       "      <th>2</th>\n",
       "      <td>0500000US01015</td>\n",
       "      <td>Calhoun County, Alabama</td>\n",
       "      <td>55173</td>\n",
       "      <td>2846</td>\n",
       "      <td>32742</td>\n",
       "      <td>2636</td>\n",
       "      <td>35776</td>\n",
       "      <td>2412</td>\n",
       "      <td>392</td>\n",
       "      <td>298</td>\n",
       "      <td>...</td>\n",
       "      <td>(X)</td>\n",
       "      <td>(X)</td>\n",
       "      <td>(X)</td>\n",
       "      <td>(X)</td>\n",
       "      <td>(X)</td>\n",
       "      <td>(X)</td>\n",
       "      <td>(X)</td>\n",
       "      <td>(X)</td>\n",
       "      <td>(X)</td>\n",
       "      <td>NaN</td>\n",
       "    </tr>\n",
       "    <tr>\n",
       "      <th>3</th>\n",
       "      <td>0500000US01043</td>\n",
       "      <td>Cullman County, Alabama</td>\n",
       "      <td>45436</td>\n",
       "      <td>1752</td>\n",
       "      <td>37241</td>\n",
       "      <td>3589</td>\n",
       "      <td>30508</td>\n",
       "      <td>2217</td>\n",
       "      <td>784</td>\n",
       "      <td>670</td>\n",
       "      <td>...</td>\n",
       "      <td>(X)</td>\n",
       "      <td>(X)</td>\n",
       "      <td>(X)</td>\n",
       "      <td>(X)</td>\n",
       "      <td>(X)</td>\n",
       "      <td>(X)</td>\n",
       "      <td>(X)</td>\n",
       "      <td>(X)</td>\n",
       "      <td>(X)</td>\n",
       "      <td>NaN</td>\n",
       "    </tr>\n",
       "    <tr>\n",
       "      <th>4</th>\n",
       "      <td>0500000US01049</td>\n",
       "      <td>DeKalb County, Alabama</td>\n",
       "      <td>32230</td>\n",
       "      <td>1909</td>\n",
       "      <td>30883</td>\n",
       "      <td>3100</td>\n",
       "      <td>22690</td>\n",
       "      <td>1737</td>\n",
       "      <td>726</td>\n",
       "      <td>522</td>\n",
       "      <td>...</td>\n",
       "      <td>(X)</td>\n",
       "      <td>(X)</td>\n",
       "      <td>(X)</td>\n",
       "      <td>(X)</td>\n",
       "      <td>(X)</td>\n",
       "      <td>(X)</td>\n",
       "      <td>(X)</td>\n",
       "      <td>(X)</td>\n",
       "      <td>(X)</td>\n",
       "      <td>NaN</td>\n",
       "    </tr>\n",
       "  </tbody>\n",
       "</table>\n",
       "<p>5 rows × 243 columns</p>\n",
       "</div>"
      ],
      "text/plain": [
       "           GEO_ID                     NAME  \\\n",
       "0       Geography     Geographic Area Name   \n",
       "1  0500000US01003  Baldwin County, Alabama   \n",
       "2  0500000US01015  Calhoun County, Alabama   \n",
       "3  0500000US01043  Cullman County, Alabama   \n",
       "4  0500000US01049   DeKalb County, Alabama   \n",
       "\n",
       "                                      S2001_C01_001E  \\\n",
       "0  Estimate!!Total!!Population 16 years and over ...   \n",
       "1                                             126591   \n",
       "2                                              55173   \n",
       "3                                              45436   \n",
       "4                                              32230   \n",
       "\n",
       "                                      S2001_C01_001M  \\\n",
       "0  Margin of Error!!Total!!Population 16 years an...   \n",
       "1                                               3755   \n",
       "2                                               2846   \n",
       "3                                               1752   \n",
       "4                                               1909   \n",
       "\n",
       "                                      S2001_C01_002E  \\\n",
       "0  Estimate!!Total!!Population 16 years and over ...   \n",
       "1                                              41702   \n",
       "2                                              32742   \n",
       "3                                              37241   \n",
       "4                                              30883   \n",
       "\n",
       "                                      S2001_C01_002M  \\\n",
       "0  Margin of Error!!Total!!Population 16 years an...   \n",
       "1                                               1591   \n",
       "2                                               2636   \n",
       "3                                               3589   \n",
       "4                                               3100   \n",
       "\n",
       "                                      S2001_C01_003E  \\\n",
       "0  Estimate!!Total!!Population 16 years and over ...   \n",
       "1                                              90456   \n",
       "2                                              35776   \n",
       "3                                              30508   \n",
       "4                                              22690   \n",
       "\n",
       "                                      S2001_C01_003M  \\\n",
       "0  Margin of Error!!Total!!Population 16 years an...   \n",
       "1                                               4487   \n",
       "2                                               2412   \n",
       "3                                               2217   \n",
       "4                                               1737   \n",
       "\n",
       "                                      S2001_C01_004E  \\\n",
       "0  Estimate!!Total!!Population 16 years and over ...   \n",
       "1                                               1332   \n",
       "2                                                392   \n",
       "3                                                784   \n",
       "4                                                726   \n",
       "\n",
       "                                      S2001_C01_004M  ...  \\\n",
       "0  Margin of Error!!Total!!Population 16 years an...  ...   \n",
       "1                                                643  ...   \n",
       "2                                                298  ...   \n",
       "3                                                670  ...   \n",
       "4                                                522  ...   \n",
       "\n",
       "                                      S2001_C06_016M  \\\n",
       "0  Margin of Error!!Percent Female!!MEDIAN EARNIN...   \n",
       "1                                                (X)   \n",
       "2                                                (X)   \n",
       "3                                                (X)   \n",
       "4                                                (X)   \n",
       "\n",
       "                                      S2001_C06_017E  \\\n",
       "0  Estimate!!Percent Female!!MEDIAN EARNINGS BY E...   \n",
       "1                                                (X)   \n",
       "2                                                (X)   \n",
       "3                                                (X)   \n",
       "4                                                (X)   \n",
       "\n",
       "                                      S2001_C06_017M  \\\n",
       "0  Margin of Error!!Percent Female!!MEDIAN EARNIN...   \n",
       "1                                                (X)   \n",
       "2                                                (X)   \n",
       "3                                                (X)   \n",
       "4                                                (X)   \n",
       "\n",
       "                                      S2001_C06_018E  \\\n",
       "0  Estimate!!Percent Female!!MEDIAN EARNINGS BY E...   \n",
       "1                                                (X)   \n",
       "2                                                (X)   \n",
       "3                                                (X)   \n",
       "4                                                (X)   \n",
       "\n",
       "                                      S2001_C06_018M  \\\n",
       "0  Margin of Error!!Percent Female!!MEDIAN EARNIN...   \n",
       "1                                                (X)   \n",
       "2                                                (X)   \n",
       "3                                                (X)   \n",
       "4                                                (X)   \n",
       "\n",
       "                                      S2001_C06_019E  \\\n",
       "0  Estimate!!Percent Female!!MEDIAN EARNINGS BY E...   \n",
       "1                                                (X)   \n",
       "2                                                (X)   \n",
       "3                                                (X)   \n",
       "4                                                (X)   \n",
       "\n",
       "                                      S2001_C06_019M  \\\n",
       "0  Margin of Error!!Percent Female!!MEDIAN EARNIN...   \n",
       "1                                                (X)   \n",
       "2                                                (X)   \n",
       "3                                                (X)   \n",
       "4                                                (X)   \n",
       "\n",
       "                                      S2001_C06_020E  \\\n",
       "0  Estimate!!Percent Female!!MEDIAN EARNINGS BY E...   \n",
       "1                                                (X)   \n",
       "2                                                (X)   \n",
       "3                                                (X)   \n",
       "4                                                (X)   \n",
       "\n",
       "                                      S2001_C06_020M Unnamed: 242  \n",
       "0  Margin of Error!!Percent Female!!MEDIAN EARNIN...          NaN  \n",
       "1                                                (X)          NaN  \n",
       "2                                                (X)          NaN  \n",
       "3                                                (X)          NaN  \n",
       "4                                                (X)          NaN  \n",
       "\n",
       "[5 rows x 243 columns]"
      ]
     },
     "execution_count": 1,
     "metadata": {},
     "output_type": "execute_result"
    }
   ],
   "source": [
    "# 1st data gathering and loading method\n",
    "import pandas as pd\n",
    "raw_earnings = pd.read_csv('ACSST1Y2023.S2001-Data.csv')\n",
    "raw_earnings.head()"
   ]
  },
  {
   "cell_type": "markdown",
   "metadata": {
    "id": "hoUjq1tPzz7P"
   },
   "source": [
    "### 2.2: Dataset 2\n",
    "\n",
    "Type: JSON file\n",
    "\n",
    "Gathering method: The data was gathered using the \"API\" method from the U.S. Census Bureau (https://data.census.gov/table?q=education&g=010XX00US$0500000).\n",
    "\n",
    "Dataset variables: In the raw dataset, the variables' names are alphanumeric codes which will be translated and transformed to meaningful names later in the cleaning steps. The list of all variables and their meanings can be found here: https://api.census.gov/data/2023/acs/acs1/subject/groups/S1501.html\n",
    "\n",
    "*   NAME: County and state\n",
    "*   S1501_C01_001E: Population aged 18-24\n",
    "*   S1501_C01_006E: Population aged 25+\n",
    "*   S1501_C01_005E: Number of people aged 18-24 with a bachelor's degree or higher\n",
    "*   S1501_C01_015E: Number of people aged 25+ with a bachelor's degree or higher\n",
    "\n",
    "The ucgid (geographic code) column is unnecessary and will be removed later."
   ]
  },
  {
   "cell_type": "code",
   "execution_count": 2,
   "metadata": {
    "id": "6zT0QxRyYmm7"
   },
   "outputs": [],
   "source": [
    "# 2nd data gathering and loading method\n",
    "import requests\n",
    "import json\n",
    "response = requests.get('https://api.census.gov/data/2023/acs/acs1/subject?get=NAME,S1501_C01_001E,S1501_C01_006E,S1501_C01_005E,S1501_C01_015E&ucgid=pseudo(0100000US$0500000)')\n",
    "content = response.json()"
   ]
  },
  {
   "cell_type": "code",
   "execution_count": 3,
   "metadata": {},
   "outputs": [
    {
     "data": {
      "text/html": [
       "<div>\n",
       "<style scoped>\n",
       "    .dataframe tbody tr th:only-of-type {\n",
       "        vertical-align: middle;\n",
       "    }\n",
       "\n",
       "    .dataframe tbody tr th {\n",
       "        vertical-align: top;\n",
       "    }\n",
       "\n",
       "    .dataframe thead th {\n",
       "        text-align: right;\n",
       "    }\n",
       "</style>\n",
       "<table border=\"1\" class=\"dataframe\">\n",
       "  <thead>\n",
       "    <tr style=\"text-align: right;\">\n",
       "      <th></th>\n",
       "      <th>0</th>\n",
       "      <th>1</th>\n",
       "      <th>2</th>\n",
       "      <th>3</th>\n",
       "      <th>4</th>\n",
       "      <th>5</th>\n",
       "    </tr>\n",
       "  </thead>\n",
       "  <tbody>\n",
       "    <tr>\n",
       "      <th>0</th>\n",
       "      <td>NAME</td>\n",
       "      <td>S1501_C01_001E</td>\n",
       "      <td>S1501_C01_006E</td>\n",
       "      <td>S1501_C01_005E</td>\n",
       "      <td>S1501_C01_015E</td>\n",
       "      <td>ucgid</td>\n",
       "    </tr>\n",
       "    <tr>\n",
       "      <th>1</th>\n",
       "      <td>Baldwin County, Alabama</td>\n",
       "      <td>15552</td>\n",
       "      <td>184852</td>\n",
       "      <td>2213</td>\n",
       "      <td>59243</td>\n",
       "      <td>0500000US01003</td>\n",
       "    </tr>\n",
       "    <tr>\n",
       "      <th>2</th>\n",
       "      <td>Calhoun County, Alabama</td>\n",
       "      <td>13499</td>\n",
       "      <td>78420</td>\n",
       "      <td>605</td>\n",
       "      <td>18557</td>\n",
       "      <td>0500000US01015</td>\n",
       "    </tr>\n",
       "    <tr>\n",
       "      <th>3</th>\n",
       "      <td>Cullman County, Alabama</td>\n",
       "      <td>7223</td>\n",
       "      <td>64307</td>\n",
       "      <td>661</td>\n",
       "      <td>11065</td>\n",
       "      <td>0500000US01043</td>\n",
       "    </tr>\n",
       "    <tr>\n",
       "      <th>4</th>\n",
       "      <td>DeKalb County, Alabama</td>\n",
       "      <td>6538</td>\n",
       "      <td>48611</td>\n",
       "      <td>594</td>\n",
       "      <td>6542</td>\n",
       "      <td>0500000US01049</td>\n",
       "    </tr>\n",
       "  </tbody>\n",
       "</table>\n",
       "</div>"
      ],
      "text/plain": [
       "                         0               1               2               3  \\\n",
       "0                     NAME  S1501_C01_001E  S1501_C01_006E  S1501_C01_005E   \n",
       "1  Baldwin County, Alabama           15552          184852            2213   \n",
       "2  Calhoun County, Alabama           13499           78420             605   \n",
       "3  Cullman County, Alabama            7223           64307             661   \n",
       "4   DeKalb County, Alabama            6538           48611             594   \n",
       "\n",
       "                4               5  \n",
       "0  S1501_C01_015E           ucgid  \n",
       "1           59243  0500000US01003  \n",
       "2           18557  0500000US01015  \n",
       "3           11065  0500000US01043  \n",
       "4            6542  0500000US01049  "
      ]
     },
     "execution_count": 3,
     "metadata": {},
     "output_type": "execute_result"
    }
   ],
   "source": [
    "# Store the raw data in local data store\n",
    "with open('raw_education.json', 'w') as file:\n",
    "    json.dump(content, file)\n",
    "\n",
    "raw_edu = pd.read_json('raw_education.json')\n",
    "raw_edu.head()"
   ]
  },
  {
   "cell_type": "markdown",
   "metadata": {
    "id": "QwSWIVmotLgV"
   },
   "source": [
    "## 3. Data Wrangling"
   ]
  },
  {
   "cell_type": "markdown",
   "metadata": {},
   "source": [
    "### 3.1: Dataset 1"
   ]
  },
  {
   "cell_type": "code",
   "execution_count": 4,
   "metadata": {},
   "outputs": [],
   "source": [
    "# Make a copy of the dataset to ensure the raw dataframe is not impacted\n",
    "cleaned_earnings = raw_earnings.copy()"
   ]
  },
  {
   "cell_type": "markdown",
   "metadata": {
    "id": "lXhGiYyiwwKN"
   },
   "source": [
    "#### Tidiness Issue 1: Unnecessary Variables"
   ]
  },
  {
   "cell_type": "code",
   "execution_count": 5,
   "metadata": {
    "scrolled": true
   },
   "outputs": [
    {
     "data": {
      "text/html": [
       "<div>\n",
       "<style scoped>\n",
       "    .dataframe tbody tr th:only-of-type {\n",
       "        vertical-align: middle;\n",
       "    }\n",
       "\n",
       "    .dataframe tbody tr th {\n",
       "        vertical-align: top;\n",
       "    }\n",
       "\n",
       "    .dataframe thead th {\n",
       "        text-align: right;\n",
       "    }\n",
       "</style>\n",
       "<table border=\"1\" class=\"dataframe\">\n",
       "  <thead>\n",
       "    <tr style=\"text-align: right;\">\n",
       "      <th></th>\n",
       "      <th>GEO_ID</th>\n",
       "      <th>NAME</th>\n",
       "      <th>S2001_C01_001E</th>\n",
       "      <th>S2001_C01_001M</th>\n",
       "      <th>S2001_C01_002E</th>\n",
       "      <th>S2001_C01_002M</th>\n",
       "      <th>S2001_C01_003E</th>\n",
       "      <th>S2001_C01_003M</th>\n",
       "      <th>S2001_C01_004E</th>\n",
       "      <th>S2001_C01_004M</th>\n",
       "      <th>...</th>\n",
       "      <th>S2001_C06_016M</th>\n",
       "      <th>S2001_C06_017E</th>\n",
       "      <th>S2001_C06_017M</th>\n",
       "      <th>S2001_C06_018E</th>\n",
       "      <th>S2001_C06_018M</th>\n",
       "      <th>S2001_C06_019E</th>\n",
       "      <th>S2001_C06_019M</th>\n",
       "      <th>S2001_C06_020E</th>\n",
       "      <th>S2001_C06_020M</th>\n",
       "      <th>Unnamed: 242</th>\n",
       "    </tr>\n",
       "  </thead>\n",
       "  <tbody>\n",
       "    <tr>\n",
       "      <th>0</th>\n",
       "      <td>Geography</td>\n",
       "      <td>Geographic Area Name</td>\n",
       "      <td>Estimate!!Total!!Population 16 years and over ...</td>\n",
       "      <td>Margin of Error!!Total!!Population 16 years an...</td>\n",
       "      <td>Estimate!!Total!!Population 16 years and over ...</td>\n",
       "      <td>Margin of Error!!Total!!Population 16 years an...</td>\n",
       "      <td>Estimate!!Total!!Population 16 years and over ...</td>\n",
       "      <td>Margin of Error!!Total!!Population 16 years an...</td>\n",
       "      <td>Estimate!!Total!!Population 16 years and over ...</td>\n",
       "      <td>Margin of Error!!Total!!Population 16 years an...</td>\n",
       "      <td>...</td>\n",
       "      <td>Margin of Error!!Percent Female!!MEDIAN EARNIN...</td>\n",
       "      <td>Estimate!!Percent Female!!MEDIAN EARNINGS BY E...</td>\n",
       "      <td>Margin of Error!!Percent Female!!MEDIAN EARNIN...</td>\n",
       "      <td>Estimate!!Percent Female!!MEDIAN EARNINGS BY E...</td>\n",
       "      <td>Margin of Error!!Percent Female!!MEDIAN EARNIN...</td>\n",
       "      <td>Estimate!!Percent Female!!MEDIAN EARNINGS BY E...</td>\n",
       "      <td>Margin of Error!!Percent Female!!MEDIAN EARNIN...</td>\n",
       "      <td>Estimate!!Percent Female!!MEDIAN EARNINGS BY E...</td>\n",
       "      <td>Margin of Error!!Percent Female!!MEDIAN EARNIN...</td>\n",
       "      <td>NaN</td>\n",
       "    </tr>\n",
       "    <tr>\n",
       "      <th>1</th>\n",
       "      <td>0500000US01003</td>\n",
       "      <td>Baldwin County, Alabama</td>\n",
       "      <td>126591</td>\n",
       "      <td>3755</td>\n",
       "      <td>41702</td>\n",
       "      <td>1591</td>\n",
       "      <td>90456</td>\n",
       "      <td>4487</td>\n",
       "      <td>1332</td>\n",
       "      <td>643</td>\n",
       "      <td>...</td>\n",
       "      <td>(X)</td>\n",
       "      <td>(X)</td>\n",
       "      <td>(X)</td>\n",
       "      <td>(X)</td>\n",
       "      <td>(X)</td>\n",
       "      <td>(X)</td>\n",
       "      <td>(X)</td>\n",
       "      <td>(X)</td>\n",
       "      <td>(X)</td>\n",
       "      <td>NaN</td>\n",
       "    </tr>\n",
       "  </tbody>\n",
       "</table>\n",
       "<p>2 rows × 243 columns</p>\n",
       "</div>"
      ],
      "text/plain": [
       "           GEO_ID                     NAME  \\\n",
       "0       Geography     Geographic Area Name   \n",
       "1  0500000US01003  Baldwin County, Alabama   \n",
       "\n",
       "                                      S2001_C01_001E  \\\n",
       "0  Estimate!!Total!!Population 16 years and over ...   \n",
       "1                                             126591   \n",
       "\n",
       "                                      S2001_C01_001M  \\\n",
       "0  Margin of Error!!Total!!Population 16 years an...   \n",
       "1                                               3755   \n",
       "\n",
       "                                      S2001_C01_002E  \\\n",
       "0  Estimate!!Total!!Population 16 years and over ...   \n",
       "1                                              41702   \n",
       "\n",
       "                                      S2001_C01_002M  \\\n",
       "0  Margin of Error!!Total!!Population 16 years an...   \n",
       "1                                               1591   \n",
       "\n",
       "                                      S2001_C01_003E  \\\n",
       "0  Estimate!!Total!!Population 16 years and over ...   \n",
       "1                                              90456   \n",
       "\n",
       "                                      S2001_C01_003M  \\\n",
       "0  Margin of Error!!Total!!Population 16 years an...   \n",
       "1                                               4487   \n",
       "\n",
       "                                      S2001_C01_004E  \\\n",
       "0  Estimate!!Total!!Population 16 years and over ...   \n",
       "1                                               1332   \n",
       "\n",
       "                                      S2001_C01_004M  ...  \\\n",
       "0  Margin of Error!!Total!!Population 16 years an...  ...   \n",
       "1                                                643  ...   \n",
       "\n",
       "                                      S2001_C06_016M  \\\n",
       "0  Margin of Error!!Percent Female!!MEDIAN EARNIN...   \n",
       "1                                                (X)   \n",
       "\n",
       "                                      S2001_C06_017E  \\\n",
       "0  Estimate!!Percent Female!!MEDIAN EARNINGS BY E...   \n",
       "1                                                (X)   \n",
       "\n",
       "                                      S2001_C06_017M  \\\n",
       "0  Margin of Error!!Percent Female!!MEDIAN EARNIN...   \n",
       "1                                                (X)   \n",
       "\n",
       "                                      S2001_C06_018E  \\\n",
       "0  Estimate!!Percent Female!!MEDIAN EARNINGS BY E...   \n",
       "1                                                (X)   \n",
       "\n",
       "                                      S2001_C06_018M  \\\n",
       "0  Margin of Error!!Percent Female!!MEDIAN EARNIN...   \n",
       "1                                                (X)   \n",
       "\n",
       "                                      S2001_C06_019E  \\\n",
       "0  Estimate!!Percent Female!!MEDIAN EARNINGS BY E...   \n",
       "1                                                (X)   \n",
       "\n",
       "                                      S2001_C06_019M  \\\n",
       "0  Margin of Error!!Percent Female!!MEDIAN EARNIN...   \n",
       "1                                                (X)   \n",
       "\n",
       "                                      S2001_C06_020E  \\\n",
       "0  Estimate!!Percent Female!!MEDIAN EARNINGS BY E...   \n",
       "1                                                (X)   \n",
       "\n",
       "                                      S2001_C06_020M Unnamed: 242  \n",
       "0  Margin of Error!!Percent Female!!MEDIAN EARNIN...          NaN  \n",
       "1                                                (X)          NaN  \n",
       "\n",
       "[2 rows x 243 columns]"
      ]
     },
     "execution_count": 5,
     "metadata": {},
     "output_type": "execute_result"
    }
   ],
   "source": [
    "# Inspecting the dataframe visually\n",
    "cleaned_earnings.head(2)"
   ]
  },
  {
   "cell_type": "code",
   "execution_count": 6,
   "metadata": {
    "scrolled": true
   },
   "outputs": [
    {
     "data": {
      "text/plain": [
       "Index(['GEO_ID', 'NAME', 'S2001_C01_001E', 'S2001_C01_001M', 'S2001_C01_002E',\n",
       "       'S2001_C01_002M', 'S2001_C01_003E', 'S2001_C01_003M', 'S2001_C01_004E',\n",
       "       'S2001_C01_004M',\n",
       "       ...\n",
       "       'S2001_C06_016M', 'S2001_C06_017E', 'S2001_C06_017M', 'S2001_C06_018E',\n",
       "       'S2001_C06_018M', 'S2001_C06_019E', 'S2001_C06_019M', 'S2001_C06_020E',\n",
       "       'S2001_C06_020M', 'Unnamed: 242'],\n",
       "      dtype='object', length=243)"
      ]
     },
     "execution_count": 6,
     "metadata": {},
     "output_type": "execute_result"
    }
   ],
   "source": [
    "# Inspecting the dataframe programmatically\n",
    "cleaned_earnings.columns"
   ]
  },
  {
   "cell_type": "markdown",
   "metadata": {},
   "source": [
    "**Issue and justification:** In the raw_earnings dataframe, there are 243 variables. I will need to narrow the dataframe down to only important columns.  "
   ]
  },
  {
   "cell_type": "markdown",
   "metadata": {},
   "source": [
    "**Address the issue:**  I want to keep only the 12 columns that I need for later analysis."
   ]
  },
  {
   "cell_type": "code",
   "execution_count": 7,
   "metadata": {
    "id": "fib0zAm333bn"
   },
   "outputs": [
    {
     "data": {
      "text/plain": [
       "(855, 12)"
      ]
     },
     "execution_count": 7,
     "metadata": {},
     "output_type": "execute_result"
    }
   ],
   "source": [
    "# Apply the cleaning strategy\n",
    "# Select and keep important columns\n",
    "important_columns = ['NAME', 'S2001_C01_003E', 'S2001_C01_004E', 'S2001_C01_005E', 'S2001_C01_006E', 'S2001_C01_007E',\n",
    "                     'S2001_C01_008E', 'S2001_C01_009E', 'S2001_C01_010E', 'S2001_C01_011E', 'S2001_C01_012E', 'S2001_C01_013E']\n",
    "cleaned_earnings = cleaned_earnings[important_columns]\n",
    "cleaned_earnings.shape"
   ]
  },
  {
   "cell_type": "markdown",
   "metadata": {
    "id": "lXhGiYyiwwKN"
   },
   "source": [
    "#### Tidiness Issue 2: Column Headers Are Codes"
   ]
  },
  {
   "cell_type": "code",
   "execution_count": 8,
   "metadata": {
    "id": "SpW59kh-zl8d"
   },
   "outputs": [
    {
     "data": {
      "text/html": [
       "<div>\n",
       "<style scoped>\n",
       "    .dataframe tbody tr th:only-of-type {\n",
       "        vertical-align: middle;\n",
       "    }\n",
       "\n",
       "    .dataframe tbody tr th {\n",
       "        vertical-align: top;\n",
       "    }\n",
       "\n",
       "    .dataframe thead th {\n",
       "        text-align: right;\n",
       "    }\n",
       "</style>\n",
       "<table border=\"1\" class=\"dataframe\">\n",
       "  <thead>\n",
       "    <tr style=\"text-align: right;\">\n",
       "      <th></th>\n",
       "      <th>NAME</th>\n",
       "      <th>S2001_C01_003E</th>\n",
       "      <th>S2001_C01_004E</th>\n",
       "      <th>S2001_C01_005E</th>\n",
       "      <th>S2001_C01_006E</th>\n",
       "      <th>S2001_C01_007E</th>\n",
       "      <th>S2001_C01_008E</th>\n",
       "      <th>S2001_C01_009E</th>\n",
       "      <th>S2001_C01_010E</th>\n",
       "      <th>S2001_C01_011E</th>\n",
       "      <th>S2001_C01_012E</th>\n",
       "      <th>S2001_C01_013E</th>\n",
       "    </tr>\n",
       "  </thead>\n",
       "  <tbody>\n",
       "    <tr>\n",
       "      <th>0</th>\n",
       "      <td>Geographic Area Name</td>\n",
       "      <td>Estimate!!Total!!Population 16 years and over ...</td>\n",
       "      <td>Estimate!!Total!!Population 16 years and over ...</td>\n",
       "      <td>Estimate!!Total!!Population 16 years and over ...</td>\n",
       "      <td>Estimate!!Total!!Population 16 years and over ...</td>\n",
       "      <td>Estimate!!Total!!Population 16 years and over ...</td>\n",
       "      <td>Estimate!!Total!!Population 16 years and over ...</td>\n",
       "      <td>Estimate!!Total!!Population 16 years and over ...</td>\n",
       "      <td>Estimate!!Total!!Population 16 years and over ...</td>\n",
       "      <td>Estimate!!Total!!Population 16 years and over ...</td>\n",
       "      <td>Estimate!!Total!!Population 16 years and over ...</td>\n",
       "      <td>Estimate!!Total!!Population 16 years and over ...</td>\n",
       "    </tr>\n",
       "  </tbody>\n",
       "</table>\n",
       "</div>"
      ],
      "text/plain": [
       "                   NAME                                     S2001_C01_003E  \\\n",
       "0  Geographic Area Name  Estimate!!Total!!Population 16 years and over ...   \n",
       "\n",
       "                                      S2001_C01_004E  \\\n",
       "0  Estimate!!Total!!Population 16 years and over ...   \n",
       "\n",
       "                                      S2001_C01_005E  \\\n",
       "0  Estimate!!Total!!Population 16 years and over ...   \n",
       "\n",
       "                                      S2001_C01_006E  \\\n",
       "0  Estimate!!Total!!Population 16 years and over ...   \n",
       "\n",
       "                                      S2001_C01_007E  \\\n",
       "0  Estimate!!Total!!Population 16 years and over ...   \n",
       "\n",
       "                                      S2001_C01_008E  \\\n",
       "0  Estimate!!Total!!Population 16 years and over ...   \n",
       "\n",
       "                                      S2001_C01_009E  \\\n",
       "0  Estimate!!Total!!Population 16 years and over ...   \n",
       "\n",
       "                                      S2001_C01_010E  \\\n",
       "0  Estimate!!Total!!Population 16 years and over ...   \n",
       "\n",
       "                                      S2001_C01_011E  \\\n",
       "0  Estimate!!Total!!Population 16 years and over ...   \n",
       "\n",
       "                                      S2001_C01_012E  \\\n",
       "0  Estimate!!Total!!Population 16 years and over ...   \n",
       "\n",
       "                                      S2001_C01_013E  \n",
       "0  Estimate!!Total!!Population 16 years and over ...  "
      ]
     },
     "execution_count": 8,
     "metadata": {},
     "output_type": "execute_result"
    }
   ],
   "source": [
    "# Inspecting the dataframe visually\n",
    "cleaned_earnings.head(1)"
   ]
  },
  {
   "cell_type": "code",
   "execution_count": 9,
   "metadata": {},
   "outputs": [
    {
     "data": {
      "text/plain": [
       "Index(['NAME', 'S2001_C01_003E', 'S2001_C01_004E', 'S2001_C01_005E',\n",
       "       'S2001_C01_006E', 'S2001_C01_007E', 'S2001_C01_008E', 'S2001_C01_009E',\n",
       "       'S2001_C01_010E', 'S2001_C01_011E', 'S2001_C01_012E', 'S2001_C01_013E'],\n",
       "      dtype='object')"
      ]
     },
     "execution_count": 9,
     "metadata": {},
     "output_type": "execute_result"
    }
   ],
   "source": [
    "# Inspecting the dataframe programmatically\n",
    "# List the column headers\n",
    "cleaned_earnings.columns"
   ]
  },
  {
   "cell_type": "markdown",
   "metadata": {},
   "source": [
    "**Issue and justification:** Column headers are alphanumeric codes that are hard to understand. These headers should be converted into short descriptive names."
   ]
  },
  {
   "cell_type": "markdown",
   "metadata": {},
   "source": [
    "**Address the issue:** Convert column headers into readable column names."
   ]
  },
  {
   "cell_type": "markdown",
   "metadata": {},
   "source": [
    "The first row contains column labels that describe the columns. We can take a look at these column labels to understand each column."
   ]
  },
  {
   "cell_type": "code",
   "execution_count": 10,
   "metadata": {
    "scrolled": true
   },
   "outputs": [
    {
     "data": {
      "text/plain": [
       "NAME                                           Geographic Area Name\n",
       "S2001_C01_003E    Estimate!!Total!!Population 16 years and over ...\n",
       "S2001_C01_004E    Estimate!!Total!!Population 16 years and over ...\n",
       "S2001_C01_005E    Estimate!!Total!!Population 16 years and over ...\n",
       "S2001_C01_006E    Estimate!!Total!!Population 16 years and over ...\n",
       "S2001_C01_007E    Estimate!!Total!!Population 16 years and over ...\n",
       "S2001_C01_008E    Estimate!!Total!!Population 16 years and over ...\n",
       "S2001_C01_009E    Estimate!!Total!!Population 16 years and over ...\n",
       "S2001_C01_010E    Estimate!!Total!!Population 16 years and over ...\n",
       "S2001_C01_011E    Estimate!!Total!!Population 16 years and over ...\n",
       "S2001_C01_012E    Estimate!!Total!!Population 16 years and over ...\n",
       "S2001_C01_013E    Estimate!!Total!!Population 16 years and over ...\n",
       "Name: 0, dtype: object"
      ]
     },
     "execution_count": 10,
     "metadata": {},
     "output_type": "execute_result"
    }
   ],
   "source": [
    "# Access the column labels in the first row\n",
    "cleaned_earnings.iloc[0]"
   ]
  },
  {
   "cell_type": "markdown",
   "metadata": {},
   "source": [
    "The variables' labels are too long, so let me shorten these labels to make it easier to understand these variables."
   ]
  },
  {
   "cell_type": "code",
   "execution_count": 11,
   "metadata": {
    "scrolled": true
   },
   "outputs": [
    {
     "data": {
      "text/plain": [
       "NAME                                           Geographic Area Name\n",
       "S2001_C01_003E                                        WITH EARNINGS\n",
       "S2001_C01_004E                  WITH EARNINGS!!$1 to $9,999 or loss\n",
       "S2001_C01_005E                    WITH EARNINGS!!$10,000 to $14,999\n",
       "S2001_C01_006E                    WITH EARNINGS!!$15,000 to $24,999\n",
       "S2001_C01_007E                    WITH EARNINGS!!$25,000 to $34,999\n",
       "S2001_C01_008E                    WITH EARNINGS!!$35,000 to $49,999\n",
       "S2001_C01_009E                    WITH EARNINGS!!$50,000 to $64,999\n",
       "S2001_C01_010E                    WITH EARNINGS!!$65,000 to $74,999\n",
       "S2001_C01_011E                    WITH EARNINGS!!$75,000 to $99,999\n",
       "S2001_C01_012E                      WITH EARNINGS!!$100,000 or more\n",
       "S2001_C01_013E     WITH EARNINGS!!Median earnings (dollars) for ...\n",
       "Name: 0, dtype: object"
      ]
     },
     "execution_count": 11,
     "metadata": {},
     "output_type": "execute_result"
    }
   ],
   "source": [
    "# Shorten the lengthy column labels by removing repetitive phrases\n",
    "cleaned_earnings.iloc[0, 0:12].str.replace('Estimate!!Total!!Population 16 years and over with earnings!!FULL-TIME, YEAR-ROUND WORKERS','')"
   ]
  },
  {
   "cell_type": "markdown",
   "metadata": {},
   "source": [
    "Based on the above view of the column labels, here's a summary of columns' descriptions:\n",
    "1. NAME: Geographic Area Name (county and state)  \n",
    "2. S2001_C01_003E: Total population aged 16+ with full-time earnings\n",
    "3. S2001_C01_004E: Number of people aged 16+ with full-time earnings of \\$9,999 or less\n",
    "4. S2001_C01_005E: Number of people aged 16+ with full-time earnings between \\\\$10,000 - \\$14,999\n",
    "5. S2001_C01_006E: Number of people aged 16+ with full-time earnings between \\\\$15,000 - \\$24,999\n",
    "6. S2001_C01_007E: Number of people aged 16+ with full-time earnings between \\\\$25,000 - \\$34,999\n",
    "7. S2001_C01_008E: Number of people aged 16+ with full-time earnings between \\\\$35,000 - \\$49,999\n",
    "8. S2001_C01_009E: Number of people aged 16+ with full-time earnings between \\\\$50,000 - \\$64,999\n",
    "9. S2001_C01_010E: Number of people aged 16+ with full-time earnings between \\\\$65,000 - \\$74,999\n",
    "10. S2001_C01_011E: Number of people aged 16+ with full-time earnings between \\\\$75,000 - \\$99,999\n",
    "11. S2001_C01_012E: Number of people aged 16+ with full-time earnings of \\\\$100,000 or more\n",
    "12. S2001_C01_013E: Median full-time earning for people aged 16+"
   ]
  },
  {
   "cell_type": "code",
   "execution_count": 12,
   "metadata": {
    "id": "5Yfb-Yu5MTuE"
   },
   "outputs": [],
   "source": [
    "# Apply the cleaning strategy\n",
    "# Rename columns\n",
    "earnings_headers = {'NAME': 'Area',\n",
    "                    'S2001_C01_003E': 'Population_16+',\n",
    "                    'S2001_C01_004E': '9,999 or less',\n",
    "                    'S2001_C01_005E': '10,000 - 14,999',\n",
    "                    'S2001_C01_006E': '15,000 - 24,999',\n",
    "                    'S2001_C01_007E': '25,000 - 34,999',\n",
    "                    'S2001_C01_008E': '35,000 - 49,999',\n",
    "                    'S2001_C01_009E': '50,000 - 64,999',\n",
    "                    'S2001_C01_010E': '65,000 - 74,999',\n",
    "                    'S2001_C01_011E': '75,000 - 99,999',\n",
    "                    'S2001_C01_012E': '100,000 or more',\n",
    "                    'S2001_C01_013E': 'Median earning'}\n",
    "cleaned_earnings.rename(columns=earnings_headers, inplace=True)"
   ]
  },
  {
   "cell_type": "code",
   "execution_count": 13,
   "metadata": {
    "id": "ionB2sRaMUmY"
   },
   "outputs": [
    {
     "data": {
      "text/plain": [
       "Index(['Area', 'Population_16+', '9,999 or less', '10,000 - 14,999',\n",
       "       '15,000 - 24,999', '25,000 - 34,999', '35,000 - 49,999',\n",
       "       '50,000 - 64,999', '65,000 - 74,999', '75,000 - 99,999',\n",
       "       '100,000 or more', 'Median earning'],\n",
       "      dtype='object')"
      ]
     },
     "execution_count": 13,
     "metadata": {},
     "output_type": "execute_result"
    }
   ],
   "source": [
    "# Validate the cleaning was successful\n",
    "cleaned_earnings.columns"
   ]
  },
  {
   "cell_type": "markdown",
   "metadata": {
    "id": "4ffMoRGSwzYj"
   },
   "source": [
    "#### Tidiness Issue 3: Column Headers are Values, Not Variables"
   ]
  },
  {
   "cell_type": "code",
   "execution_count": 14,
   "metadata": {},
   "outputs": [
    {
     "data": {
      "text/html": [
       "<div>\n",
       "<style scoped>\n",
       "    .dataframe tbody tr th:only-of-type {\n",
       "        vertical-align: middle;\n",
       "    }\n",
       "\n",
       "    .dataframe tbody tr th {\n",
       "        vertical-align: top;\n",
       "    }\n",
       "\n",
       "    .dataframe thead th {\n",
       "        text-align: right;\n",
       "    }\n",
       "</style>\n",
       "<table border=\"1\" class=\"dataframe\">\n",
       "  <thead>\n",
       "    <tr style=\"text-align: right;\">\n",
       "      <th></th>\n",
       "      <th>Area</th>\n",
       "      <th>Population_16+</th>\n",
       "      <th>9,999 or less</th>\n",
       "      <th>10,000 - 14,999</th>\n",
       "      <th>15,000 - 24,999</th>\n",
       "      <th>25,000 - 34,999</th>\n",
       "      <th>35,000 - 49,999</th>\n",
       "      <th>50,000 - 64,999</th>\n",
       "      <th>65,000 - 74,999</th>\n",
       "      <th>75,000 - 99,999</th>\n",
       "      <th>100,000 or more</th>\n",
       "      <th>Median earning</th>\n",
       "    </tr>\n",
       "  </thead>\n",
       "  <tbody>\n",
       "    <tr>\n",
       "      <th>0</th>\n",
       "      <td>Geographic Area Name</td>\n",
       "      <td>Estimate!!Total!!Population 16 years and over ...</td>\n",
       "      <td>Estimate!!Total!!Population 16 years and over ...</td>\n",
       "      <td>Estimate!!Total!!Population 16 years and over ...</td>\n",
       "      <td>Estimate!!Total!!Population 16 years and over ...</td>\n",
       "      <td>Estimate!!Total!!Population 16 years and over ...</td>\n",
       "      <td>Estimate!!Total!!Population 16 years and over ...</td>\n",
       "      <td>Estimate!!Total!!Population 16 years and over ...</td>\n",
       "      <td>Estimate!!Total!!Population 16 years and over ...</td>\n",
       "      <td>Estimate!!Total!!Population 16 years and over ...</td>\n",
       "      <td>Estimate!!Total!!Population 16 years and over ...</td>\n",
       "      <td>Estimate!!Total!!Population 16 years and over ...</td>\n",
       "    </tr>\n",
       "    <tr>\n",
       "      <th>1</th>\n",
       "      <td>Baldwin County, Alabama</td>\n",
       "      <td>90456</td>\n",
       "      <td>1332</td>\n",
       "      <td>1678</td>\n",
       "      <td>7098</td>\n",
       "      <td>10878</td>\n",
       "      <td>18667</td>\n",
       "      <td>14898</td>\n",
       "      <td>6832</td>\n",
       "      <td>11556</td>\n",
       "      <td>17517</td>\n",
       "      <td>56339</td>\n",
       "    </tr>\n",
       "  </tbody>\n",
       "</table>\n",
       "</div>"
      ],
      "text/plain": [
       "                      Area                                     Population_16+  \\\n",
       "0     Geographic Area Name  Estimate!!Total!!Population 16 years and over ...   \n",
       "1  Baldwin County, Alabama                                              90456   \n",
       "\n",
       "                                       9,999 or less  \\\n",
       "0  Estimate!!Total!!Population 16 years and over ...   \n",
       "1                                               1332   \n",
       "\n",
       "                                     10,000 - 14,999  \\\n",
       "0  Estimate!!Total!!Population 16 years and over ...   \n",
       "1                                               1678   \n",
       "\n",
       "                                     15,000 - 24,999  \\\n",
       "0  Estimate!!Total!!Population 16 years and over ...   \n",
       "1                                               7098   \n",
       "\n",
       "                                     25,000 - 34,999  \\\n",
       "0  Estimate!!Total!!Population 16 years and over ...   \n",
       "1                                              10878   \n",
       "\n",
       "                                     35,000 - 49,999  \\\n",
       "0  Estimate!!Total!!Population 16 years and over ...   \n",
       "1                                              18667   \n",
       "\n",
       "                                     50,000 - 64,999  \\\n",
       "0  Estimate!!Total!!Population 16 years and over ...   \n",
       "1                                              14898   \n",
       "\n",
       "                                     65,000 - 74,999  \\\n",
       "0  Estimate!!Total!!Population 16 years and over ...   \n",
       "1                                               6832   \n",
       "\n",
       "                                     75,000 - 99,999  \\\n",
       "0  Estimate!!Total!!Population 16 years and over ...   \n",
       "1                                              11556   \n",
       "\n",
       "                                     100,000 or more  \\\n",
       "0  Estimate!!Total!!Population 16 years and over ...   \n",
       "1                                              17517   \n",
       "\n",
       "                                      Median earning  \n",
       "0  Estimate!!Total!!Population 16 years and over ...  \n",
       "1                                              56339  "
      ]
     },
     "execution_count": 14,
     "metadata": {},
     "output_type": "execute_result"
    }
   ],
   "source": [
    "# Inspecting the dataframe visually\n",
    "cleaned_earnings.head(2)"
   ]
  },
  {
   "cell_type": "markdown",
   "metadata": {},
   "source": [
    "**Issue and justification:** For a dataset to be tidy, its columns should be variables, not values. There are 9 consecutive columns (from the 3rd to the 11th column) that are different earning ranges. These ranges are values of one single variable which can be named \"Earning range.\""
   ]
  },
  {
   "cell_type": "markdown",
   "metadata": {},
   "source": [
    "**Address the issue:** The columns that represent different earning ranges become values of \"Earning range\" column and the original values under these columns form a new column named \"Count\". The new structure will have distinct variables representing distinct features of the dataset.  \n",
    "After unpivoting, there should be 9 unique values (9 earning ranges) under the \"Earning range\" column. The total entries should equal 7686 (854 entries/value x 9 values)."
   ]
  },
  {
   "cell_type": "code",
   "execution_count": 15,
   "metadata": {},
   "outputs": [],
   "source": [
    "# Apply the cleaning strategy\n",
    "# Unpivot the cleaned_earnings dataframe\n",
    "cleaned_earnings = pd.melt(cleaned_earnings, id_vars=['Area', 'Median earning', 'Population_16+'], \n",
    "                           var_name='Earning range', value_name='Count')"
   ]
  },
  {
   "cell_type": "code",
   "execution_count": 16,
   "metadata": {
    "scrolled": true
   },
   "outputs": [
    {
     "data": {
      "text/html": [
       "<div>\n",
       "<style scoped>\n",
       "    .dataframe tbody tr th:only-of-type {\n",
       "        vertical-align: middle;\n",
       "    }\n",
       "\n",
       "    .dataframe tbody tr th {\n",
       "        vertical-align: top;\n",
       "    }\n",
       "\n",
       "    .dataframe thead th {\n",
       "        text-align: right;\n",
       "    }\n",
       "</style>\n",
       "<table border=\"1\" class=\"dataframe\">\n",
       "  <thead>\n",
       "    <tr style=\"text-align: right;\">\n",
       "      <th></th>\n",
       "      <th>Area</th>\n",
       "      <th>Median earning</th>\n",
       "      <th>Population_16+</th>\n",
       "      <th>Earning range</th>\n",
       "      <th>Count</th>\n",
       "    </tr>\n",
       "  </thead>\n",
       "  <tbody>\n",
       "    <tr>\n",
       "      <th>0</th>\n",
       "      <td>Geographic Area Name</td>\n",
       "      <td>Estimate!!Total!!Population 16 years and over ...</td>\n",
       "      <td>Estimate!!Total!!Population 16 years and over ...</td>\n",
       "      <td>9,999 or less</td>\n",
       "      <td>Estimate!!Total!!Population 16 years and over ...</td>\n",
       "    </tr>\n",
       "    <tr>\n",
       "      <th>1</th>\n",
       "      <td>Baldwin County, Alabama</td>\n",
       "      <td>56339</td>\n",
       "      <td>90456</td>\n",
       "      <td>9,999 or less</td>\n",
       "      <td>1332</td>\n",
       "    </tr>\n",
       "    <tr>\n",
       "      <th>2</th>\n",
       "      <td>Calhoun County, Alabama</td>\n",
       "      <td>45999</td>\n",
       "      <td>35776</td>\n",
       "      <td>9,999 or less</td>\n",
       "      <td>392</td>\n",
       "    </tr>\n",
       "    <tr>\n",
       "      <th>3</th>\n",
       "      <td>Cullman County, Alabama</td>\n",
       "      <td>50270</td>\n",
       "      <td>30508</td>\n",
       "      <td>9,999 or less</td>\n",
       "      <td>784</td>\n",
       "    </tr>\n",
       "    <tr>\n",
       "      <th>4</th>\n",
       "      <td>DeKalb County, Alabama</td>\n",
       "      <td>40200</td>\n",
       "      <td>22690</td>\n",
       "      <td>9,999 or less</td>\n",
       "      <td>726</td>\n",
       "    </tr>\n",
       "    <tr>\n",
       "      <th>5</th>\n",
       "      <td>Elmore County, Alabama</td>\n",
       "      <td>53486</td>\n",
       "      <td>N</td>\n",
       "      <td>9,999 or less</td>\n",
       "      <td>N</td>\n",
       "    </tr>\n",
       "    <tr>\n",
       "      <th>6</th>\n",
       "      <td>Etowah County, Alabama</td>\n",
       "      <td>47183</td>\n",
       "      <td>32505</td>\n",
       "      <td>9,999 or less</td>\n",
       "      <td>1655</td>\n",
       "    </tr>\n",
       "    <tr>\n",
       "      <th>7</th>\n",
       "      <td>Houston County, Alabama</td>\n",
       "      <td>44299</td>\n",
       "      <td>38094</td>\n",
       "      <td>9,999 or less</td>\n",
       "      <td>1008</td>\n",
       "    </tr>\n",
       "    <tr>\n",
       "      <th>8</th>\n",
       "      <td>Jefferson County, Alabama</td>\n",
       "      <td>52154</td>\n",
       "      <td>240596</td>\n",
       "      <td>9,999 or less</td>\n",
       "      <td>2917</td>\n",
       "    </tr>\n",
       "    <tr>\n",
       "      <th>9</th>\n",
       "      <td>Lauderdale County, Alabama</td>\n",
       "      <td>50352</td>\n",
       "      <td>31290</td>\n",
       "      <td>9,999 or less</td>\n",
       "      <td>1222</td>\n",
       "    </tr>\n",
       "    <tr>\n",
       "      <th>10</th>\n",
       "      <td>Lee County, Alabama</td>\n",
       "      <td>55005</td>\n",
       "      <td>60989</td>\n",
       "      <td>9,999 or less</td>\n",
       "      <td>1445</td>\n",
       "    </tr>\n",
       "    <tr>\n",
       "      <th>11</th>\n",
       "      <td>Limestone County, Alabama</td>\n",
       "      <td>65429</td>\n",
       "      <td>42413</td>\n",
       "      <td>9,999 or less</td>\n",
       "      <td>667</td>\n",
       "    </tr>\n",
       "    <tr>\n",
       "      <th>12</th>\n",
       "      <td>Madison County, Alabama</td>\n",
       "      <td>62163</td>\n",
       "      <td>159560</td>\n",
       "      <td>9,999 or less</td>\n",
       "      <td>2718</td>\n",
       "    </tr>\n",
       "    <tr>\n",
       "      <th>13</th>\n",
       "      <td>Marshall County, Alabama</td>\n",
       "      <td>45766</td>\n",
       "      <td>34070</td>\n",
       "      <td>9,999 or less</td>\n",
       "      <td>800</td>\n",
       "    </tr>\n",
       "    <tr>\n",
       "      <th>14</th>\n",
       "      <td>Mobile County, Alabama</td>\n",
       "      <td>47376</td>\n",
       "      <td>143910</td>\n",
       "      <td>9,999 or less</td>\n",
       "      <td>2199</td>\n",
       "    </tr>\n",
       "    <tr>\n",
       "      <th>15</th>\n",
       "      <td>Montgomery County, Alabama</td>\n",
       "      <td>50625</td>\n",
       "      <td>75136</td>\n",
       "      <td>9,999 or less</td>\n",
       "      <td>1500</td>\n",
       "    </tr>\n",
       "    <tr>\n",
       "      <th>16</th>\n",
       "      <td>Morgan County, Alabama</td>\n",
       "      <td>52331</td>\n",
       "      <td>43681</td>\n",
       "      <td>9,999 or less</td>\n",
       "      <td>289</td>\n",
       "    </tr>\n",
       "    <tr>\n",
       "      <th>17</th>\n",
       "      <td>St. Clair County, Alabama</td>\n",
       "      <td>57153</td>\n",
       "      <td>36995</td>\n",
       "      <td>9,999 or less</td>\n",
       "      <td>1492</td>\n",
       "    </tr>\n",
       "    <tr>\n",
       "      <th>18</th>\n",
       "      <td>Shelby County, Alabama</td>\n",
       "      <td>61260</td>\n",
       "      <td>93473</td>\n",
       "      <td>9,999 or less</td>\n",
       "      <td>1494</td>\n",
       "    </tr>\n",
       "    <tr>\n",
       "      <th>19</th>\n",
       "      <td>Talladega County, Alabama</td>\n",
       "      <td>50114</td>\n",
       "      <td>N</td>\n",
       "      <td>9,999 or less</td>\n",
       "      <td>N</td>\n",
       "    </tr>\n",
       "  </tbody>\n",
       "</table>\n",
       "</div>"
      ],
      "text/plain": [
       "                          Area  \\\n",
       "0         Geographic Area Name   \n",
       "1      Baldwin County, Alabama   \n",
       "2      Calhoun County, Alabama   \n",
       "3      Cullman County, Alabama   \n",
       "4       DeKalb County, Alabama   \n",
       "5       Elmore County, Alabama   \n",
       "6       Etowah County, Alabama   \n",
       "7      Houston County, Alabama   \n",
       "8    Jefferson County, Alabama   \n",
       "9   Lauderdale County, Alabama   \n",
       "10         Lee County, Alabama   \n",
       "11   Limestone County, Alabama   \n",
       "12     Madison County, Alabama   \n",
       "13    Marshall County, Alabama   \n",
       "14      Mobile County, Alabama   \n",
       "15  Montgomery County, Alabama   \n",
       "16      Morgan County, Alabama   \n",
       "17   St. Clair County, Alabama   \n",
       "18      Shelby County, Alabama   \n",
       "19   Talladega County, Alabama   \n",
       "\n",
       "                                       Median earning  \\\n",
       "0   Estimate!!Total!!Population 16 years and over ...   \n",
       "1                                               56339   \n",
       "2                                               45999   \n",
       "3                                               50270   \n",
       "4                                               40200   \n",
       "5                                               53486   \n",
       "6                                               47183   \n",
       "7                                               44299   \n",
       "8                                               52154   \n",
       "9                                               50352   \n",
       "10                                              55005   \n",
       "11                                              65429   \n",
       "12                                              62163   \n",
       "13                                              45766   \n",
       "14                                              47376   \n",
       "15                                              50625   \n",
       "16                                              52331   \n",
       "17                                              57153   \n",
       "18                                              61260   \n",
       "19                                              50114   \n",
       "\n",
       "                                       Population_16+  Earning range  \\\n",
       "0   Estimate!!Total!!Population 16 years and over ...  9,999 or less   \n",
       "1                                               90456  9,999 or less   \n",
       "2                                               35776  9,999 or less   \n",
       "3                                               30508  9,999 or less   \n",
       "4                                               22690  9,999 or less   \n",
       "5                                                   N  9,999 or less   \n",
       "6                                               32505  9,999 or less   \n",
       "7                                               38094  9,999 or less   \n",
       "8                                              240596  9,999 or less   \n",
       "9                                               31290  9,999 or less   \n",
       "10                                              60989  9,999 or less   \n",
       "11                                              42413  9,999 or less   \n",
       "12                                             159560  9,999 or less   \n",
       "13                                              34070  9,999 or less   \n",
       "14                                             143910  9,999 or less   \n",
       "15                                              75136  9,999 or less   \n",
       "16                                              43681  9,999 or less   \n",
       "17                                              36995  9,999 or less   \n",
       "18                                              93473  9,999 or less   \n",
       "19                                                  N  9,999 or less   \n",
       "\n",
       "                                                Count  \n",
       "0   Estimate!!Total!!Population 16 years and over ...  \n",
       "1                                                1332  \n",
       "2                                                 392  \n",
       "3                                                 784  \n",
       "4                                                 726  \n",
       "5                                                   N  \n",
       "6                                                1655  \n",
       "7                                                1008  \n",
       "8                                                2917  \n",
       "9                                                1222  \n",
       "10                                               1445  \n",
       "11                                                667  \n",
       "12                                               2718  \n",
       "13                                                800  \n",
       "14                                               2199  \n",
       "15                                               1500  \n",
       "16                                                289  \n",
       "17                                               1492  \n",
       "18                                               1494  \n",
       "19                                                  N  "
      ]
     },
     "execution_count": 16,
     "metadata": {},
     "output_type": "execute_result"
    }
   ],
   "source": [
    "# Visually validate the cleaning was successful\n",
    "cleaned_earnings.head(20)"
   ]
  },
  {
   "cell_type": "code",
   "execution_count": 17,
   "metadata": {
    "scrolled": true
   },
   "outputs": [
    {
     "data": {
      "text/plain": [
       "count              7695\n",
       "unique                9\n",
       "top       9,999 or less\n",
       "freq                855\n",
       "Name: Earning range, dtype: object"
      ]
     },
     "execution_count": 17,
     "metadata": {},
     "output_type": "execute_result"
    }
   ],
   "source": [
    "# Validate the cleaning was successful\n",
    "# Check the number of unique values under \"Earning range\" column\n",
    "cleaned_earnings['Earning range'].describe()"
   ]
  },
  {
   "cell_type": "code",
   "execution_count": 18,
   "metadata": {
    "scrolled": true
   },
   "outputs": [
    {
     "data": {
      "text/plain": [
       "Earning range\n",
       "9,999 or less      855\n",
       "10,000 - 14,999    855\n",
       "15,000 - 24,999    855\n",
       "25,000 - 34,999    855\n",
       "35,000 - 49,999    855\n",
       "50,000 - 64,999    855\n",
       "65,000 - 74,999    855\n",
       "75,000 - 99,999    855\n",
       "100,000 or more    855\n",
       "Name: count, dtype: int64"
      ]
     },
     "execution_count": 18,
     "metadata": {},
     "output_type": "execute_result"
    }
   ],
   "source": [
    "# Validate the cleaning was successful\n",
    "# Check if each value in 'Earning range' has the same number of entries\n",
    "cleaned_earnings['Earning range'].value_counts()"
   ]
  },
  {
   "cell_type": "markdown",
   "metadata": {
    "id": "adaK2iPNzVu4"
   },
   "source": [
    "#### Quality Issue 1: Inconsistency"
   ]
  },
  {
   "cell_type": "code",
   "execution_count": 19,
   "metadata": {
    "scrolled": true
   },
   "outputs": [
    {
     "data": {
      "text/html": [
       "<div>\n",
       "<style scoped>\n",
       "    .dataframe tbody tr th:only-of-type {\n",
       "        vertical-align: middle;\n",
       "    }\n",
       "\n",
       "    .dataframe tbody tr th {\n",
       "        vertical-align: top;\n",
       "    }\n",
       "\n",
       "    .dataframe thead th {\n",
       "        text-align: right;\n",
       "    }\n",
       "</style>\n",
       "<table border=\"1\" class=\"dataframe\">\n",
       "  <thead>\n",
       "    <tr style=\"text-align: right;\">\n",
       "      <th></th>\n",
       "      <th>Area</th>\n",
       "      <th>Median earning</th>\n",
       "      <th>Population_16+</th>\n",
       "      <th>Earning range</th>\n",
       "      <th>Count</th>\n",
       "    </tr>\n",
       "  </thead>\n",
       "  <tbody>\n",
       "    <tr>\n",
       "      <th>0</th>\n",
       "      <td>Geographic Area Name</td>\n",
       "      <td>Estimate!!Total!!Population 16 years and over ...</td>\n",
       "      <td>Estimate!!Total!!Population 16 years and over ...</td>\n",
       "      <td>9,999 or less</td>\n",
       "      <td>Estimate!!Total!!Population 16 years and over ...</td>\n",
       "    </tr>\n",
       "    <tr>\n",
       "      <th>1</th>\n",
       "      <td>Baldwin County, Alabama</td>\n",
       "      <td>56339</td>\n",
       "      <td>90456</td>\n",
       "      <td>9,999 or less</td>\n",
       "      <td>1332</td>\n",
       "    </tr>\n",
       "    <tr>\n",
       "      <th>2</th>\n",
       "      <td>Calhoun County, Alabama</td>\n",
       "      <td>45999</td>\n",
       "      <td>35776</td>\n",
       "      <td>9,999 or less</td>\n",
       "      <td>392</td>\n",
       "    </tr>\n",
       "    <tr>\n",
       "      <th>3</th>\n",
       "      <td>Cullman County, Alabama</td>\n",
       "      <td>50270</td>\n",
       "      <td>30508</td>\n",
       "      <td>9,999 or less</td>\n",
       "      <td>784</td>\n",
       "    </tr>\n",
       "    <tr>\n",
       "      <th>4</th>\n",
       "      <td>DeKalb County, Alabama</td>\n",
       "      <td>40200</td>\n",
       "      <td>22690</td>\n",
       "      <td>9,999 or less</td>\n",
       "      <td>726</td>\n",
       "    </tr>\n",
       "  </tbody>\n",
       "</table>\n",
       "</div>"
      ],
      "text/plain": [
       "                      Area                                     Median earning  \\\n",
       "0     Geographic Area Name  Estimate!!Total!!Population 16 years and over ...   \n",
       "1  Baldwin County, Alabama                                              56339   \n",
       "2  Calhoun County, Alabama                                              45999   \n",
       "3  Cullman County, Alabama                                              50270   \n",
       "4   DeKalb County, Alabama                                              40200   \n",
       "\n",
       "                                      Population_16+  Earning range  \\\n",
       "0  Estimate!!Total!!Population 16 years and over ...  9,999 or less   \n",
       "1                                              90456  9,999 or less   \n",
       "2                                              35776  9,999 or less   \n",
       "3                                              30508  9,999 or less   \n",
       "4                                              22690  9,999 or less   \n",
       "\n",
       "                                               Count  \n",
       "0  Estimate!!Total!!Population 16 years and over ...  \n",
       "1                                               1332  \n",
       "2                                                392  \n",
       "3                                                784  \n",
       "4                                                726  "
      ]
     },
     "execution_count": 19,
     "metadata": {},
     "output_type": "execute_result"
    }
   ],
   "source": [
    "# Inspecting the dataframe visually\n",
    "cleaned_earnings.head()"
   ]
  },
  {
   "cell_type": "code",
   "execution_count": 20,
   "metadata": {
    "scrolled": true
   },
   "outputs": [
    {
     "name": "stdout",
     "output_type": "stream",
     "text": [
      "0       Estimate!!Total!!Population 16 years and over ...\n",
      "855     Estimate!!Total!!Population 16 years and over ...\n",
      "1710    Estimate!!Total!!Population 16 years and over ...\n",
      "2565    Estimate!!Total!!Population 16 years and over ...\n",
      "3420    Estimate!!Total!!Population 16 years and over ...\n",
      "4275    Estimate!!Total!!Population 16 years and over ...\n",
      "5130    Estimate!!Total!!Population 16 years and over ...\n",
      "5985    Estimate!!Total!!Population 16 years and over ...\n",
      "6840    Estimate!!Total!!Population 16 years and over ...\n",
      "Name: Median earning, dtype: object\n",
      "0       Estimate!!Total!!Population 16 years and over ...\n",
      "855     Estimate!!Total!!Population 16 years and over ...\n",
      "1710    Estimate!!Total!!Population 16 years and over ...\n",
      "2565    Estimate!!Total!!Population 16 years and over ...\n",
      "3420    Estimate!!Total!!Population 16 years and over ...\n",
      "4275    Estimate!!Total!!Population 16 years and over ...\n",
      "5130    Estimate!!Total!!Population 16 years and over ...\n",
      "5985    Estimate!!Total!!Population 16 years and over ...\n",
      "6840    Estimate!!Total!!Population 16 years and over ...\n",
      "Name: Population_16+, dtype: object\n",
      "0       Estimate!!Total!!Population 16 years and over ...\n",
      "855     Estimate!!Total!!Population 16 years and over ...\n",
      "1710    Estimate!!Total!!Population 16 years and over ...\n",
      "2565    Estimate!!Total!!Population 16 years and over ...\n",
      "3420    Estimate!!Total!!Population 16 years and over ...\n",
      "4275    Estimate!!Total!!Population 16 years and over ...\n",
      "5130    Estimate!!Total!!Population 16 years and over ...\n",
      "5985    Estimate!!Total!!Population 16 years and over ...\n",
      "6840    Estimate!!Total!!Population 16 years and over ...\n",
      "Name: Count, dtype: object\n"
     ]
    }
   ],
   "source": [
    "# Inspecting the dataframe programmatically \n",
    "# Check if there is any long value in columns that are expected to contain numbers with under 10 characters in length\n",
    "for col in range(1,5):\n",
    "    if col == 3:  # Skip 'Earning range' column\n",
    "        continue\n",
    "    # Create a boolean Series that indicates whether each value in the column exceeds 10 characters\n",
    "    long_vals = cleaned_earnings.iloc[:, col].apply(len) > 10\n",
    "    # Check the location of long values\n",
    "    print(cleaned_earnings.iloc[:,col][long_vals])"
   ]
  },
  {
   "cell_type": "markdown",
   "metadata": {},
   "source": [
    "**Issue and justification:** The first row should contain actual observations. The fact that the first row contains column labels or descriptions rather than actual data causes inconsistency with the dataset because the dataset's format is not aligned with typical expectations."
   ]
  },
  {
   "cell_type": "markdown",
   "metadata": {},
   "source": [
    "**Address the issue:** Since the first row contains column labels and not valid observation, it should be removed. The first observation in the dataset should be Baldwin County, Alabama."
   ]
  },
  {
   "cell_type": "code",
   "execution_count": 21,
   "metadata": {
    "id": "5Yfb-Yu5MTuE"
   },
   "outputs": [],
   "source": [
    "# Apply the cleaning strategy\n",
    "# Remove the first row and reset the row index\n",
    "cleaned_earnings.drop(0, inplace=True)\n",
    "cleaned_earnings = cleaned_earnings.reset_index(drop=True)"
   ]
  },
  {
   "cell_type": "code",
   "execution_count": 22,
   "metadata": {
    "id": "ionB2sRaMUmY"
   },
   "outputs": [
    {
     "data": {
      "text/html": [
       "<div>\n",
       "<style scoped>\n",
       "    .dataframe tbody tr th:only-of-type {\n",
       "        vertical-align: middle;\n",
       "    }\n",
       "\n",
       "    .dataframe tbody tr th {\n",
       "        vertical-align: top;\n",
       "    }\n",
       "\n",
       "    .dataframe thead th {\n",
       "        text-align: right;\n",
       "    }\n",
       "</style>\n",
       "<table border=\"1\" class=\"dataframe\">\n",
       "  <thead>\n",
       "    <tr style=\"text-align: right;\">\n",
       "      <th></th>\n",
       "      <th>Area</th>\n",
       "      <th>Median earning</th>\n",
       "      <th>Population_16+</th>\n",
       "      <th>Earning range</th>\n",
       "      <th>Count</th>\n",
       "    </tr>\n",
       "  </thead>\n",
       "  <tbody>\n",
       "    <tr>\n",
       "      <th>0</th>\n",
       "      <td>Baldwin County, Alabama</td>\n",
       "      <td>56339</td>\n",
       "      <td>90456</td>\n",
       "      <td>9,999 or less</td>\n",
       "      <td>1332</td>\n",
       "    </tr>\n",
       "    <tr>\n",
       "      <th>1</th>\n",
       "      <td>Calhoun County, Alabama</td>\n",
       "      <td>45999</td>\n",
       "      <td>35776</td>\n",
       "      <td>9,999 or less</td>\n",
       "      <td>392</td>\n",
       "    </tr>\n",
       "  </tbody>\n",
       "</table>\n",
       "</div>"
      ],
      "text/plain": [
       "                      Area Median earning Population_16+  Earning range Count\n",
       "0  Baldwin County, Alabama          56339          90456  9,999 or less  1332\n",
       "1  Calhoun County, Alabama          45999          35776  9,999 or less   392"
      ]
     },
     "execution_count": 22,
     "metadata": {},
     "output_type": "execute_result"
    }
   ],
   "source": [
    "# Validate the cleaning was successful\n",
    "cleaned_earnings.head(2)"
   ]
  },
  {
   "cell_type": "markdown",
   "metadata": {
    "id": "adaK2iPNzVu4"
   },
   "source": [
    "#### Quality Issue 2: Completeness Issues"
   ]
  },
  {
   "cell_type": "code",
   "execution_count": 23,
   "metadata": {
    "id": "fleC5rORI0Xl",
    "scrolled": true
   },
   "outputs": [
    {
     "data": {
      "text/html": [
       "<div>\n",
       "<style scoped>\n",
       "    .dataframe tbody tr th:only-of-type {\n",
       "        vertical-align: middle;\n",
       "    }\n",
       "\n",
       "    .dataframe tbody tr th {\n",
       "        vertical-align: top;\n",
       "    }\n",
       "\n",
       "    .dataframe thead th {\n",
       "        text-align: right;\n",
       "    }\n",
       "</style>\n",
       "<table border=\"1\" class=\"dataframe\">\n",
       "  <thead>\n",
       "    <tr style=\"text-align: right;\">\n",
       "      <th></th>\n",
       "      <th>Area</th>\n",
       "      <th>Median earning</th>\n",
       "      <th>Population_16+</th>\n",
       "      <th>Earning range</th>\n",
       "      <th>Count</th>\n",
       "    </tr>\n",
       "  </thead>\n",
       "  <tbody>\n",
       "    <tr>\n",
       "      <th>191</th>\n",
       "      <td>Hawaii County, Hawaii</td>\n",
       "      <td>52085</td>\n",
       "      <td>58672</td>\n",
       "      <td>9,999 or less</td>\n",
       "      <td>1191</td>\n",
       "    </tr>\n",
       "    <tr>\n",
       "      <th>4511</th>\n",
       "      <td>Kosciusko County, Indiana</td>\n",
       "      <td>51757</td>\n",
       "      <td>29265</td>\n",
       "      <td>50,000 - 64,999</td>\n",
       "      <td>6708</td>\n",
       "    </tr>\n",
       "    <tr>\n",
       "      <th>1052</th>\n",
       "      <td>Bonneville County, Idaho</td>\n",
       "      <td>53538</td>\n",
       "      <td>42831</td>\n",
       "      <td>10,000 - 14,999</td>\n",
       "      <td>1063</td>\n",
       "    </tr>\n",
       "    <tr>\n",
       "      <th>2705</th>\n",
       "      <td>Pasco County, Florida</td>\n",
       "      <td>55057</td>\n",
       "      <td>215662</td>\n",
       "      <td>25,000 - 34,999</td>\n",
       "      <td>27776</td>\n",
       "    </tr>\n",
       "    <tr>\n",
       "      <th>5592</th>\n",
       "      <td>Clinton County, New York</td>\n",
       "      <td>53843</td>\n",
       "      <td>26759</td>\n",
       "      <td>65,000 - 74,999</td>\n",
       "      <td>2875</td>\n",
       "    </tr>\n",
       "    <tr>\n",
       "      <th>1417</th>\n",
       "      <td>Marion County, Ohio</td>\n",
       "      <td>50261</td>\n",
       "      <td>N</td>\n",
       "      <td>10,000 - 14,999</td>\n",
       "      <td>N</td>\n",
       "    </tr>\n",
       "    <tr>\n",
       "      <th>6111</th>\n",
       "      <td>Indian River County, Florida</td>\n",
       "      <td>52115</td>\n",
       "      <td>47508</td>\n",
       "      <td>75,000 - 99,999</td>\n",
       "      <td>3984</td>\n",
       "    </tr>\n",
       "    <tr>\n",
       "      <th>2837</th>\n",
       "      <td>Daviess County, Kentucky</td>\n",
       "      <td>46224</td>\n",
       "      <td>37117</td>\n",
       "      <td>25,000 - 34,999</td>\n",
       "      <td>4546</td>\n",
       "    </tr>\n",
       "    <tr>\n",
       "      <th>756</th>\n",
       "      <td>Washington County, Utah</td>\n",
       "      <td>53875</td>\n",
       "      <td>54853</td>\n",
       "      <td>9,999 or less</td>\n",
       "      <td>601</td>\n",
       "    </tr>\n",
       "    <tr>\n",
       "      <th>3509</th>\n",
       "      <td>Broomfield County, Colorado</td>\n",
       "      <td>75683</td>\n",
       "      <td>32082</td>\n",
       "      <td>35,000 - 49,999</td>\n",
       "      <td>3498</td>\n",
       "    </tr>\n",
       "  </tbody>\n",
       "</table>\n",
       "</div>"
      ],
      "text/plain": [
       "                              Area Median earning Population_16+  \\\n",
       "191          Hawaii County, Hawaii          52085          58672   \n",
       "4511     Kosciusko County, Indiana          51757          29265   \n",
       "1052      Bonneville County, Idaho          53538          42831   \n",
       "2705         Pasco County, Florida          55057         215662   \n",
       "5592      Clinton County, New York          53843          26759   \n",
       "1417           Marion County, Ohio          50261              N   \n",
       "6111  Indian River County, Florida          52115          47508   \n",
       "2837      Daviess County, Kentucky          46224          37117   \n",
       "756        Washington County, Utah          53875          54853   \n",
       "3509   Broomfield County, Colorado          75683          32082   \n",
       "\n",
       "        Earning range  Count  \n",
       "191     9,999 or less   1191  \n",
       "4511  50,000 - 64,999   6708  \n",
       "1052  10,000 - 14,999   1063  \n",
       "2705  25,000 - 34,999  27776  \n",
       "5592  65,000 - 74,999   2875  \n",
       "1417  10,000 - 14,999      N  \n",
       "6111  75,000 - 99,999   3984  \n",
       "2837  25,000 - 34,999   4546  \n",
       "756     9,999 or less    601  \n",
       "3509  35,000 - 49,999   3498  "
      ]
     },
     "execution_count": 23,
     "metadata": {},
     "output_type": "execute_result"
    }
   ],
   "source": [
    "# Inspecting the dataframe visually\n",
    "cleaned_earnings.sample(10, random_state=15)"
   ]
  },
  {
   "cell_type": "code",
   "execution_count": 24,
   "metadata": {
    "id": "BTuQw7Rbsio4",
    "scrolled": true
   },
   "outputs": [
    {
     "data": {
      "text/plain": [
       "Area              0\n",
       "Median earning    0\n",
       "Population_16+    0\n",
       "Earning range     0\n",
       "Count             0\n",
       "dtype: int64"
      ]
     },
     "execution_count": 24,
     "metadata": {},
     "output_type": "execute_result"
    }
   ],
   "source": [
    "# Inspecting the dataframe programmatically\n",
    "# Check the number of missing values in each column\n",
    "cleaned_earnings.isnull().sum()"
   ]
  },
  {
   "cell_type": "code",
   "execution_count": 25,
   "metadata": {},
   "outputs": [
    {
     "data": {
      "text/html": [
       "<div>\n",
       "<style scoped>\n",
       "    .dataframe tbody tr th:only-of-type {\n",
       "        vertical-align: middle;\n",
       "    }\n",
       "\n",
       "    .dataframe tbody tr th {\n",
       "        vertical-align: top;\n",
       "    }\n",
       "\n",
       "    .dataframe thead th {\n",
       "        text-align: right;\n",
       "    }\n",
       "</style>\n",
       "<table border=\"1\" class=\"dataframe\">\n",
       "  <thead>\n",
       "    <tr style=\"text-align: right;\">\n",
       "      <th></th>\n",
       "      <th>Area</th>\n",
       "      <th>Median earning</th>\n",
       "      <th>Population_16+</th>\n",
       "      <th>Earning range</th>\n",
       "      <th>Count</th>\n",
       "    </tr>\n",
       "  </thead>\n",
       "  <tbody>\n",
       "    <tr>\n",
       "      <th>count</th>\n",
       "      <td>7694</td>\n",
       "      <td>7694</td>\n",
       "      <td>7694</td>\n",
       "      <td>7694</td>\n",
       "      <td>7694</td>\n",
       "    </tr>\n",
       "    <tr>\n",
       "      <th>unique</th>\n",
       "      <td>855</td>\n",
       "      <td>847</td>\n",
       "      <td>788</td>\n",
       "      <td>9</td>\n",
       "      <td>5948</td>\n",
       "    </tr>\n",
       "    <tr>\n",
       "      <th>top</th>\n",
       "      <td>Trujillo Alto Municipio, Puerto Rico</td>\n",
       "      <td>56339</td>\n",
       "      <td>N</td>\n",
       "      <td>10,000 - 14,999</td>\n",
       "      <td>N</td>\n",
       "    </tr>\n",
       "    <tr>\n",
       "      <th>freq</th>\n",
       "      <td>9</td>\n",
       "      <td>18</td>\n",
       "      <td>594</td>\n",
       "      <td>855</td>\n",
       "      <td>594</td>\n",
       "    </tr>\n",
       "  </tbody>\n",
       "</table>\n",
       "</div>"
      ],
      "text/plain": [
       "                                        Area Median earning Population_16+  \\\n",
       "count                                   7694           7694           7694   \n",
       "unique                                   855            847            788   \n",
       "top     Trujillo Alto Municipio, Puerto Rico          56339              N   \n",
       "freq                                       9             18            594   \n",
       "\n",
       "          Earning range Count  \n",
       "count              7694  7694  \n",
       "unique                9  5948  \n",
       "top     10,000 - 14,999     N  \n",
       "freq                855   594  "
      ]
     },
     "execution_count": 25,
     "metadata": {},
     "output_type": "execute_result"
    }
   ],
   "source": [
    "# Check for the most common value in each column\n",
    "cleaned_earnings.describe()"
   ]
  },
  {
   "cell_type": "markdown",
   "metadata": {},
   "source": [
    "**Issue and justification:** Although the output .isnull() shows that there is no missing value, when inspecting visually, I discovered that some null values are represented as \"N\". Additionally, the \"top\" output from .describe() function also shows that the most frequent value for some columns is \"N\" and it appears 594 times in all columns that have it."
   ]
  },
  {
   "cell_type": "markdown",
   "metadata": {},
   "source": [
    "**Address the issue:** Replace 'N' values with pd.NA."
   ]
  },
  {
   "cell_type": "code",
   "execution_count": 26,
   "metadata": {
    "id": "5Yfb-Yu5MTuE"
   },
   "outputs": [],
   "source": [
    "# Apply the cleaning strategy\n",
    "# Replace 'N' with NA\n",
    "cleaned_earnings.replace('N', pd.NA, inplace=True)"
   ]
  },
  {
   "cell_type": "code",
   "execution_count": 27,
   "metadata": {
    "id": "ionB2sRaMUmY"
   },
   "outputs": [
    {
     "data": {
      "text/html": [
       "<div>\n",
       "<style scoped>\n",
       "    .dataframe tbody tr th:only-of-type {\n",
       "        vertical-align: middle;\n",
       "    }\n",
       "\n",
       "    .dataframe tbody tr th {\n",
       "        vertical-align: top;\n",
       "    }\n",
       "\n",
       "    .dataframe thead th {\n",
       "        text-align: right;\n",
       "    }\n",
       "</style>\n",
       "<table border=\"1\" class=\"dataframe\">\n",
       "  <thead>\n",
       "    <tr style=\"text-align: right;\">\n",
       "      <th></th>\n",
       "      <th>Area</th>\n",
       "      <th>Median earning</th>\n",
       "      <th>Population_16+</th>\n",
       "      <th>Earning range</th>\n",
       "      <th>Count</th>\n",
       "    </tr>\n",
       "  </thead>\n",
       "  <tbody>\n",
       "    <tr>\n",
       "      <th>count</th>\n",
       "      <td>7694</td>\n",
       "      <td>7694</td>\n",
       "      <td>7100</td>\n",
       "      <td>7694</td>\n",
       "      <td>7100</td>\n",
       "    </tr>\n",
       "    <tr>\n",
       "      <th>unique</th>\n",
       "      <td>855</td>\n",
       "      <td>847</td>\n",
       "      <td>787</td>\n",
       "      <td>9</td>\n",
       "      <td>5947</td>\n",
       "    </tr>\n",
       "    <tr>\n",
       "      <th>top</th>\n",
       "      <td>Trujillo Alto Municipio, Puerto Rico</td>\n",
       "      <td>56339</td>\n",
       "      <td>27342</td>\n",
       "      <td>10,000 - 14,999</td>\n",
       "      <td>383</td>\n",
       "    </tr>\n",
       "    <tr>\n",
       "      <th>freq</th>\n",
       "      <td>9</td>\n",
       "      <td>18</td>\n",
       "      <td>18</td>\n",
       "      <td>855</td>\n",
       "      <td>5</td>\n",
       "    </tr>\n",
       "  </tbody>\n",
       "</table>\n",
       "</div>"
      ],
      "text/plain": [
       "                                        Area Median earning Population_16+  \\\n",
       "count                                   7694           7694           7100   \n",
       "unique                                   855            847            787   \n",
       "top     Trujillo Alto Municipio, Puerto Rico          56339          27342   \n",
       "freq                                       9             18             18   \n",
       "\n",
       "          Earning range Count  \n",
       "count              7694  7100  \n",
       "unique                9  5947  \n",
       "top     10,000 - 14,999   383  \n",
       "freq                855     5  "
      ]
     },
     "execution_count": 27,
     "metadata": {},
     "output_type": "execute_result"
    }
   ],
   "source": [
    "# Validate the cleaning was successful\n",
    "cleaned_earnings.describe()"
   ]
  },
  {
   "cell_type": "code",
   "execution_count": 28,
   "metadata": {},
   "outputs": [
    {
     "data": {
      "text/plain": [
       "Area                0\n",
       "Median earning      0\n",
       "Population_16+    594\n",
       "Earning range       0\n",
       "Count             594\n",
       "dtype: int64"
      ]
     },
     "execution_count": 28,
     "metadata": {},
     "output_type": "execute_result"
    }
   ],
   "source": [
    "# Check the number of NA values in each column\n",
    "cleaned_earnings.isna().sum()"
   ]
  },
  {
   "cell_type": "code",
   "execution_count": 29,
   "metadata": {},
   "outputs": [
    {
     "data": {
      "text/html": [
       "<div>\n",
       "<style scoped>\n",
       "    .dataframe tbody tr th:only-of-type {\n",
       "        vertical-align: middle;\n",
       "    }\n",
       "\n",
       "    .dataframe tbody tr th {\n",
       "        vertical-align: top;\n",
       "    }\n",
       "\n",
       "    .dataframe thead th {\n",
       "        text-align: right;\n",
       "    }\n",
       "</style>\n",
       "<table border=\"1\" class=\"dataframe\">\n",
       "  <thead>\n",
       "    <tr style=\"text-align: right;\">\n",
       "      <th></th>\n",
       "      <th>Area</th>\n",
       "      <th>Median earning</th>\n",
       "      <th>Population_16+</th>\n",
       "      <th>Earning range</th>\n",
       "      <th>Count</th>\n",
       "    </tr>\n",
       "  </thead>\n",
       "  <tbody>\n",
       "    <tr>\n",
       "      <th>0</th>\n",
       "      <td>Baldwin County, Alabama</td>\n",
       "      <td>56339</td>\n",
       "      <td>90456</td>\n",
       "      <td>9,999 or less</td>\n",
       "      <td>1332</td>\n",
       "    </tr>\n",
       "    <tr>\n",
       "      <th>1</th>\n",
       "      <td>Calhoun County, Alabama</td>\n",
       "      <td>45999</td>\n",
       "      <td>35776</td>\n",
       "      <td>9,999 or less</td>\n",
       "      <td>392</td>\n",
       "    </tr>\n",
       "    <tr>\n",
       "      <th>2</th>\n",
       "      <td>Cullman County, Alabama</td>\n",
       "      <td>50270</td>\n",
       "      <td>30508</td>\n",
       "      <td>9,999 or less</td>\n",
       "      <td>784</td>\n",
       "    </tr>\n",
       "    <tr>\n",
       "      <th>3</th>\n",
       "      <td>DeKalb County, Alabama</td>\n",
       "      <td>40200</td>\n",
       "      <td>22690</td>\n",
       "      <td>9,999 or less</td>\n",
       "      <td>726</td>\n",
       "    </tr>\n",
       "    <tr>\n",
       "      <th>4</th>\n",
       "      <td>Elmore County, Alabama</td>\n",
       "      <td>53486</td>\n",
       "      <td>&lt;NA&gt;</td>\n",
       "      <td>9,999 or less</td>\n",
       "      <td>&lt;NA&gt;</td>\n",
       "    </tr>\n",
       "  </tbody>\n",
       "</table>\n",
       "</div>"
      ],
      "text/plain": [
       "                      Area Median earning Population_16+  Earning range Count\n",
       "0  Baldwin County, Alabama          56339          90456  9,999 or less  1332\n",
       "1  Calhoun County, Alabama          45999          35776  9,999 or less   392\n",
       "2  Cullman County, Alabama          50270          30508  9,999 or less   784\n",
       "3   DeKalb County, Alabama          40200          22690  9,999 or less   726\n",
       "4   Elmore County, Alabama          53486           <NA>  9,999 or less  <NA>"
      ]
     },
     "execution_count": 29,
     "metadata": {},
     "output_type": "execute_result"
    }
   ],
   "source": [
    "# Visually check the NA values\n",
    "cleaned_earnings.head()"
   ]
  },
  {
   "cell_type": "code",
   "execution_count": 30,
   "metadata": {},
   "outputs": [
    {
     "data": {
      "text/html": [
       "<div>\n",
       "<style scoped>\n",
       "    .dataframe tbody tr th:only-of-type {\n",
       "        vertical-align: middle;\n",
       "    }\n",
       "\n",
       "    .dataframe tbody tr th {\n",
       "        vertical-align: top;\n",
       "    }\n",
       "\n",
       "    .dataframe thead th {\n",
       "        text-align: right;\n",
       "    }\n",
       "</style>\n",
       "<table border=\"1\" class=\"dataframe\">\n",
       "  <thead>\n",
       "    <tr style=\"text-align: right;\">\n",
       "      <th></th>\n",
       "      <th>Area</th>\n",
       "      <th>Median earning</th>\n",
       "      <th>Population_16+</th>\n",
       "      <th>Earning range</th>\n",
       "      <th>Count</th>\n",
       "    </tr>\n",
       "  </thead>\n",
       "  <tbody>\n",
       "    <tr>\n",
       "      <th>count</th>\n",
       "      <td>594</td>\n",
       "      <td>594</td>\n",
       "      <td>0</td>\n",
       "      <td>594</td>\n",
       "      <td>0</td>\n",
       "    </tr>\n",
       "    <tr>\n",
       "      <th>unique</th>\n",
       "      <td>66</td>\n",
       "      <td>66</td>\n",
       "      <td>0</td>\n",
       "      <td>9</td>\n",
       "      <td>0</td>\n",
       "    </tr>\n",
       "    <tr>\n",
       "      <th>top</th>\n",
       "      <td>Elmore County, Alabama</td>\n",
       "      <td>53486</td>\n",
       "      <td>NaN</td>\n",
       "      <td>9,999 or less</td>\n",
       "      <td>NaN</td>\n",
       "    </tr>\n",
       "    <tr>\n",
       "      <th>freq</th>\n",
       "      <td>9</td>\n",
       "      <td>9</td>\n",
       "      <td>NaN</td>\n",
       "      <td>66</td>\n",
       "      <td>NaN</td>\n",
       "    </tr>\n",
       "  </tbody>\n",
       "</table>\n",
       "</div>"
      ],
      "text/plain": [
       "                          Area Median earning Population_16+  Earning range  \\\n",
       "count                      594            594              0            594   \n",
       "unique                      66             66              0              9   \n",
       "top     Elmore County, Alabama          53486            NaN  9,999 or less   \n",
       "freq                         9              9            NaN             66   \n",
       "\n",
       "       Count  \n",
       "count      0  \n",
       "unique     0  \n",
       "top      NaN  \n",
       "freq     NaN  "
      ]
     },
     "execution_count": 30,
     "metadata": {},
     "output_type": "execute_result"
    }
   ],
   "source": [
    "na_rows = cleaned_earnings[cleaned_earnings.isnull().any(axis=1)]\n",
    "na_rows.describe()"
   ]
  },
  {
   "cell_type": "markdown",
   "metadata": {},
   "source": [
    "There're 594 rows with at least 1 missing values. Each row has 2 missing values on these columns: 'Population_16+' and 'Count'. \n",
    "For each county in 'Area', there should be 9 corresponding 'Earning range' values. It looks like for value 'Elmore County, Alabama', all of the 9 'Earning range' counts are missing. Therefore, I suspect that there are 66 distinct counties, each has 9 missing earning range counts and 1 missing value for 'Populations_16+'.  \n",
    "The calculation adds up: 66 counties x 9 missing earning range counts = 594 rows with missing values"
   ]
  },
  {
   "cell_type": "code",
   "execution_count": 31,
   "metadata": {},
   "outputs": [
    {
     "data": {
      "text/html": [
       "<div>\n",
       "<style scoped>\n",
       "    .dataframe tbody tr th:only-of-type {\n",
       "        vertical-align: middle;\n",
       "    }\n",
       "\n",
       "    .dataframe tbody tr th {\n",
       "        vertical-align: top;\n",
       "    }\n",
       "\n",
       "    .dataframe thead th {\n",
       "        text-align: right;\n",
       "    }\n",
       "</style>\n",
       "<table border=\"1\" class=\"dataframe\">\n",
       "  <thead>\n",
       "    <tr style=\"text-align: right;\">\n",
       "      <th></th>\n",
       "      <th>Area</th>\n",
       "      <th>Median earning</th>\n",
       "      <th>Population_16+</th>\n",
       "      <th>Earning range</th>\n",
       "      <th>Count</th>\n",
       "    </tr>\n",
       "  </thead>\n",
       "  <tbody>\n",
       "    <tr>\n",
       "      <th>4</th>\n",
       "      <td>Elmore County, Alabama</td>\n",
       "      <td>53486</td>\n",
       "      <td>&lt;NA&gt;</td>\n",
       "      <td>9,999 or less</td>\n",
       "      <td>&lt;NA&gt;</td>\n",
       "    </tr>\n",
       "    <tr>\n",
       "      <th>859</th>\n",
       "      <td>Elmore County, Alabama</td>\n",
       "      <td>53486</td>\n",
       "      <td>&lt;NA&gt;</td>\n",
       "      <td>10,000 - 14,999</td>\n",
       "      <td>&lt;NA&gt;</td>\n",
       "    </tr>\n",
       "    <tr>\n",
       "      <th>1714</th>\n",
       "      <td>Elmore County, Alabama</td>\n",
       "      <td>53486</td>\n",
       "      <td>&lt;NA&gt;</td>\n",
       "      <td>15,000 - 24,999</td>\n",
       "      <td>&lt;NA&gt;</td>\n",
       "    </tr>\n",
       "    <tr>\n",
       "      <th>2569</th>\n",
       "      <td>Elmore County, Alabama</td>\n",
       "      <td>53486</td>\n",
       "      <td>&lt;NA&gt;</td>\n",
       "      <td>25,000 - 34,999</td>\n",
       "      <td>&lt;NA&gt;</td>\n",
       "    </tr>\n",
       "    <tr>\n",
       "      <th>3424</th>\n",
       "      <td>Elmore County, Alabama</td>\n",
       "      <td>53486</td>\n",
       "      <td>&lt;NA&gt;</td>\n",
       "      <td>35,000 - 49,999</td>\n",
       "      <td>&lt;NA&gt;</td>\n",
       "    </tr>\n",
       "    <tr>\n",
       "      <th>4279</th>\n",
       "      <td>Elmore County, Alabama</td>\n",
       "      <td>53486</td>\n",
       "      <td>&lt;NA&gt;</td>\n",
       "      <td>50,000 - 64,999</td>\n",
       "      <td>&lt;NA&gt;</td>\n",
       "    </tr>\n",
       "    <tr>\n",
       "      <th>5134</th>\n",
       "      <td>Elmore County, Alabama</td>\n",
       "      <td>53486</td>\n",
       "      <td>&lt;NA&gt;</td>\n",
       "      <td>65,000 - 74,999</td>\n",
       "      <td>&lt;NA&gt;</td>\n",
       "    </tr>\n",
       "    <tr>\n",
       "      <th>5989</th>\n",
       "      <td>Elmore County, Alabama</td>\n",
       "      <td>53486</td>\n",
       "      <td>&lt;NA&gt;</td>\n",
       "      <td>75,000 - 99,999</td>\n",
       "      <td>&lt;NA&gt;</td>\n",
       "    </tr>\n",
       "    <tr>\n",
       "      <th>6844</th>\n",
       "      <td>Elmore County, Alabama</td>\n",
       "      <td>53486</td>\n",
       "      <td>&lt;NA&gt;</td>\n",
       "      <td>100,000 or more</td>\n",
       "      <td>&lt;NA&gt;</td>\n",
       "    </tr>\n",
       "  </tbody>\n",
       "</table>\n",
       "</div>"
      ],
      "text/plain": [
       "                        Area Median earning Population_16+    Earning range  \\\n",
       "4     Elmore County, Alabama          53486           <NA>    9,999 or less   \n",
       "859   Elmore County, Alabama          53486           <NA>  10,000 - 14,999   \n",
       "1714  Elmore County, Alabama          53486           <NA>  15,000 - 24,999   \n",
       "2569  Elmore County, Alabama          53486           <NA>  25,000 - 34,999   \n",
       "3424  Elmore County, Alabama          53486           <NA>  35,000 - 49,999   \n",
       "4279  Elmore County, Alabama          53486           <NA>  50,000 - 64,999   \n",
       "5134  Elmore County, Alabama          53486           <NA>  65,000 - 74,999   \n",
       "5989  Elmore County, Alabama          53486           <NA>  75,000 - 99,999   \n",
       "6844  Elmore County, Alabama          53486           <NA>  100,000 or more   \n",
       "\n",
       "     Count  \n",
       "4     <NA>  \n",
       "859   <NA>  \n",
       "1714  <NA>  \n",
       "2569  <NA>  \n",
       "3424  <NA>  \n",
       "4279  <NA>  \n",
       "5134  <NA>  \n",
       "5989  <NA>  \n",
       "6844  <NA>  "
      ]
     },
     "execution_count": 31,
     "metadata": {},
     "output_type": "execute_result"
    }
   ],
   "source": [
    "cleaned_earnings[cleaned_earnings['Area'] == 'Elmore County, Alabama']"
   ]
  },
  {
   "cell_type": "code",
   "execution_count": 32,
   "metadata": {},
   "outputs": [
    {
     "data": {
      "text/plain": [
       "Area\n",
       "Elmore County, Alabama                  9\n",
       "Talladega County, Alabama               9\n",
       "Apache County, Arizona                  9\n",
       "Jefferson County, Arkansas              9\n",
       "Lonoke County, Arkansas                 9\n",
       "                                       ..\n",
       "Raleigh County, West Virginia           9\n",
       "Arecibo Municipio, Puerto Rico          9\n",
       "Mayagüez Municipio, Puerto Rico         9\n",
       "Toa Alta Municipio, Puerto Rico         9\n",
       "Trujillo Alto Municipio, Puerto Rico    9\n",
       "Name: count, Length: 66, dtype: int64"
      ]
     },
     "execution_count": 32,
     "metadata": {},
     "output_type": "execute_result"
    }
   ],
   "source": [
    "# Inspect whether each county has 9 pairs of missing values\n",
    "na_rows['Area'].value_counts()"
   ]
  },
  {
   "cell_type": "markdown",
   "metadata": {},
   "source": [
    "I've decided to keep these NA values instead of deleting rows/columns to avoid loosing other data. There is also not enough data to impute these missing values."
   ]
  },
  {
   "cell_type": "markdown",
   "metadata": {
    "id": "8Be77N4I1AmE"
   },
   "source": [
    "#### Quality Issue 3: Validity Issues - Incorrect Data Types"
   ]
  },
  {
   "cell_type": "code",
   "execution_count": 33,
   "metadata": {
    "id": "iMhHyiyLM2I3",
    "scrolled": true
   },
   "outputs": [
    {
     "data": {
      "text/html": [
       "<div>\n",
       "<style scoped>\n",
       "    .dataframe tbody tr th:only-of-type {\n",
       "        vertical-align: middle;\n",
       "    }\n",
       "\n",
       "    .dataframe tbody tr th {\n",
       "        vertical-align: top;\n",
       "    }\n",
       "\n",
       "    .dataframe thead th {\n",
       "        text-align: right;\n",
       "    }\n",
       "</style>\n",
       "<table border=\"1\" class=\"dataframe\">\n",
       "  <thead>\n",
       "    <tr style=\"text-align: right;\">\n",
       "      <th></th>\n",
       "      <th>Area</th>\n",
       "      <th>Median earning</th>\n",
       "      <th>Population_16+</th>\n",
       "      <th>Earning range</th>\n",
       "      <th>Count</th>\n",
       "    </tr>\n",
       "  </thead>\n",
       "  <tbody>\n",
       "    <tr>\n",
       "      <th>0</th>\n",
       "      <td>Baldwin County, Alabama</td>\n",
       "      <td>56339</td>\n",
       "      <td>90456</td>\n",
       "      <td>9,999 or less</td>\n",
       "      <td>1332</td>\n",
       "    </tr>\n",
       "    <tr>\n",
       "      <th>1</th>\n",
       "      <td>Calhoun County, Alabama</td>\n",
       "      <td>45999</td>\n",
       "      <td>35776</td>\n",
       "      <td>9,999 or less</td>\n",
       "      <td>392</td>\n",
       "    </tr>\n",
       "    <tr>\n",
       "      <th>2</th>\n",
       "      <td>Cullman County, Alabama</td>\n",
       "      <td>50270</td>\n",
       "      <td>30508</td>\n",
       "      <td>9,999 or less</td>\n",
       "      <td>784</td>\n",
       "    </tr>\n",
       "    <tr>\n",
       "      <th>3</th>\n",
       "      <td>DeKalb County, Alabama</td>\n",
       "      <td>40200</td>\n",
       "      <td>22690</td>\n",
       "      <td>9,999 or less</td>\n",
       "      <td>726</td>\n",
       "    </tr>\n",
       "    <tr>\n",
       "      <th>4</th>\n",
       "      <td>Elmore County, Alabama</td>\n",
       "      <td>53486</td>\n",
       "      <td>&lt;NA&gt;</td>\n",
       "      <td>9,999 or less</td>\n",
       "      <td>&lt;NA&gt;</td>\n",
       "    </tr>\n",
       "  </tbody>\n",
       "</table>\n",
       "</div>"
      ],
      "text/plain": [
       "                      Area Median earning Population_16+  Earning range Count\n",
       "0  Baldwin County, Alabama          56339          90456  9,999 or less  1332\n",
       "1  Calhoun County, Alabama          45999          35776  9,999 or less   392\n",
       "2  Cullman County, Alabama          50270          30508  9,999 or less   784\n",
       "3   DeKalb County, Alabama          40200          22690  9,999 or less   726\n",
       "4   Elmore County, Alabama          53486           <NA>  9,999 or less  <NA>"
      ]
     },
     "execution_count": 33,
     "metadata": {},
     "output_type": "execute_result"
    }
   ],
   "source": [
    "# Inspecting the dataframe visually\n",
    "cleaned_earnings.head()"
   ]
  },
  {
   "cell_type": "code",
   "execution_count": 34,
   "metadata": {
    "id": "bnviRCUI-bb7",
    "scrolled": true
   },
   "outputs": [
    {
     "name": "stdout",
     "output_type": "stream",
     "text": [
      "<class 'pandas.core.frame.DataFrame'>\n",
      "RangeIndex: 7694 entries, 0 to 7693\n",
      "Data columns (total 5 columns):\n",
      " #   Column          Non-Null Count  Dtype \n",
      "---  ------          --------------  ----- \n",
      " 0   Area            7694 non-null   object\n",
      " 1   Median earning  7694 non-null   object\n",
      " 2   Population_16+  7100 non-null   object\n",
      " 3   Earning range   7694 non-null   object\n",
      " 4   Count           7100 non-null   object\n",
      "dtypes: object(5)\n",
      "memory usage: 300.7+ KB\n"
     ]
    }
   ],
   "source": [
    "# Inspecting the dataframe programmatically\n",
    "cleaned_earnings.info()"
   ]
  },
  {
   "cell_type": "markdown",
   "metadata": {},
   "source": [
    "**Issue and justification:** All the columns have object data type. However, except for the 'Area' and 'Earning range' columns, the rest should have integer data type."
   ]
  },
  {
   "cell_type": "markdown",
   "metadata": {},
   "source": [
    "**Address the issue:** Convert 'Median earning', 'Population_16+', 'Count' columns to numeric type."
   ]
  },
  {
   "cell_type": "markdown",
   "metadata": {},
   "source": [
    "The pd.to_numeric function can handle NA values (non-numeric values) and change data type to float. The .astype() method is used to convert float to Int64."
   ]
  },
  {
   "cell_type": "code",
   "execution_count": 35,
   "metadata": {
    "id": "9UejDWrNMW4a"
   },
   "outputs": [],
   "source": [
    "# Apply the cleaning strategy\n",
    "# Identify columns that should be integer\n",
    "earnings_int_cols = cleaned_earnings.columns[[1,2,4]]\n",
    "# Apply data type change to these columns\n",
    "for col in earnings_int_cols:\n",
    "    cleaned_earnings[col] = pd.to_numeric(cleaned_earnings[col], errors='coerce')\n",
    "    cleaned_earnings[col] = cleaned_earnings[col].astype('Int64')"
   ]
  },
  {
   "cell_type": "code",
   "execution_count": 36,
   "metadata": {
    "id": "oUBee-LPytkv"
   },
   "outputs": [
    {
     "name": "stdout",
     "output_type": "stream",
     "text": [
      "<class 'pandas.core.frame.DataFrame'>\n",
      "RangeIndex: 7694 entries, 0 to 7693\n",
      "Data columns (total 5 columns):\n",
      " #   Column          Non-Null Count  Dtype \n",
      "---  ------          --------------  ----- \n",
      " 0   Area            7694 non-null   object\n",
      " 1   Median earning  7686 non-null   Int64 \n",
      " 2   Population_16+  7092 non-null   Int64 \n",
      " 3   Earning range   7694 non-null   object\n",
      " 4   Count           7092 non-null   Int64 \n",
      "dtypes: Int64(3), object(2)\n",
      "memory usage: 323.2+ KB\n"
     ]
    }
   ],
   "source": [
    "# Validate the cleaning was successful\n",
    "cleaned_earnings.info()"
   ]
  },
  {
   "cell_type": "code",
   "execution_count": 37,
   "metadata": {},
   "outputs": [
    {
     "data": {
      "text/html": [
       "<div>\n",
       "<style scoped>\n",
       "    .dataframe tbody tr th:only-of-type {\n",
       "        vertical-align: middle;\n",
       "    }\n",
       "\n",
       "    .dataframe tbody tr th {\n",
       "        vertical-align: top;\n",
       "    }\n",
       "\n",
       "    .dataframe thead th {\n",
       "        text-align: right;\n",
       "    }\n",
       "</style>\n",
       "<table border=\"1\" class=\"dataframe\">\n",
       "  <thead>\n",
       "    <tr style=\"text-align: right;\">\n",
       "      <th></th>\n",
       "      <th>Area</th>\n",
       "      <th>Median earning</th>\n",
       "      <th>Population_16+</th>\n",
       "      <th>Earning range</th>\n",
       "      <th>Count</th>\n",
       "    </tr>\n",
       "  </thead>\n",
       "  <tbody>\n",
       "    <tr>\n",
       "      <th>0</th>\n",
       "      <td>Baldwin County, Alabama</td>\n",
       "      <td>56339</td>\n",
       "      <td>90456</td>\n",
       "      <td>9,999 or less</td>\n",
       "      <td>1332</td>\n",
       "    </tr>\n",
       "    <tr>\n",
       "      <th>1</th>\n",
       "      <td>Calhoun County, Alabama</td>\n",
       "      <td>45999</td>\n",
       "      <td>35776</td>\n",
       "      <td>9,999 or less</td>\n",
       "      <td>392</td>\n",
       "    </tr>\n",
       "    <tr>\n",
       "      <th>2</th>\n",
       "      <td>Cullman County, Alabama</td>\n",
       "      <td>50270</td>\n",
       "      <td>30508</td>\n",
       "      <td>9,999 or less</td>\n",
       "      <td>784</td>\n",
       "    </tr>\n",
       "    <tr>\n",
       "      <th>3</th>\n",
       "      <td>DeKalb County, Alabama</td>\n",
       "      <td>40200</td>\n",
       "      <td>22690</td>\n",
       "      <td>9,999 or less</td>\n",
       "      <td>726</td>\n",
       "    </tr>\n",
       "    <tr>\n",
       "      <th>4</th>\n",
       "      <td>Elmore County, Alabama</td>\n",
       "      <td>53486</td>\n",
       "      <td>&lt;NA&gt;</td>\n",
       "      <td>9,999 or less</td>\n",
       "      <td>&lt;NA&gt;</td>\n",
       "    </tr>\n",
       "  </tbody>\n",
       "</table>\n",
       "</div>"
      ],
      "text/plain": [
       "                      Area  Median earning  Population_16+  Earning range  \\\n",
       "0  Baldwin County, Alabama           56339           90456  9,999 or less   \n",
       "1  Calhoun County, Alabama           45999           35776  9,999 or less   \n",
       "2  Cullman County, Alabama           50270           30508  9,999 or less   \n",
       "3   DeKalb County, Alabama           40200           22690  9,999 or less   \n",
       "4   Elmore County, Alabama           53486            <NA>  9,999 or less   \n",
       "\n",
       "   Count  \n",
       "0   1332  \n",
       "1    392  \n",
       "2    784  \n",
       "3    726  \n",
       "4   <NA>  "
      ]
     },
     "execution_count": 37,
     "metadata": {},
     "output_type": "execute_result"
    }
   ],
   "source": [
    "cleaned_earnings.head()"
   ]
  },
  {
   "cell_type": "markdown",
   "metadata": {},
   "source": [
    "### 3.2: Dataset 2"
   ]
  },
  {
   "cell_type": "code",
   "execution_count": 38,
   "metadata": {},
   "outputs": [],
   "source": [
    "# Make a copy of the dataset to ensure the raw dataframe is not impacted\n",
    "cleaned_edu = raw_edu.copy()"
   ]
  },
  {
   "cell_type": "markdown",
   "metadata": {
    "id": "lXhGiYyiwwKN"
   },
   "source": [
    "#### Tidiness Issue 1: Unnecessary Variables"
   ]
  },
  {
   "cell_type": "code",
   "execution_count": 39,
   "metadata": {},
   "outputs": [
    {
     "data": {
      "text/html": [
       "<div>\n",
       "<style scoped>\n",
       "    .dataframe tbody tr th:only-of-type {\n",
       "        vertical-align: middle;\n",
       "    }\n",
       "\n",
       "    .dataframe tbody tr th {\n",
       "        vertical-align: top;\n",
       "    }\n",
       "\n",
       "    .dataframe thead th {\n",
       "        text-align: right;\n",
       "    }\n",
       "</style>\n",
       "<table border=\"1\" class=\"dataframe\">\n",
       "  <thead>\n",
       "    <tr style=\"text-align: right;\">\n",
       "      <th></th>\n",
       "      <th>0</th>\n",
       "      <th>1</th>\n",
       "      <th>2</th>\n",
       "      <th>3</th>\n",
       "      <th>4</th>\n",
       "      <th>5</th>\n",
       "    </tr>\n",
       "  </thead>\n",
       "  <tbody>\n",
       "    <tr>\n",
       "      <th>0</th>\n",
       "      <td>NAME</td>\n",
       "      <td>S1501_C01_001E</td>\n",
       "      <td>S1501_C01_006E</td>\n",
       "      <td>S1501_C01_005E</td>\n",
       "      <td>S1501_C01_015E</td>\n",
       "      <td>ucgid</td>\n",
       "    </tr>\n",
       "    <tr>\n",
       "      <th>1</th>\n",
       "      <td>Baldwin County, Alabama</td>\n",
       "      <td>15552</td>\n",
       "      <td>184852</td>\n",
       "      <td>2213</td>\n",
       "      <td>59243</td>\n",
       "      <td>0500000US01003</td>\n",
       "    </tr>\n",
       "  </tbody>\n",
       "</table>\n",
       "</div>"
      ],
      "text/plain": [
       "                         0               1               2               3  \\\n",
       "0                     NAME  S1501_C01_001E  S1501_C01_006E  S1501_C01_005E   \n",
       "1  Baldwin County, Alabama           15552          184852            2213   \n",
       "\n",
       "                4               5  \n",
       "0  S1501_C01_015E           ucgid  \n",
       "1           59243  0500000US01003  "
      ]
     },
     "execution_count": 39,
     "metadata": {},
     "output_type": "execute_result"
    }
   ],
   "source": [
    "# Inspecting the dataframe visually\n",
    "cleaned_edu.head(2)"
   ]
  },
  {
   "cell_type": "code",
   "execution_count": 40,
   "metadata": {},
   "outputs": [
    {
     "data": {
      "text/plain": [
       "0               ucgid\n",
       "1      0500000US01003\n",
       "2      0500000US01015\n",
       "3      0500000US01043\n",
       "4      0500000US01049\n",
       "            ...      \n",
       "850    0500000US72113\n",
       "851    0500000US72127\n",
       "852    0500000US72135\n",
       "853    0500000US72137\n",
       "854    0500000US72139\n",
       "Name: 5, Length: 855, dtype: object"
      ]
     },
     "execution_count": 40,
     "metadata": {},
     "output_type": "execute_result"
    }
   ],
   "source": [
    "# Inspecting the dataframe programmatically\n",
    "# Check the last column\n",
    "cleaned_edu[5]"
   ]
  },
  {
   "cell_type": "markdown",
   "metadata": {},
   "source": [
    "**Issue and justification:** In the raw_edu dataframe, the last column contains geographic id for each county in the US which is unnecessary for analysis and should be removed later."
   ]
  },
  {
   "cell_type": "markdown",
   "metadata": {},
   "source": [
    "**Address the issue:** I will drop the last column because it is unnecessary. The number of columns after dropping will be 5."
   ]
  },
  {
   "cell_type": "code",
   "execution_count": 41,
   "metadata": {},
   "outputs": [],
   "source": [
    "# Apply the cleaning strategy\n",
    "# Drop the last column\n",
    "cleaned_edu.drop(columns=[5], inplace=True)"
   ]
  },
  {
   "cell_type": "code",
   "execution_count": 42,
   "metadata": {},
   "outputs": [
    {
     "data": {
      "text/plain": [
       "(855, 5)"
      ]
     },
     "execution_count": 42,
     "metadata": {},
     "output_type": "execute_result"
    }
   ],
   "source": [
    "# Validate the cleaning was successful\n",
    "cleaned_edu.shape"
   ]
  },
  {
   "cell_type": "code",
   "execution_count": 43,
   "metadata": {},
   "outputs": [
    {
     "data": {
      "text/html": [
       "<div>\n",
       "<style scoped>\n",
       "    .dataframe tbody tr th:only-of-type {\n",
       "        vertical-align: middle;\n",
       "    }\n",
       "\n",
       "    .dataframe tbody tr th {\n",
       "        vertical-align: top;\n",
       "    }\n",
       "\n",
       "    .dataframe thead th {\n",
       "        text-align: right;\n",
       "    }\n",
       "</style>\n",
       "<table border=\"1\" class=\"dataframe\">\n",
       "  <thead>\n",
       "    <tr style=\"text-align: right;\">\n",
       "      <th></th>\n",
       "      <th>0</th>\n",
       "      <th>1</th>\n",
       "      <th>2</th>\n",
       "      <th>3</th>\n",
       "      <th>4</th>\n",
       "    </tr>\n",
       "  </thead>\n",
       "  <tbody>\n",
       "    <tr>\n",
       "      <th>0</th>\n",
       "      <td>NAME</td>\n",
       "      <td>S1501_C01_001E</td>\n",
       "      <td>S1501_C01_006E</td>\n",
       "      <td>S1501_C01_005E</td>\n",
       "      <td>S1501_C01_015E</td>\n",
       "    </tr>\n",
       "    <tr>\n",
       "      <th>1</th>\n",
       "      <td>Baldwin County, Alabama</td>\n",
       "      <td>15552</td>\n",
       "      <td>184852</td>\n",
       "      <td>2213</td>\n",
       "      <td>59243</td>\n",
       "    </tr>\n",
       "  </tbody>\n",
       "</table>\n",
       "</div>"
      ],
      "text/plain": [
       "                         0               1               2               3  \\\n",
       "0                     NAME  S1501_C01_001E  S1501_C01_006E  S1501_C01_005E   \n",
       "1  Baldwin County, Alabama           15552          184852            2213   \n",
       "\n",
       "                4  \n",
       "0  S1501_C01_015E  \n",
       "1           59243  "
      ]
     },
     "execution_count": 43,
     "metadata": {},
     "output_type": "execute_result"
    }
   ],
   "source": [
    "# Visually validate the cleaning was successful\n",
    "cleaned_edu.head(2)"
   ]
  },
  {
   "cell_type": "markdown",
   "metadata": {
    "id": "lXhGiYyiwwKN"
   },
   "source": [
    "#### Tidiness Issue 2: Column Headers Are Not Available"
   ]
  },
  {
   "cell_type": "code",
   "execution_count": 44,
   "metadata": {},
   "outputs": [
    {
     "data": {
      "text/html": [
       "<div>\n",
       "<style scoped>\n",
       "    .dataframe tbody tr th:only-of-type {\n",
       "        vertical-align: middle;\n",
       "    }\n",
       "\n",
       "    .dataframe tbody tr th {\n",
       "        vertical-align: top;\n",
       "    }\n",
       "\n",
       "    .dataframe thead th {\n",
       "        text-align: right;\n",
       "    }\n",
       "</style>\n",
       "<table border=\"1\" class=\"dataframe\">\n",
       "  <thead>\n",
       "    <tr style=\"text-align: right;\">\n",
       "      <th></th>\n",
       "      <th>0</th>\n",
       "      <th>1</th>\n",
       "      <th>2</th>\n",
       "      <th>3</th>\n",
       "      <th>4</th>\n",
       "    </tr>\n",
       "  </thead>\n",
       "  <tbody>\n",
       "    <tr>\n",
       "      <th>0</th>\n",
       "      <td>NAME</td>\n",
       "      <td>S1501_C01_001E</td>\n",
       "      <td>S1501_C01_006E</td>\n",
       "      <td>S1501_C01_005E</td>\n",
       "      <td>S1501_C01_015E</td>\n",
       "    </tr>\n",
       "  </tbody>\n",
       "</table>\n",
       "</div>"
      ],
      "text/plain": [
       "      0               1               2               3               4\n",
       "0  NAME  S1501_C01_001E  S1501_C01_006E  S1501_C01_005E  S1501_C01_015E"
      ]
     },
     "execution_count": 44,
     "metadata": {},
     "output_type": "execute_result"
    }
   ],
   "source": [
    "# Inspecting the dataframe visually\n",
    "cleaned_edu.head(1)"
   ]
  },
  {
   "cell_type": "code",
   "execution_count": 45,
   "metadata": {},
   "outputs": [
    {
     "data": {
      "text/plain": [
       "RangeIndex(start=0, stop=5, step=1)"
      ]
     },
     "execution_count": 45,
     "metadata": {},
     "output_type": "execute_result"
    }
   ],
   "source": [
    "# Inspecting the dataframe programmatically\n",
    "# List the column headers\n",
    "cleaned_edu.columns"
   ]
  },
  {
   "cell_type": "markdown",
   "metadata": {},
   "source": [
    "**Issue and justification:** Every column must be a variable. However, as shown above, the column headers in the raw_edu dataframe are column indices instead, and the actual column headers are in the first row."
   ]
  },
  {
   "cell_type": "markdown",
   "metadata": {},
   "source": [
    "**Address the issue:** The first row is set as column header. However, values in the first row still remain and will be deleted later in cleaning steps for Quality Issue 1."
   ]
  },
  {
   "cell_type": "code",
   "execution_count": 46,
   "metadata": {
    "id": "7zW8O5yx4Y9O"
   },
   "outputs": [],
   "source": [
    "# Apply the cleaning strategy\n",
    "# Set the first row as header\n",
    "cleaned_edu.columns = cleaned_edu.iloc[0]"
   ]
  },
  {
   "cell_type": "code",
   "execution_count": 47,
   "metadata": {},
   "outputs": [
    {
     "data": {
      "text/html": [
       "<div>\n",
       "<style scoped>\n",
       "    .dataframe tbody tr th:only-of-type {\n",
       "        vertical-align: middle;\n",
       "    }\n",
       "\n",
       "    .dataframe tbody tr th {\n",
       "        vertical-align: top;\n",
       "    }\n",
       "\n",
       "    .dataframe thead th {\n",
       "        text-align: right;\n",
       "    }\n",
       "</style>\n",
       "<table border=\"1\" class=\"dataframe\">\n",
       "  <thead>\n",
       "    <tr style=\"text-align: right;\">\n",
       "      <th></th>\n",
       "      <th>NAME</th>\n",
       "      <th>S1501_C01_001E</th>\n",
       "      <th>S1501_C01_006E</th>\n",
       "      <th>S1501_C01_005E</th>\n",
       "      <th>S1501_C01_015E</th>\n",
       "    </tr>\n",
       "  </thead>\n",
       "  <tbody>\n",
       "    <tr>\n",
       "      <th>0</th>\n",
       "      <td>NAME</td>\n",
       "      <td>S1501_C01_001E</td>\n",
       "      <td>S1501_C01_006E</td>\n",
       "      <td>S1501_C01_005E</td>\n",
       "      <td>S1501_C01_015E</td>\n",
       "    </tr>\n",
       "    <tr>\n",
       "      <th>1</th>\n",
       "      <td>Baldwin County, Alabama</td>\n",
       "      <td>15552</td>\n",
       "      <td>184852</td>\n",
       "      <td>2213</td>\n",
       "      <td>59243</td>\n",
       "    </tr>\n",
       "    <tr>\n",
       "      <th>2</th>\n",
       "      <td>Calhoun County, Alabama</td>\n",
       "      <td>13499</td>\n",
       "      <td>78420</td>\n",
       "      <td>605</td>\n",
       "      <td>18557</td>\n",
       "    </tr>\n",
       "  </tbody>\n",
       "</table>\n",
       "</div>"
      ],
      "text/plain": [
       "0                     NAME  S1501_C01_001E  S1501_C01_006E  S1501_C01_005E  \\\n",
       "0                     NAME  S1501_C01_001E  S1501_C01_006E  S1501_C01_005E   \n",
       "1  Baldwin County, Alabama           15552          184852            2213   \n",
       "2  Calhoun County, Alabama           13499           78420             605   \n",
       "\n",
       "0  S1501_C01_015E  \n",
       "0  S1501_C01_015E  \n",
       "1           59243  \n",
       "2           18557  "
      ]
     },
     "execution_count": 47,
     "metadata": {},
     "output_type": "execute_result"
    }
   ],
   "source": [
    "# Visually validate the cleaning was successful\n",
    "cleaned_edu.head(3)"
   ]
  },
  {
   "cell_type": "markdown",
   "metadata": {
    "id": "lXhGiYyiwwKN"
   },
   "source": [
    "#### Tidiness Issue 3: Column Headers Are Codes"
   ]
  },
  {
   "cell_type": "code",
   "execution_count": 48,
   "metadata": {
    "scrolled": true
   },
   "outputs": [
    {
     "data": {
      "text/html": [
       "<div>\n",
       "<style scoped>\n",
       "    .dataframe tbody tr th:only-of-type {\n",
       "        vertical-align: middle;\n",
       "    }\n",
       "\n",
       "    .dataframe tbody tr th {\n",
       "        vertical-align: top;\n",
       "    }\n",
       "\n",
       "    .dataframe thead th {\n",
       "        text-align: right;\n",
       "    }\n",
       "</style>\n",
       "<table border=\"1\" class=\"dataframe\">\n",
       "  <thead>\n",
       "    <tr style=\"text-align: right;\">\n",
       "      <th></th>\n",
       "      <th>NAME</th>\n",
       "      <th>S1501_C01_001E</th>\n",
       "      <th>S1501_C01_006E</th>\n",
       "      <th>S1501_C01_005E</th>\n",
       "      <th>S1501_C01_015E</th>\n",
       "    </tr>\n",
       "  </thead>\n",
       "  <tbody>\n",
       "    <tr>\n",
       "      <th>0</th>\n",
       "      <td>NAME</td>\n",
       "      <td>S1501_C01_001E</td>\n",
       "      <td>S1501_C01_006E</td>\n",
       "      <td>S1501_C01_005E</td>\n",
       "      <td>S1501_C01_015E</td>\n",
       "    </tr>\n",
       "  </tbody>\n",
       "</table>\n",
       "</div>"
      ],
      "text/plain": [
       "0  NAME  S1501_C01_001E  S1501_C01_006E  S1501_C01_005E  S1501_C01_015E\n",
       "0  NAME  S1501_C01_001E  S1501_C01_006E  S1501_C01_005E  S1501_C01_015E"
      ]
     },
     "execution_count": 48,
     "metadata": {},
     "output_type": "execute_result"
    }
   ],
   "source": [
    "# Inspecting the dataframe visually\n",
    "cleaned_edu.head(1)"
   ]
  },
  {
   "cell_type": "code",
   "execution_count": 49,
   "metadata": {},
   "outputs": [
    {
     "data": {
      "text/plain": [
       "Index(['NAME', 'S1501_C01_001E', 'S1501_C01_006E', 'S1501_C01_005E',\n",
       "       'S1501_C01_015E'],\n",
       "      dtype='object', name=0)"
      ]
     },
     "execution_count": 49,
     "metadata": {},
     "output_type": "execute_result"
    }
   ],
   "source": [
    "# Inspecting the dataframe programmatically\n",
    "cleaned_edu.columns"
   ]
  },
  {
   "cell_type": "markdown",
   "metadata": {},
   "source": [
    "Unlike dataset 1, there is no column label in dataset 2, but we still can access the column metadata through API requests."
   ]
  },
  {
   "cell_type": "code",
   "execution_count": 50,
   "metadata": {},
   "outputs": [
    {
     "name": "stdout",
     "output_type": "stream",
     "text": [
      "NAME : Geographic Area Name\n",
      "S1501_C01_001E : Estimate!!Total!!AGE BY EDUCATIONAL ATTAINMENT!!Population 18 to 24 years\n",
      "S1501_C01_006E : Estimate!!Total!!AGE BY EDUCATIONAL ATTAINMENT!!Population 25 years and over\n",
      "S1501_C01_005E : Estimate!!Total!!AGE BY EDUCATIONAL ATTAINMENT!!Population 18 to 24 years!!Bachelor's degree or higher\n",
      "S1501_C01_015E : Estimate!!Total!!AGE BY EDUCATIONAL ATTAINMENT!!Population 25 years and over!!Bachelor's degree or higher\n"
     ]
    }
   ],
   "source": [
    "# Check the column labels for the important columns\n",
    "# Column metadata in JSON format can be accessed through API requests\n",
    "url_col0 = 'https://api.census.gov/data/2023/acs/acs1/subject/variables/NAME.json'\n",
    "url_col1 = 'https://api.census.gov/data/2023/acs/acs1/subject/variables/S1501_C01_001E.json'\n",
    "url_col2 = 'https://api.census.gov/data/2023/acs/acs1/subject/variables/S1501_C01_006E.json'\n",
    "url_col3 = 'https://api.census.gov/data/2023/acs/acs1/subject/variables/S1501_C01_005E.json'\n",
    "url_col4 = 'https://api.census.gov/data/2023/acs/acs1/subject/variables/S1501_C01_015E.json'\n",
    "label_col0 = requests.get(url_col0).json()\n",
    "label_col1 = requests.get(url_col1).json()\n",
    "label_col2 = requests.get(url_col2).json()\n",
    "label_col3 = requests.get(url_col3).json()\n",
    "label_col4 = requests.get(url_col4).json()\n",
    "print(label_col0['name'],':',label_col0['label'])\n",
    "print(label_col1['name'],':',label_col1['label'])\n",
    "print(label_col2['name'],':',label_col2['label'])\n",
    "print(label_col3['name'],':',label_col3['label'])\n",
    "print(label_col4['name'],':',label_col4['label'])"
   ]
  },
  {
   "cell_type": "markdown",
   "metadata": {},
   "source": [
    "A summary of columns' labels:\n",
    "\n",
    "NAME: Geographic Area Name (county and state)  \n",
    "S1501_C01_001E: Total population aged 18-24  \n",
    "S1501_C01_006E: Total population aged 25+  \n",
    "S1501_C01_005E: Number of bachelor's degree holders aged 18-24  \n",
    "S1501_C01_015E: Number of bachelor's degree holders aged 25+"
   ]
  },
  {
   "cell_type": "markdown",
   "metadata": {},
   "source": [
    "**Issue and justification:** Column headers are alphanumeric codes that are hard to understand. These headers should be converted into short descriptive names."
   ]
  },
  {
   "cell_type": "markdown",
   "metadata": {},
   "source": [
    "**Address the issue:** Convert column headers into readable column names."
   ]
  },
  {
   "cell_type": "code",
   "execution_count": 51,
   "metadata": {
    "id": "5Yfb-Yu5MTuE"
   },
   "outputs": [],
   "source": [
    "# Apply the cleaning strategy\n",
    "edu_headers = {'NAME': 'Area', 'S1501_C01_001E': 'Population_18-24', 'S1501_C01_006E': 'Population_25+',\n",
    "               'S1501_C01_005E': 'BA/BS_18-24', 'S1501_C01_015E': 'BA/BS_25+'}\n",
    "cleaned_edu.rename(columns=edu_headers, inplace=True)"
   ]
  },
  {
   "cell_type": "code",
   "execution_count": 52,
   "metadata": {
    "id": "ionB2sRaMUmY"
   },
   "outputs": [
    {
     "data": {
      "text/plain": [
       "Index(['Area', 'Population_18-24', 'Population_25+', 'BA/BS_18-24',\n",
       "       'BA/BS_25+'],\n",
       "      dtype='object', name=0)"
      ]
     },
     "execution_count": 52,
     "metadata": {},
     "output_type": "execute_result"
    }
   ],
   "source": [
    "# Validate the cleaning was successful\n",
    "cleaned_edu.columns"
   ]
  },
  {
   "cell_type": "code",
   "execution_count": 53,
   "metadata": {},
   "outputs": [
    {
     "data": {
      "text/html": [
       "<div>\n",
       "<style scoped>\n",
       "    .dataframe tbody tr th:only-of-type {\n",
       "        vertical-align: middle;\n",
       "    }\n",
       "\n",
       "    .dataframe tbody tr th {\n",
       "        vertical-align: top;\n",
       "    }\n",
       "\n",
       "    .dataframe thead th {\n",
       "        text-align: right;\n",
       "    }\n",
       "</style>\n",
       "<table border=\"1\" class=\"dataframe\">\n",
       "  <thead>\n",
       "    <tr style=\"text-align: right;\">\n",
       "      <th></th>\n",
       "      <th>Area</th>\n",
       "      <th>Population_18-24</th>\n",
       "      <th>Population_25+</th>\n",
       "      <th>BA/BS_18-24</th>\n",
       "      <th>BA/BS_25+</th>\n",
       "    </tr>\n",
       "  </thead>\n",
       "  <tbody>\n",
       "    <tr>\n",
       "      <th>0</th>\n",
       "      <td>NAME</td>\n",
       "      <td>S1501_C01_001E</td>\n",
       "      <td>S1501_C01_006E</td>\n",
       "      <td>S1501_C01_005E</td>\n",
       "      <td>S1501_C01_015E</td>\n",
       "    </tr>\n",
       "    <tr>\n",
       "      <th>1</th>\n",
       "      <td>Baldwin County, Alabama</td>\n",
       "      <td>15552</td>\n",
       "      <td>184852</td>\n",
       "      <td>2213</td>\n",
       "      <td>59243</td>\n",
       "    </tr>\n",
       "    <tr>\n",
       "      <th>2</th>\n",
       "      <td>Calhoun County, Alabama</td>\n",
       "      <td>13499</td>\n",
       "      <td>78420</td>\n",
       "      <td>605</td>\n",
       "      <td>18557</td>\n",
       "    </tr>\n",
       "  </tbody>\n",
       "</table>\n",
       "</div>"
      ],
      "text/plain": [
       "0                     Area Population_18-24  Population_25+     BA/BS_18-24  \\\n",
       "0                     NAME   S1501_C01_001E  S1501_C01_006E  S1501_C01_005E   \n",
       "1  Baldwin County, Alabama            15552          184852            2213   \n",
       "2  Calhoun County, Alabama            13499           78420             605   \n",
       "\n",
       "0       BA/BS_25+  \n",
       "0  S1501_C01_015E  \n",
       "1           59243  \n",
       "2           18557  "
      ]
     },
     "execution_count": 53,
     "metadata": {},
     "output_type": "execute_result"
    }
   ],
   "source": [
    "# Visually validate the cleaning was successful\n",
    "cleaned_edu.head(3)"
   ]
  },
  {
   "cell_type": "markdown",
   "metadata": {
    "id": "adaK2iPNzVu4"
   },
   "source": [
    "#### Quality Issue 1: Inconsistency"
   ]
  },
  {
   "cell_type": "code",
   "execution_count": 54,
   "metadata": {},
   "outputs": [
    {
     "data": {
      "text/html": [
       "<div>\n",
       "<style scoped>\n",
       "    .dataframe tbody tr th:only-of-type {\n",
       "        vertical-align: middle;\n",
       "    }\n",
       "\n",
       "    .dataframe tbody tr th {\n",
       "        vertical-align: top;\n",
       "    }\n",
       "\n",
       "    .dataframe thead th {\n",
       "        text-align: right;\n",
       "    }\n",
       "</style>\n",
       "<table border=\"1\" class=\"dataframe\">\n",
       "  <thead>\n",
       "    <tr style=\"text-align: right;\">\n",
       "      <th></th>\n",
       "      <th>Area</th>\n",
       "      <th>Population_18-24</th>\n",
       "      <th>Population_25+</th>\n",
       "      <th>BA/BS_18-24</th>\n",
       "      <th>BA/BS_25+</th>\n",
       "    </tr>\n",
       "  </thead>\n",
       "  <tbody>\n",
       "    <tr>\n",
       "      <th>0</th>\n",
       "      <td>NAME</td>\n",
       "      <td>S1501_C01_001E</td>\n",
       "      <td>S1501_C01_006E</td>\n",
       "      <td>S1501_C01_005E</td>\n",
       "      <td>S1501_C01_015E</td>\n",
       "    </tr>\n",
       "    <tr>\n",
       "      <th>1</th>\n",
       "      <td>Baldwin County, Alabama</td>\n",
       "      <td>15552</td>\n",
       "      <td>184852</td>\n",
       "      <td>2213</td>\n",
       "      <td>59243</td>\n",
       "    </tr>\n",
       "    <tr>\n",
       "      <th>2</th>\n",
       "      <td>Calhoun County, Alabama</td>\n",
       "      <td>13499</td>\n",
       "      <td>78420</td>\n",
       "      <td>605</td>\n",
       "      <td>18557</td>\n",
       "    </tr>\n",
       "    <tr>\n",
       "      <th>3</th>\n",
       "      <td>Cullman County, Alabama</td>\n",
       "      <td>7223</td>\n",
       "      <td>64307</td>\n",
       "      <td>661</td>\n",
       "      <td>11065</td>\n",
       "    </tr>\n",
       "    <tr>\n",
       "      <th>4</th>\n",
       "      <td>DeKalb County, Alabama</td>\n",
       "      <td>6538</td>\n",
       "      <td>48611</td>\n",
       "      <td>594</td>\n",
       "      <td>6542</td>\n",
       "    </tr>\n",
       "  </tbody>\n",
       "</table>\n",
       "</div>"
      ],
      "text/plain": [
       "0                     Area Population_18-24  Population_25+     BA/BS_18-24  \\\n",
       "0                     NAME   S1501_C01_001E  S1501_C01_006E  S1501_C01_005E   \n",
       "1  Baldwin County, Alabama            15552          184852            2213   \n",
       "2  Calhoun County, Alabama            13499           78420             605   \n",
       "3  Cullman County, Alabama             7223           64307             661   \n",
       "4   DeKalb County, Alabama             6538           48611             594   \n",
       "\n",
       "0       BA/BS_25+  \n",
       "0  S1501_C01_015E  \n",
       "1           59243  \n",
       "2           18557  \n",
       "3           11065  \n",
       "4            6542  "
      ]
     },
     "execution_count": 54,
     "metadata": {},
     "output_type": "execute_result"
    }
   ],
   "source": [
    "# Inspecting the dataframe visually\n",
    "cleaned_edu.head()"
   ]
  },
  {
   "cell_type": "code",
   "execution_count": 55,
   "metadata": {},
   "outputs": [
    {
     "name": "stdout",
     "output_type": "stream",
     "text": [
      "0    S1501_C01_001E\n",
      "Name: Population_18-24, dtype: object\n",
      "0    S1501_C01_006E\n",
      "Name: Population_25+, dtype: object\n",
      "0    S1501_C01_005E\n",
      "Name: BA/BS_18-24, dtype: object\n",
      "0    S1501_C01_015E\n",
      "Name: BA/BS_25+, dtype: object\n"
     ]
    }
   ],
   "source": [
    "# Inspecting the dataframe programmatically\n",
    "# Check if there is any long value in columns that are expected to contain numbers with under 10 digits\n",
    "for col in range(1,5):\n",
    "    long_vals = cleaned_edu.iloc[:, col].apply(len) > 10\n",
    "    # Check the location of long values\n",
    "    print(cleaned_edu.iloc[:,col][long_vals])"
   ]
  },
  {
   "cell_type": "markdown",
   "metadata": {},
   "source": [
    "**Issue and justification:** The first row in this dataset also does not contain the actual observations as expected."
   ]
  },
  {
   "cell_type": "markdown",
   "metadata": {},
   "source": [
    "**Justification:** Since the first row contains column names and not valid observation, it should be removed. The first observation in the dataset should be Baldwin County, Alabama."
   ]
  },
  {
   "cell_type": "code",
   "execution_count": 56,
   "metadata": {},
   "outputs": [],
   "source": [
    "# Apply the cleaning strategy\n",
    "# Remove the first row and reset the row index\n",
    "cleaned_edu.drop(0, inplace=True)\n",
    "cleaned_edu = cleaned_edu.reset_index(drop=True)"
   ]
  },
  {
   "cell_type": "code",
   "execution_count": 57,
   "metadata": {},
   "outputs": [
    {
     "data": {
      "text/html": [
       "<div>\n",
       "<style scoped>\n",
       "    .dataframe tbody tr th:only-of-type {\n",
       "        vertical-align: middle;\n",
       "    }\n",
       "\n",
       "    .dataframe tbody tr th {\n",
       "        vertical-align: top;\n",
       "    }\n",
       "\n",
       "    .dataframe thead th {\n",
       "        text-align: right;\n",
       "    }\n",
       "</style>\n",
       "<table border=\"1\" class=\"dataframe\">\n",
       "  <thead>\n",
       "    <tr style=\"text-align: right;\">\n",
       "      <th></th>\n",
       "      <th>Area</th>\n",
       "      <th>Population_18-24</th>\n",
       "      <th>Population_25+</th>\n",
       "      <th>BA/BS_18-24</th>\n",
       "      <th>BA/BS_25+</th>\n",
       "    </tr>\n",
       "  </thead>\n",
       "  <tbody>\n",
       "    <tr>\n",
       "      <th>0</th>\n",
       "      <td>Baldwin County, Alabama</td>\n",
       "      <td>15552</td>\n",
       "      <td>184852</td>\n",
       "      <td>2213</td>\n",
       "      <td>59243</td>\n",
       "    </tr>\n",
       "    <tr>\n",
       "      <th>1</th>\n",
       "      <td>Calhoun County, Alabama</td>\n",
       "      <td>13499</td>\n",
       "      <td>78420</td>\n",
       "      <td>605</td>\n",
       "      <td>18557</td>\n",
       "    </tr>\n",
       "    <tr>\n",
       "      <th>2</th>\n",
       "      <td>Cullman County, Alabama</td>\n",
       "      <td>7223</td>\n",
       "      <td>64307</td>\n",
       "      <td>661</td>\n",
       "      <td>11065</td>\n",
       "    </tr>\n",
       "  </tbody>\n",
       "</table>\n",
       "</div>"
      ],
      "text/plain": [
       "0                     Area Population_18-24 Population_25+ BA/BS_18-24  \\\n",
       "0  Baldwin County, Alabama            15552         184852        2213   \n",
       "1  Calhoun County, Alabama            13499          78420         605   \n",
       "2  Cullman County, Alabama             7223          64307         661   \n",
       "\n",
       "0 BA/BS_25+  \n",
       "0     59243  \n",
       "1     18557  \n",
       "2     11065  "
      ]
     },
     "execution_count": 57,
     "metadata": {},
     "output_type": "execute_result"
    }
   ],
   "source": [
    "# Validate the cleaning was successful\n",
    "cleaned_edu.head(3)"
   ]
  },
  {
   "cell_type": "markdown",
   "metadata": {},
   "source": [
    "#### Quality Issue 2: Completeness Issues"
   ]
  },
  {
   "cell_type": "code",
   "execution_count": 58,
   "metadata": {
    "scrolled": true
   },
   "outputs": [
    {
     "data": {
      "text/html": [
       "<div>\n",
       "<style scoped>\n",
       "    .dataframe tbody tr th:only-of-type {\n",
       "        vertical-align: middle;\n",
       "    }\n",
       "\n",
       "    .dataframe tbody tr th {\n",
       "        vertical-align: top;\n",
       "    }\n",
       "\n",
       "    .dataframe thead th {\n",
       "        text-align: right;\n",
       "    }\n",
       "</style>\n",
       "<table border=\"1\" class=\"dataframe\">\n",
       "  <thead>\n",
       "    <tr style=\"text-align: right;\">\n",
       "      <th></th>\n",
       "      <th>Area</th>\n",
       "      <th>Population_18-24</th>\n",
       "      <th>Population_25+</th>\n",
       "      <th>BA/BS_18-24</th>\n",
       "      <th>BA/BS_25+</th>\n",
       "    </tr>\n",
       "  </thead>\n",
       "  <tbody>\n",
       "    <tr>\n",
       "      <th>468</th>\n",
       "      <td>Monroe County, New York</td>\n",
       "      <td>72419</td>\n",
       "      <td>525326</td>\n",
       "      <td>11997</td>\n",
       "      <td>217881</td>\n",
       "    </tr>\n",
       "    <tr>\n",
       "      <th>250</th>\n",
       "      <td>Black Hawk County, Iowa</td>\n",
       "      <td>18173</td>\n",
       "      <td>84166</td>\n",
       "      <td>3074</td>\n",
       "      <td>24440</td>\n",
       "    </tr>\n",
       "    <tr>\n",
       "      <th>537</th>\n",
       "      <td>Burleigh County, North Dakota</td>\n",
       "      <td>8947</td>\n",
       "      <td>68141</td>\n",
       "      <td>1575</td>\n",
       "      <td>27170</td>\n",
       "    </tr>\n",
       "    <tr>\n",
       "      <th>11</th>\n",
       "      <td>Madison County, Alabama</td>\n",
       "      <td>39939</td>\n",
       "      <td>284230</td>\n",
       "      <td>8256</td>\n",
       "      <td>135640</td>\n",
       "    </tr>\n",
       "    <tr>\n",
       "      <th>488</th>\n",
       "      <td>Tompkins County, New York</td>\n",
       "      <td>28833</td>\n",
       "      <td>60770</td>\n",
       "      <td>6176</td>\n",
       "      <td>36856</td>\n",
       "    </tr>\n",
       "    <tr>\n",
       "      <th>346</th>\n",
       "      <td>Lapeer County, Michigan</td>\n",
       "      <td>5938</td>\n",
       "      <td>65063</td>\n",
       "      <td>268</td>\n",
       "      <td>12835</td>\n",
       "    </tr>\n",
       "    <tr>\n",
       "      <th>844</th>\n",
       "      <td>Bayamón Municipio, Puerto Rico</td>\n",
       "      <td>16064</td>\n",
       "      <td>137753</td>\n",
       "      <td>1916</td>\n",
       "      <td>48083</td>\n",
       "    </tr>\n",
       "    <tr>\n",
       "      <th>509</th>\n",
       "      <td>Gaston County, North Carolina</td>\n",
       "      <td>19433</td>\n",
       "      <td>164829</td>\n",
       "      <td>2297</td>\n",
       "      <td>46729</td>\n",
       "    </tr>\n",
       "    <tr>\n",
       "      <th>668</th>\n",
       "      <td>Spartanburg County, South Carolina</td>\n",
       "      <td>31708</td>\n",
       "      <td>241752</td>\n",
       "      <td>3147</td>\n",
       "      <td>62298</td>\n",
       "    </tr>\n",
       "    <tr>\n",
       "      <th>826</th>\n",
       "      <td>Marathon County, Wisconsin</td>\n",
       "      <td>9879</td>\n",
       "      <td>97756</td>\n",
       "      <td>601</td>\n",
       "      <td>27304</td>\n",
       "    </tr>\n",
       "  </tbody>\n",
       "</table>\n",
       "</div>"
      ],
      "text/plain": [
       "0                                  Area Population_18-24 Population_25+  \\\n",
       "468             Monroe County, New York            72419         525326   \n",
       "250             Black Hawk County, Iowa            18173          84166   \n",
       "537       Burleigh County, North Dakota             8947          68141   \n",
       "11              Madison County, Alabama            39939         284230   \n",
       "488           Tompkins County, New York            28833          60770   \n",
       "346             Lapeer County, Michigan             5938          65063   \n",
       "844      Bayamón Municipio, Puerto Rico            16064         137753   \n",
       "509       Gaston County, North Carolina            19433         164829   \n",
       "668  Spartanburg County, South Carolina            31708         241752   \n",
       "826          Marathon County, Wisconsin             9879          97756   \n",
       "\n",
       "0   BA/BS_18-24 BA/BS_25+  \n",
       "468       11997    217881  \n",
       "250        3074     24440  \n",
       "537        1575     27170  \n",
       "11         8256    135640  \n",
       "488        6176     36856  \n",
       "346         268     12835  \n",
       "844        1916     48083  \n",
       "509        2297     46729  \n",
       "668        3147     62298  \n",
       "826         601     27304  "
      ]
     },
     "execution_count": 58,
     "metadata": {},
     "output_type": "execute_result"
    }
   ],
   "source": [
    "# Inspecting the dataframe visually\n",
    "cleaned_edu.sample(10, random_state=5)"
   ]
  },
  {
   "cell_type": "code",
   "execution_count": 59,
   "metadata": {
    "id": "-qfcocStzsKg",
    "scrolled": true
   },
   "outputs": [
    {
     "data": {
      "text/plain": [
       "0\n",
       "Area                0\n",
       "Population_18-24    0\n",
       "Population_25+      0\n",
       "BA/BS_18-24         0\n",
       "BA/BS_25+           0\n",
       "dtype: int64"
      ]
     },
     "execution_count": 59,
     "metadata": {},
     "output_type": "execute_result"
    }
   ],
   "source": [
    "# Inspecting the dataframe programmatically\n",
    "# Check the number of missing values in each column\n",
    "cleaned_edu.isnull().sum()"
   ]
  },
  {
   "cell_type": "code",
   "execution_count": 60,
   "metadata": {},
   "outputs": [
    {
     "data": {
      "text/html": [
       "<div>\n",
       "<style scoped>\n",
       "    .dataframe tbody tr th:only-of-type {\n",
       "        vertical-align: middle;\n",
       "    }\n",
       "\n",
       "    .dataframe tbody tr th {\n",
       "        vertical-align: top;\n",
       "    }\n",
       "\n",
       "    .dataframe thead th {\n",
       "        text-align: right;\n",
       "    }\n",
       "</style>\n",
       "<table border=\"1\" class=\"dataframe\">\n",
       "  <thead>\n",
       "    <tr style=\"text-align: right;\">\n",
       "      <th></th>\n",
       "      <th>Area</th>\n",
       "      <th>Population_18-24</th>\n",
       "      <th>Population_25+</th>\n",
       "      <th>BA/BS_18-24</th>\n",
       "      <th>BA/BS_25+</th>\n",
       "    </tr>\n",
       "  </thead>\n",
       "  <tbody>\n",
       "    <tr>\n",
       "      <th>count</th>\n",
       "      <td>854</td>\n",
       "      <td>854</td>\n",
       "      <td>854</td>\n",
       "      <td>854</td>\n",
       "      <td>854</td>\n",
       "    </tr>\n",
       "    <tr>\n",
       "      <th>unique</th>\n",
       "      <td>854</td>\n",
       "      <td>838</td>\n",
       "      <td>853</td>\n",
       "      <td>780</td>\n",
       "      <td>853</td>\n",
       "    </tr>\n",
       "    <tr>\n",
       "      <th>top</th>\n",
       "      <td>Trujillo Alto Municipio, Puerto Rico</td>\n",
       "      <td>6482</td>\n",
       "      <td>65471</td>\n",
       "      <td>0</td>\n",
       "      <td>77243</td>\n",
       "    </tr>\n",
       "    <tr>\n",
       "      <th>freq</th>\n",
       "      <td>1</td>\n",
       "      <td>3</td>\n",
       "      <td>2</td>\n",
       "      <td>6</td>\n",
       "      <td>2</td>\n",
       "    </tr>\n",
       "  </tbody>\n",
       "</table>\n",
       "</div>"
      ],
      "text/plain": [
       "0                                       Area Population_18-24 Population_25+  \\\n",
       "count                                    854              854            854   \n",
       "unique                                   854              838            853   \n",
       "top     Trujillo Alto Municipio, Puerto Rico             6482          65471   \n",
       "freq                                       1                3              2   \n",
       "\n",
       "0      BA/BS_18-24 BA/BS_25+  \n",
       "count          854       854  \n",
       "unique         780       853  \n",
       "top              0     77243  \n",
       "freq             6         2  "
      ]
     },
     "execution_count": 60,
     "metadata": {},
     "output_type": "execute_result"
    }
   ],
   "source": [
    "# Check for the most common value in each column\n",
    "cleaned_edu.describe()"
   ]
  },
  {
   "cell_type": "markdown",
   "metadata": {},
   "source": [
    "There seems to be no missing value in the second dataset. The 0 value occurs 6 times in the column 3. This column represents the number of bachelor's degree holders aged 18-24. The occurrences of 0 need further inspection to determine whether they are missing values or actual observations."
   ]
  },
  {
   "cell_type": "code",
   "execution_count": 61,
   "metadata": {},
   "outputs": [
    {
     "data": {
      "text/html": [
       "<div>\n",
       "<style scoped>\n",
       "    .dataframe tbody tr th:only-of-type {\n",
       "        vertical-align: middle;\n",
       "    }\n",
       "\n",
       "    .dataframe tbody tr th {\n",
       "        vertical-align: top;\n",
       "    }\n",
       "\n",
       "    .dataframe thead th {\n",
       "        text-align: right;\n",
       "    }\n",
       "</style>\n",
       "<table border=\"1\" class=\"dataframe\">\n",
       "  <thead>\n",
       "    <tr style=\"text-align: right;\">\n",
       "      <th></th>\n",
       "      <th>Area</th>\n",
       "      <th>Population_18-24</th>\n",
       "      <th>Population_25+</th>\n",
       "      <th>BA/BS_18-24</th>\n",
       "      <th>BA/BS_25+</th>\n",
       "    </tr>\n",
       "  </thead>\n",
       "  <tbody>\n",
       "    <tr>\n",
       "      <th>24</th>\n",
       "      <td>Cochise County, Arizona</td>\n",
       "      <td>9920</td>\n",
       "      <td>89455</td>\n",
       "      <td>0</td>\n",
       "      <td>22923</td>\n",
       "    </tr>\n",
       "    <tr>\n",
       "      <th>38</th>\n",
       "      <td>Lonoke County, Arkansas</td>\n",
       "      <td>5355</td>\n",
       "      <td>52158</td>\n",
       "      <td>0</td>\n",
       "      <td>11811</td>\n",
       "    </tr>\n",
       "    <tr>\n",
       "      <th>119</th>\n",
       "      <td>Columbia County, Florida</td>\n",
       "      <td>4627</td>\n",
       "      <td>53112</td>\n",
       "      <td>0</td>\n",
       "      <td>8902</td>\n",
       "    </tr>\n",
       "    <tr>\n",
       "      <th>186</th>\n",
       "      <td>Spalding County, Georgia</td>\n",
       "      <td>6546</td>\n",
       "      <td>47107</td>\n",
       "      <td>0</td>\n",
       "      <td>8583</td>\n",
       "    </tr>\n",
       "    <tr>\n",
       "      <th>200</th>\n",
       "      <td>Twin Falls County, Idaho</td>\n",
       "      <td>8634</td>\n",
       "      <td>62141</td>\n",
       "      <td>0</td>\n",
       "      <td>12313</td>\n",
       "    </tr>\n",
       "    <tr>\n",
       "      <th>277</th>\n",
       "      <td>McCracken County, Kentucky</td>\n",
       "      <td>4572</td>\n",
       "      <td>48018</td>\n",
       "      <td>0</td>\n",
       "      <td>12143</td>\n",
       "    </tr>\n",
       "  </tbody>\n",
       "</table>\n",
       "</div>"
      ],
      "text/plain": [
       "0                          Area Population_18-24 Population_25+ BA/BS_18-24  \\\n",
       "24      Cochise County, Arizona             9920          89455           0   \n",
       "38      Lonoke County, Arkansas             5355          52158           0   \n",
       "119    Columbia County, Florida             4627          53112           0   \n",
       "186    Spalding County, Georgia             6546          47107           0   \n",
       "200    Twin Falls County, Idaho             8634          62141           0   \n",
       "277  McCracken County, Kentucky             4572          48018           0   \n",
       "\n",
       "0   BA/BS_25+  \n",
       "24      22923  \n",
       "38      11811  \n",
       "119      8902  \n",
       "186      8583  \n",
       "200     12313  \n",
       "277     12143  "
      ]
     },
     "execution_count": 61,
     "metadata": {},
     "output_type": "execute_result"
    }
   ],
   "source": [
    "# Identify rows where 0 occurs. Because all columns are of object type, the numbers are actually strings, including 0.\n",
    "cleaned_edu[(cleaned_edu == '0').any(axis=1)]"
   ]
  },
  {
   "cell_type": "markdown",
   "metadata": {},
   "source": [
    "We can cross-check these 0's against another subset from the U.S. Census Bureau in 2022. This dataset contains the above 6 counties and the same  variables."
   ]
  },
  {
   "cell_type": "code",
   "execution_count": 62,
   "metadata": {},
   "outputs": [
    {
     "data": {
      "text/html": [
       "<div>\n",
       "<style scoped>\n",
       "    .dataframe tbody tr th:only-of-type {\n",
       "        vertical-align: middle;\n",
       "    }\n",
       "\n",
       "    .dataframe tbody tr th {\n",
       "        vertical-align: top;\n",
       "    }\n",
       "\n",
       "    .dataframe thead th {\n",
       "        text-align: right;\n",
       "    }\n",
       "</style>\n",
       "<table border=\"1\" class=\"dataframe\">\n",
       "  <thead>\n",
       "    <tr style=\"text-align: right;\">\n",
       "      <th></th>\n",
       "      <th>Area</th>\n",
       "      <th>Population_18-24</th>\n",
       "      <th>Population_25+</th>\n",
       "      <th>BA/BS_18-24</th>\n",
       "      <th>BA/BS_25+</th>\n",
       "      <th>ucgid</th>\n",
       "    </tr>\n",
       "  </thead>\n",
       "  <tbody>\n",
       "    <tr>\n",
       "      <th>0</th>\n",
       "      <td>NAME</td>\n",
       "      <td>S1501_C01_001E</td>\n",
       "      <td>S1501_C01_006E</td>\n",
       "      <td>S1501_C01_005E</td>\n",
       "      <td>S1501_C01_015E</td>\n",
       "      <td>ucgid</td>\n",
       "    </tr>\n",
       "    <tr>\n",
       "      <th>1</th>\n",
       "      <td>Cochise County, Arizona</td>\n",
       "      <td>10485</td>\n",
       "      <td>89088</td>\n",
       "      <td>849</td>\n",
       "      <td>24641</td>\n",
       "      <td>0500000US04003</td>\n",
       "    </tr>\n",
       "    <tr>\n",
       "      <th>2</th>\n",
       "      <td>Lonoke County, Arkansas</td>\n",
       "      <td>6009</td>\n",
       "      <td>51112</td>\n",
       "      <td>90</td>\n",
       "      <td>10804</td>\n",
       "      <td>0500000US05085</td>\n",
       "    </tr>\n",
       "    <tr>\n",
       "      <th>3</th>\n",
       "      <td>Columbia County, Florida</td>\n",
       "      <td>5922</td>\n",
       "      <td>50436</td>\n",
       "      <td>116</td>\n",
       "      <td>9466</td>\n",
       "      <td>0500000US12023</td>\n",
       "    </tr>\n",
       "    <tr>\n",
       "      <th>4</th>\n",
       "      <td>Spalding County, Georgia</td>\n",
       "      <td>6533</td>\n",
       "      <td>46443</td>\n",
       "      <td>27</td>\n",
       "      <td>9259</td>\n",
       "      <td>0500000US13255</td>\n",
       "    </tr>\n",
       "    <tr>\n",
       "      <th>5</th>\n",
       "      <td>Twin Falls County, Idaho</td>\n",
       "      <td>7574</td>\n",
       "      <td>61479</td>\n",
       "      <td>607</td>\n",
       "      <td>13849</td>\n",
       "      <td>0500000US16083</td>\n",
       "    </tr>\n",
       "    <tr>\n",
       "      <th>6</th>\n",
       "      <td>McCracken County, Kentucky</td>\n",
       "      <td>5663</td>\n",
       "      <td>46913</td>\n",
       "      <td>512</td>\n",
       "      <td>14985</td>\n",
       "      <td>0500000US21145</td>\n",
       "    </tr>\n",
       "  </tbody>\n",
       "</table>\n",
       "</div>"
      ],
      "text/plain": [
       "                         Area Population_18-24  Population_25+  \\\n",
       "0                        NAME   S1501_C01_001E  S1501_C01_006E   \n",
       "1     Cochise County, Arizona            10485           89088   \n",
       "2     Lonoke County, Arkansas             6009           51112   \n",
       "3    Columbia County, Florida             5922           50436   \n",
       "4    Spalding County, Georgia             6533           46443   \n",
       "5    Twin Falls County, Idaho             7574           61479   \n",
       "6  McCracken County, Kentucky             5663           46913   \n",
       "\n",
       "      BA/BS_18-24       BA/BS_25+           ucgid  \n",
       "0  S1501_C01_005E  S1501_C01_015E           ucgid  \n",
       "1             849           24641  0500000US04003  \n",
       "2              90           10804  0500000US05085  \n",
       "3             116            9466  0500000US12023  \n",
       "4              27            9259  0500000US13255  \n",
       "5             607           13849  0500000US16083  \n",
       "6             512           14985  0500000US21145  "
      ]
     },
     "execution_count": 62,
     "metadata": {},
     "output_type": "execute_result"
    }
   ],
   "source": [
    "url = 'https://api.census.gov/data/2022/acs/acs1/subject?get=NAME,S1501_C01_001E,S1501_C01_006E,S1501_C01_005E,S1501_C01_015E&ucgid=0500000US04003,0500000US05085,0500000US12023,0500000US13255,0500000US16083,0500000US21145'\n",
    "data = requests.get(url).json()\n",
    "crosscheck = pd.DataFrame(data,columns=['Area','Population_18-24','Population_25+','BA/BS_18-24','BA/BS_25+','ucgid'])\n",
    "crosscheck"
   ]
  },
  {
   "cell_type": "markdown",
   "metadata": {},
   "source": [
    "**Issue and justification:** The dataset examines educational attainment among the population aged 18-24 across six selected counties in 2022. According to the 'crosscheck' dataframe, in 2022, these 6 counties had individuals aged 18-24 who hold a bachelor's degree. It's very unlikely that these counties had no bachelor's degree holder just in 2023.  \n",
    "Conclusion: The occurrences of 0 are missing values, not actual observations."
   ]
  },
  {
   "cell_type": "markdown",
   "metadata": {},
   "source": [
    "**Address the issue:** I've decided to impute the missing values using data in 2022. The estimated value is calculated based on the ratio of  bachelor's degree holders aged 18-24 and the total population aged 18-14 in the 2022 dataset."
   ]
  },
  {
   "cell_type": "code",
   "execution_count": 63,
   "metadata": {
    "scrolled": true
   },
   "outputs": [
    {
     "data": {
      "text/html": [
       "<div>\n",
       "<style scoped>\n",
       "    .dataframe tbody tr th:only-of-type {\n",
       "        vertical-align: middle;\n",
       "    }\n",
       "\n",
       "    .dataframe tbody tr th {\n",
       "        vertical-align: top;\n",
       "    }\n",
       "\n",
       "    .dataframe thead th {\n",
       "        text-align: right;\n",
       "    }\n",
       "</style>\n",
       "<table border=\"1\" class=\"dataframe\">\n",
       "  <thead>\n",
       "    <tr style=\"text-align: right;\">\n",
       "      <th></th>\n",
       "      <th>Area</th>\n",
       "      <th>Population_18-24</th>\n",
       "      <th>Population_25+</th>\n",
       "      <th>BA/BS_18-24</th>\n",
       "      <th>BA/BS_25+</th>\n",
       "    </tr>\n",
       "  </thead>\n",
       "  <tbody>\n",
       "    <tr>\n",
       "      <th>24</th>\n",
       "      <td>Cochise County, Arizona</td>\n",
       "      <td>9920</td>\n",
       "      <td>89455</td>\n",
       "      <td>803</td>\n",
       "      <td>22923</td>\n",
       "    </tr>\n",
       "    <tr>\n",
       "      <th>38</th>\n",
       "      <td>Lonoke County, Arkansas</td>\n",
       "      <td>5355</td>\n",
       "      <td>52158</td>\n",
       "      <td>80</td>\n",
       "      <td>11811</td>\n",
       "    </tr>\n",
       "    <tr>\n",
       "      <th>119</th>\n",
       "      <td>Columbia County, Florida</td>\n",
       "      <td>4627</td>\n",
       "      <td>53112</td>\n",
       "      <td>90</td>\n",
       "      <td>8902</td>\n",
       "    </tr>\n",
       "    <tr>\n",
       "      <th>186</th>\n",
       "      <td>Spalding County, Georgia</td>\n",
       "      <td>6546</td>\n",
       "      <td>47107</td>\n",
       "      <td>27</td>\n",
       "      <td>8583</td>\n",
       "    </tr>\n",
       "    <tr>\n",
       "      <th>200</th>\n",
       "      <td>Twin Falls County, Idaho</td>\n",
       "      <td>8634</td>\n",
       "      <td>62141</td>\n",
       "      <td>691</td>\n",
       "      <td>12313</td>\n",
       "    </tr>\n",
       "    <tr>\n",
       "      <th>277</th>\n",
       "      <td>McCracken County, Kentucky</td>\n",
       "      <td>4572</td>\n",
       "      <td>48018</td>\n",
       "      <td>413</td>\n",
       "      <td>12143</td>\n",
       "    </tr>\n",
       "  </tbody>\n",
       "</table>\n",
       "</div>"
      ],
      "text/plain": [
       "0                          Area Population_18-24 Population_25+ BA/BS_18-24  \\\n",
       "24      Cochise County, Arizona             9920          89455         803   \n",
       "38      Lonoke County, Arkansas             5355          52158          80   \n",
       "119    Columbia County, Florida             4627          53112          90   \n",
       "186    Spalding County, Georgia             6546          47107          27   \n",
       "200    Twin Falls County, Idaho             8634          62141         691   \n",
       "277  McCracken County, Kentucky             4572          48018         413   \n",
       "\n",
       "0   BA/BS_25+  \n",
       "24      22923  \n",
       "38      11811  \n",
       "119      8902  \n",
       "186      8583  \n",
       "200     12313  \n",
       "277     12143  "
      ]
     },
     "execution_count": 63,
     "metadata": {},
     "output_type": "execute_result"
    }
   ],
   "source": [
    "area_list = []\n",
    "for i in range(1,7):\n",
    "    ratio = pd.to_numeric(crosscheck.loc[i,'BA/BS_18-24'])/pd.to_numeric(crosscheck.loc[i,'Population_18-24'])\n",
    "    area = crosscheck.loc[i,'Area']\n",
    "    population = pd.to_numeric(cleaned_edu['Population_18-24'][cleaned_edu['Area'] == area])\n",
    "    impute_val = (population * ratio).astype(int)\n",
    "    cleaned_edu.loc[cleaned_edu['Area'] == area, 'BA/BS_18-24'] = impute_val\n",
    "    area_list.append(area)\n",
    "    \n",
    "cleaned_edu[cleaned_edu['Area'].isin(area_list)]"
   ]
  },
  {
   "cell_type": "code",
   "execution_count": 64,
   "metadata": {},
   "outputs": [
    {
     "data": {
      "text/plain": [
       "0\n",
       "Area                0\n",
       "Population_18-24    0\n",
       "Population_25+      0\n",
       "BA/BS_18-24         0\n",
       "BA/BS_25+           0\n",
       "dtype: int64"
      ]
     },
     "execution_count": 64,
     "metadata": {},
     "output_type": "execute_result"
    }
   ],
   "source": [
    "# Check the number of NA values in each column\n",
    "cleaned_edu.isna().sum()"
   ]
  },
  {
   "cell_type": "markdown",
   "metadata": {},
   "source": [
    "#### Quality Issue 3: Validity Issues - Incorrect Data Types"
   ]
  },
  {
   "cell_type": "code",
   "execution_count": 65,
   "metadata": {},
   "outputs": [
    {
     "data": {
      "text/html": [
       "<div>\n",
       "<style scoped>\n",
       "    .dataframe tbody tr th:only-of-type {\n",
       "        vertical-align: middle;\n",
       "    }\n",
       "\n",
       "    .dataframe tbody tr th {\n",
       "        vertical-align: top;\n",
       "    }\n",
       "\n",
       "    .dataframe thead th {\n",
       "        text-align: right;\n",
       "    }\n",
       "</style>\n",
       "<table border=\"1\" class=\"dataframe\">\n",
       "  <thead>\n",
       "    <tr style=\"text-align: right;\">\n",
       "      <th></th>\n",
       "      <th>Area</th>\n",
       "      <th>Population_18-24</th>\n",
       "      <th>Population_25+</th>\n",
       "      <th>BA/BS_18-24</th>\n",
       "      <th>BA/BS_25+</th>\n",
       "    </tr>\n",
       "  </thead>\n",
       "  <tbody>\n",
       "    <tr>\n",
       "      <th>0</th>\n",
       "      <td>Baldwin County, Alabama</td>\n",
       "      <td>15552</td>\n",
       "      <td>184852</td>\n",
       "      <td>2213</td>\n",
       "      <td>59243</td>\n",
       "    </tr>\n",
       "    <tr>\n",
       "      <th>1</th>\n",
       "      <td>Calhoun County, Alabama</td>\n",
       "      <td>13499</td>\n",
       "      <td>78420</td>\n",
       "      <td>605</td>\n",
       "      <td>18557</td>\n",
       "    </tr>\n",
       "    <tr>\n",
       "      <th>2</th>\n",
       "      <td>Cullman County, Alabama</td>\n",
       "      <td>7223</td>\n",
       "      <td>64307</td>\n",
       "      <td>661</td>\n",
       "      <td>11065</td>\n",
       "    </tr>\n",
       "    <tr>\n",
       "      <th>3</th>\n",
       "      <td>DeKalb County, Alabama</td>\n",
       "      <td>6538</td>\n",
       "      <td>48611</td>\n",
       "      <td>594</td>\n",
       "      <td>6542</td>\n",
       "    </tr>\n",
       "    <tr>\n",
       "      <th>4</th>\n",
       "      <td>Elmore County, Alabama</td>\n",
       "      <td>7135</td>\n",
       "      <td>63874</td>\n",
       "      <td>278</td>\n",
       "      <td>17580</td>\n",
       "    </tr>\n",
       "  </tbody>\n",
       "</table>\n",
       "</div>"
      ],
      "text/plain": [
       "0                     Area Population_18-24 Population_25+ BA/BS_18-24  \\\n",
       "0  Baldwin County, Alabama            15552         184852        2213   \n",
       "1  Calhoun County, Alabama            13499          78420         605   \n",
       "2  Cullman County, Alabama             7223          64307         661   \n",
       "3   DeKalb County, Alabama             6538          48611         594   \n",
       "4   Elmore County, Alabama             7135          63874         278   \n",
       "\n",
       "0 BA/BS_25+  \n",
       "0     59243  \n",
       "1     18557  \n",
       "2     11065  \n",
       "3      6542  \n",
       "4     17580  "
      ]
     },
     "execution_count": 65,
     "metadata": {},
     "output_type": "execute_result"
    }
   ],
   "source": [
    "# Inspecting the dataframe visually\n",
    "cleaned_edu.head()"
   ]
  },
  {
   "cell_type": "code",
   "execution_count": 66,
   "metadata": {},
   "outputs": [
    {
     "name": "stdout",
     "output_type": "stream",
     "text": [
      "<class 'pandas.core.frame.DataFrame'>\n",
      "RangeIndex: 854 entries, 0 to 853\n",
      "Data columns (total 5 columns):\n",
      " #   Column            Non-Null Count  Dtype \n",
      "---  ------            --------------  ----- \n",
      " 0   Area              854 non-null    object\n",
      " 1   Population_18-24  854 non-null    object\n",
      " 2   Population_25+    854 non-null    object\n",
      " 3   BA/BS_18-24       854 non-null    object\n",
      " 4   BA/BS_25+         854 non-null    object\n",
      "dtypes: object(5)\n",
      "memory usage: 33.5+ KB\n"
     ]
    }
   ],
   "source": [
    "# Inspecting the dataframe programmatically\n",
    "cleaned_edu.info()"
   ]
  },
  {
   "cell_type": "markdown",
   "metadata": {},
   "source": [
    "**Issue and justification:** The 4 columns in the middle are counts of people. Therefore, they are expected to be integer instead of object as shown above."
   ]
  },
  {
   "cell_type": "markdown",
   "metadata": {},
   "source": [
    "**Adress the issue:** In cleaned_edu dataframe, there is no missing value, so we can use .astype to directly convert column to integer type."
   ]
  },
  {
   "cell_type": "code",
   "execution_count": 67,
   "metadata": {},
   "outputs": [],
   "source": [
    "# Apply the cleaning strategy\n",
    "# Identify columns that should be integer\n",
    "edu_int_cols = cleaned_edu.columns[1:]\n",
    "# Apply data type change to these columns\n",
    "for col in edu_int_cols:\n",
    "    cleaned_edu[col] = cleaned_edu[col].astype('int64')"
   ]
  },
  {
   "cell_type": "code",
   "execution_count": 68,
   "metadata": {},
   "outputs": [
    {
     "name": "stdout",
     "output_type": "stream",
     "text": [
      "<class 'pandas.core.frame.DataFrame'>\n",
      "RangeIndex: 854 entries, 0 to 853\n",
      "Data columns (total 5 columns):\n",
      " #   Column            Non-Null Count  Dtype \n",
      "---  ------            --------------  ----- \n",
      " 0   Area              854 non-null    object\n",
      " 1   Population_18-24  854 non-null    int64 \n",
      " 2   Population_25+    854 non-null    int64 \n",
      " 3   BA/BS_18-24       854 non-null    int64 \n",
      " 4   BA/BS_25+         854 non-null    int64 \n",
      "dtypes: int64(4), object(1)\n",
      "memory usage: 33.5+ KB\n"
     ]
    }
   ],
   "source": [
    "# Validate the cleaning was successful\n",
    "cleaned_edu.info()"
   ]
  },
  {
   "cell_type": "markdown",
   "metadata": {
    "id": "4ffMoRGSwzYj"
   },
   "source": [
    "#### Tidiness Issue 4: Column Headers are Values, Not Variables"
   ]
  },
  {
   "cell_type": "code",
   "execution_count": 69,
   "metadata": {},
   "outputs": [
    {
     "data": {
      "text/html": [
       "<div>\n",
       "<style scoped>\n",
       "    .dataframe tbody tr th:only-of-type {\n",
       "        vertical-align: middle;\n",
       "    }\n",
       "\n",
       "    .dataframe tbody tr th {\n",
       "        vertical-align: top;\n",
       "    }\n",
       "\n",
       "    .dataframe thead th {\n",
       "        text-align: right;\n",
       "    }\n",
       "</style>\n",
       "<table border=\"1\" class=\"dataframe\">\n",
       "  <thead>\n",
       "    <tr style=\"text-align: right;\">\n",
       "      <th></th>\n",
       "      <th>Area</th>\n",
       "      <th>Population_18-24</th>\n",
       "      <th>Population_25+</th>\n",
       "      <th>BA/BS_18-24</th>\n",
       "      <th>BA/BS_25+</th>\n",
       "    </tr>\n",
       "  </thead>\n",
       "  <tbody>\n",
       "    <tr>\n",
       "      <th>0</th>\n",
       "      <td>Baldwin County, Alabama</td>\n",
       "      <td>15552</td>\n",
       "      <td>184852</td>\n",
       "      <td>2213</td>\n",
       "      <td>59243</td>\n",
       "    </tr>\n",
       "    <tr>\n",
       "      <th>1</th>\n",
       "      <td>Calhoun County, Alabama</td>\n",
       "      <td>13499</td>\n",
       "      <td>78420</td>\n",
       "      <td>605</td>\n",
       "      <td>18557</td>\n",
       "    </tr>\n",
       "  </tbody>\n",
       "</table>\n",
       "</div>"
      ],
      "text/plain": [
       "0                     Area  Population_18-24  Population_25+  BA/BS_18-24  \\\n",
       "0  Baldwin County, Alabama             15552          184852         2213   \n",
       "1  Calhoun County, Alabama             13499           78420          605   \n",
       "\n",
       "0  BA/BS_25+  \n",
       "0      59243  \n",
       "1      18557  "
      ]
     },
     "execution_count": 69,
     "metadata": {},
     "output_type": "execute_result"
    }
   ],
   "source": [
    "# Inspecting the dataframe visually\n",
    "cleaned_edu.head(2)"
   ]
  },
  {
   "cell_type": "markdown",
   "metadata": {},
   "source": [
    "**Issue and justification:** This dataset has the same issue as the first one.\n",
    "- 'Population_18-2' and 'Population_25+' are 2 values of one variable representing total population aged 18+\n",
    "- 'BA/BS_18-24' and 'BA/BS_25+' are 2 values of the same variable representing Bachelor's degree holders aged 18+."
   ]
  },
  {
   "cell_type": "markdown",
   "metadata": {},
   "source": [
    "**Adress the issue:** The columns that are values are combined into distinct variables:\n",
    "- 'Population_18+': equals the sum of 'Population_18-24' and 'Population_25+'\n",
    "- 'BA/BS_18+': equals the sum of 'BA/BS_18-24' and 'BA/BS_25+'  \n",
    "\n",
    "This solution is preferred over unpivoting because the 2 new variables will be used directly in later analysis."
   ]
  },
  {
   "cell_type": "code",
   "execution_count": 70,
   "metadata": {},
   "outputs": [],
   "source": [
    "# Apply the cleaning strategy\n",
    "# Create a new column for the total number of people aged 18+\n",
    "cleaned_edu['Population_18+'] = cleaned_edu['Population_18-24'] + cleaned_edu['Population_25+']\n",
    "# Create a new column for the total number of people aged 18+ with a bachelor's degree or more\n",
    "cleaned_edu['BA/BS_18+'] = cleaned_edu['BA/BS_18-24'] + cleaned_edu['BA/BS_25+']"
   ]
  },
  {
   "cell_type": "code",
   "execution_count": 71,
   "metadata": {},
   "outputs": [],
   "source": [
    "# Remove the original columns\n",
    "cleaned_edu = cleaned_edu.drop(columns=['Population_18-24', 'Population_25+', 'BA/BS_18-24', 'BA/BS_25+'])"
   ]
  },
  {
   "cell_type": "code",
   "execution_count": 72,
   "metadata": {},
   "outputs": [
    {
     "data": {
      "text/html": [
       "<div>\n",
       "<style scoped>\n",
       "    .dataframe tbody tr th:only-of-type {\n",
       "        vertical-align: middle;\n",
       "    }\n",
       "\n",
       "    .dataframe tbody tr th {\n",
       "        vertical-align: top;\n",
       "    }\n",
       "\n",
       "    .dataframe thead th {\n",
       "        text-align: right;\n",
       "    }\n",
       "</style>\n",
       "<table border=\"1\" class=\"dataframe\">\n",
       "  <thead>\n",
       "    <tr style=\"text-align: right;\">\n",
       "      <th></th>\n",
       "      <th>Area</th>\n",
       "      <th>Population_18+</th>\n",
       "      <th>BA/BS_18+</th>\n",
       "    </tr>\n",
       "  </thead>\n",
       "  <tbody>\n",
       "    <tr>\n",
       "      <th>0</th>\n",
       "      <td>Baldwin County, Alabama</td>\n",
       "      <td>200404</td>\n",
       "      <td>61456</td>\n",
       "    </tr>\n",
       "    <tr>\n",
       "      <th>1</th>\n",
       "      <td>Calhoun County, Alabama</td>\n",
       "      <td>91919</td>\n",
       "      <td>19162</td>\n",
       "    </tr>\n",
       "    <tr>\n",
       "      <th>2</th>\n",
       "      <td>Cullman County, Alabama</td>\n",
       "      <td>71530</td>\n",
       "      <td>11726</td>\n",
       "    </tr>\n",
       "    <tr>\n",
       "      <th>3</th>\n",
       "      <td>DeKalb County, Alabama</td>\n",
       "      <td>55149</td>\n",
       "      <td>7136</td>\n",
       "    </tr>\n",
       "    <tr>\n",
       "      <th>4</th>\n",
       "      <td>Elmore County, Alabama</td>\n",
       "      <td>71009</td>\n",
       "      <td>17858</td>\n",
       "    </tr>\n",
       "  </tbody>\n",
       "</table>\n",
       "</div>"
      ],
      "text/plain": [
       "0                     Area  Population_18+  BA/BS_18+\n",
       "0  Baldwin County, Alabama          200404      61456\n",
       "1  Calhoun County, Alabama           91919      19162\n",
       "2  Cullman County, Alabama           71530      11726\n",
       "3   DeKalb County, Alabama           55149       7136\n",
       "4   Elmore County, Alabama           71009      17858"
      ]
     },
     "execution_count": 72,
     "metadata": {},
     "output_type": "execute_result"
    }
   ],
   "source": [
    "# Visually validate the cleaning was successful\n",
    "cleaned_edu.head()"
   ]
  },
  {
   "cell_type": "markdown",
   "metadata": {
    "id": "D6gmLnBttpCh"
   },
   "source": [
    "## 4. Combine datasets"
   ]
  },
  {
   "cell_type": "code",
   "execution_count": 73,
   "metadata": {},
   "outputs": [],
   "source": [
    "# Combine datasets\n",
    "merged_df = pd.merge(cleaned_earnings,cleaned_edu, on='Area', how='left')"
   ]
  },
  {
   "cell_type": "code",
   "execution_count": 74,
   "metadata": {},
   "outputs": [
    {
     "data": {
      "text/html": [
       "<div>\n",
       "<style scoped>\n",
       "    .dataframe tbody tr th:only-of-type {\n",
       "        vertical-align: middle;\n",
       "    }\n",
       "\n",
       "    .dataframe tbody tr th {\n",
       "        vertical-align: top;\n",
       "    }\n",
       "\n",
       "    .dataframe thead th {\n",
       "        text-align: right;\n",
       "    }\n",
       "</style>\n",
       "<table border=\"1\" class=\"dataframe\">\n",
       "  <thead>\n",
       "    <tr style=\"text-align: right;\">\n",
       "      <th></th>\n",
       "      <th>Area</th>\n",
       "      <th>Median earning</th>\n",
       "      <th>Population_16+</th>\n",
       "      <th>Earning range</th>\n",
       "      <th>Count</th>\n",
       "      <th>Population_18+</th>\n",
       "      <th>BA/BS_18+</th>\n",
       "    </tr>\n",
       "  </thead>\n",
       "  <tbody>\n",
       "    <tr>\n",
       "      <th>0</th>\n",
       "      <td>Baldwin County, Alabama</td>\n",
       "      <td>56339</td>\n",
       "      <td>90456</td>\n",
       "      <td>9,999 or less</td>\n",
       "      <td>1332</td>\n",
       "      <td>200404.0</td>\n",
       "      <td>61456.0</td>\n",
       "    </tr>\n",
       "    <tr>\n",
       "      <th>1</th>\n",
       "      <td>Calhoun County, Alabama</td>\n",
       "      <td>45999</td>\n",
       "      <td>35776</td>\n",
       "      <td>9,999 or less</td>\n",
       "      <td>392</td>\n",
       "      <td>91919.0</td>\n",
       "      <td>19162.0</td>\n",
       "    </tr>\n",
       "    <tr>\n",
       "      <th>2</th>\n",
       "      <td>Cullman County, Alabama</td>\n",
       "      <td>50270</td>\n",
       "      <td>30508</td>\n",
       "      <td>9,999 or less</td>\n",
       "      <td>784</td>\n",
       "      <td>71530.0</td>\n",
       "      <td>11726.0</td>\n",
       "    </tr>\n",
       "    <tr>\n",
       "      <th>3</th>\n",
       "      <td>DeKalb County, Alabama</td>\n",
       "      <td>40200</td>\n",
       "      <td>22690</td>\n",
       "      <td>9,999 or less</td>\n",
       "      <td>726</td>\n",
       "      <td>55149.0</td>\n",
       "      <td>7136.0</td>\n",
       "    </tr>\n",
       "    <tr>\n",
       "      <th>4</th>\n",
       "      <td>Elmore County, Alabama</td>\n",
       "      <td>53486</td>\n",
       "      <td>&lt;NA&gt;</td>\n",
       "      <td>9,999 or less</td>\n",
       "      <td>&lt;NA&gt;</td>\n",
       "      <td>71009.0</td>\n",
       "      <td>17858.0</td>\n",
       "    </tr>\n",
       "    <tr>\n",
       "      <th>5</th>\n",
       "      <td>Etowah County, Alabama</td>\n",
       "      <td>47183</td>\n",
       "      <td>32505</td>\n",
       "      <td>9,999 or less</td>\n",
       "      <td>1655</td>\n",
       "      <td>80630.0</td>\n",
       "      <td>13550.0</td>\n",
       "    </tr>\n",
       "    <tr>\n",
       "      <th>6</th>\n",
       "      <td>Houston County, Alabama</td>\n",
       "      <td>44299</td>\n",
       "      <td>38094</td>\n",
       "      <td>9,999 or less</td>\n",
       "      <td>1008</td>\n",
       "      <td>83711.0</td>\n",
       "      <td>17674.0</td>\n",
       "    </tr>\n",
       "    <tr>\n",
       "      <th>7</th>\n",
       "      <td>Jefferson County, Alabama</td>\n",
       "      <td>52154</td>\n",
       "      <td>240596</td>\n",
       "      <td>9,999 or less</td>\n",
       "      <td>2917</td>\n",
       "      <td>511772.0</td>\n",
       "      <td>175143.0</td>\n",
       "    </tr>\n",
       "    <tr>\n",
       "      <th>8</th>\n",
       "      <td>Lauderdale County, Alabama</td>\n",
       "      <td>50352</td>\n",
       "      <td>31290</td>\n",
       "      <td>9,999 or less</td>\n",
       "      <td>1222</td>\n",
       "      <td>78167.0</td>\n",
       "      <td>21944.0</td>\n",
       "    </tr>\n",
       "    <tr>\n",
       "      <th>9</th>\n",
       "      <td>Lee County, Alabama</td>\n",
       "      <td>55005</td>\n",
       "      <td>60989</td>\n",
       "      <td>9,999 or less</td>\n",
       "      <td>1445</td>\n",
       "      <td>145155.0</td>\n",
       "      <td>51326.0</td>\n",
       "    </tr>\n",
       "  </tbody>\n",
       "</table>\n",
       "</div>"
      ],
      "text/plain": [
       "                         Area  Median earning  Population_16+  Earning range  \\\n",
       "0     Baldwin County, Alabama           56339           90456  9,999 or less   \n",
       "1     Calhoun County, Alabama           45999           35776  9,999 or less   \n",
       "2     Cullman County, Alabama           50270           30508  9,999 or less   \n",
       "3      DeKalb County, Alabama           40200           22690  9,999 or less   \n",
       "4      Elmore County, Alabama           53486            <NA>  9,999 or less   \n",
       "5      Etowah County, Alabama           47183           32505  9,999 or less   \n",
       "6     Houston County, Alabama           44299           38094  9,999 or less   \n",
       "7   Jefferson County, Alabama           52154          240596  9,999 or less   \n",
       "8  Lauderdale County, Alabama           50352           31290  9,999 or less   \n",
       "9         Lee County, Alabama           55005           60989  9,999 or less   \n",
       "\n",
       "   Count  Population_18+  BA/BS_18+  \n",
       "0   1332        200404.0    61456.0  \n",
       "1    392         91919.0    19162.0  \n",
       "2    784         71530.0    11726.0  \n",
       "3    726         55149.0     7136.0  \n",
       "4   <NA>         71009.0    17858.0  \n",
       "5   1655         80630.0    13550.0  \n",
       "6   1008         83711.0    17674.0  \n",
       "7   2917        511772.0   175143.0  \n",
       "8   1222         78167.0    21944.0  \n",
       "9   1445        145155.0    51326.0  "
      ]
     },
     "execution_count": 74,
     "metadata": {},
     "output_type": "execute_result"
    }
   ],
   "source": [
    "merged_df.head(10)"
   ]
  },
  {
   "cell_type": "code",
   "execution_count": 75,
   "metadata": {},
   "outputs": [
    {
     "data": {
      "text/html": [
       "<div>\n",
       "<style scoped>\n",
       "    .dataframe tbody tr th:only-of-type {\n",
       "        vertical-align: middle;\n",
       "    }\n",
       "\n",
       "    .dataframe tbody tr th {\n",
       "        vertical-align: top;\n",
       "    }\n",
       "\n",
       "    .dataframe thead th {\n",
       "        text-align: right;\n",
       "    }\n",
       "</style>\n",
       "<table border=\"1\" class=\"dataframe\">\n",
       "  <thead>\n",
       "    <tr style=\"text-align: right;\">\n",
       "      <th></th>\n",
       "      <th>Area</th>\n",
       "      <th>Median earning</th>\n",
       "      <th>Population_16+</th>\n",
       "      <th>Earning range</th>\n",
       "      <th>Count</th>\n",
       "      <th>Population_18+</th>\n",
       "      <th>BA/BS_18+</th>\n",
       "    </tr>\n",
       "  </thead>\n",
       "  <tbody>\n",
       "    <tr>\n",
       "      <th>7684</th>\n",
       "      <td>Bayamón Municipio, Puerto Rico</td>\n",
       "      <td>28995</td>\n",
       "      <td>51319</td>\n",
       "      <td>100,000 or more</td>\n",
       "      <td>2418</td>\n",
       "      <td>153817.0</td>\n",
       "      <td>49999.0</td>\n",
       "    </tr>\n",
       "    <tr>\n",
       "      <th>7685</th>\n",
       "      <td>Caguas Municipio, Puerto Rico</td>\n",
       "      <td>30548</td>\n",
       "      <td>36120</td>\n",
       "      <td>100,000 or more</td>\n",
       "      <td>2278</td>\n",
       "      <td>105577.0</td>\n",
       "      <td>35015.0</td>\n",
       "    </tr>\n",
       "    <tr>\n",
       "      <th>7686</th>\n",
       "      <td>Carolina Municipio, Puerto Rico</td>\n",
       "      <td>26814</td>\n",
       "      <td>52493</td>\n",
       "      <td>100,000 or more</td>\n",
       "      <td>3598</td>\n",
       "      <td>128213.0</td>\n",
       "      <td>42966.0</td>\n",
       "    </tr>\n",
       "    <tr>\n",
       "      <th>7687</th>\n",
       "      <td>Guaynabo Municipio, Puerto Rico</td>\n",
       "      <td>38820</td>\n",
       "      <td>30346</td>\n",
       "      <td>100,000 or more</td>\n",
       "      <td>5252</td>\n",
       "      <td>77139.0</td>\n",
       "      <td>37235.0</td>\n",
       "    </tr>\n",
       "    <tr>\n",
       "      <th>7688</th>\n",
       "      <td>Mayagüez Municipio, Puerto Rico</td>\n",
       "      <td>22420</td>\n",
       "      <td>&lt;NA&gt;</td>\n",
       "      <td>100,000 or more</td>\n",
       "      <td>&lt;NA&gt;</td>\n",
       "      <td>59187.0</td>\n",
       "      <td>13463.0</td>\n",
       "    </tr>\n",
       "    <tr>\n",
       "      <th>7689</th>\n",
       "      <td>Ponce Municipio, Puerto Rico</td>\n",
       "      <td>24803</td>\n",
       "      <td>27949</td>\n",
       "      <td>100,000 or more</td>\n",
       "      <td>1377</td>\n",
       "      <td>108609.0</td>\n",
       "      <td>31585.0</td>\n",
       "    </tr>\n",
       "    <tr>\n",
       "      <th>7690</th>\n",
       "      <td>San Juan Municipio, Puerto Rico</td>\n",
       "      <td>33875</td>\n",
       "      <td>97446</td>\n",
       "      <td>100,000 or more</td>\n",
       "      <td>9531</td>\n",
       "      <td>283752.0</td>\n",
       "      <td>111878.0</td>\n",
       "    </tr>\n",
       "    <tr>\n",
       "      <th>7691</th>\n",
       "      <td>Toa Alta Municipio, Puerto Rico</td>\n",
       "      <td>29274</td>\n",
       "      <td>&lt;NA&gt;</td>\n",
       "      <td>100,000 or more</td>\n",
       "      <td>&lt;NA&gt;</td>\n",
       "      <td>55533.0</td>\n",
       "      <td>16133.0</td>\n",
       "    </tr>\n",
       "    <tr>\n",
       "      <th>7692</th>\n",
       "      <td>Toa Baja Municipio, Puerto Rico</td>\n",
       "      <td>28483</td>\n",
       "      <td>24735</td>\n",
       "      <td>100,000 or more</td>\n",
       "      <td>495</td>\n",
       "      <td>60750.0</td>\n",
       "      <td>16918.0</td>\n",
       "    </tr>\n",
       "    <tr>\n",
       "      <th>7693</th>\n",
       "      <td>Trujillo Alto Municipio, Puerto Rico</td>\n",
       "      <td>36446</td>\n",
       "      <td>&lt;NA&gt;</td>\n",
       "      <td>100,000 or more</td>\n",
       "      <td>&lt;NA&gt;</td>\n",
       "      <td>56610.0</td>\n",
       "      <td>22111.0</td>\n",
       "    </tr>\n",
       "  </tbody>\n",
       "</table>\n",
       "</div>"
      ],
      "text/plain": [
       "                                      Area  Median earning  Population_16+  \\\n",
       "7684        Bayamón Municipio, Puerto Rico           28995           51319   \n",
       "7685         Caguas Municipio, Puerto Rico           30548           36120   \n",
       "7686       Carolina Municipio, Puerto Rico           26814           52493   \n",
       "7687       Guaynabo Municipio, Puerto Rico           38820           30346   \n",
       "7688       Mayagüez Municipio, Puerto Rico           22420            <NA>   \n",
       "7689          Ponce Municipio, Puerto Rico           24803           27949   \n",
       "7690       San Juan Municipio, Puerto Rico           33875           97446   \n",
       "7691       Toa Alta Municipio, Puerto Rico           29274            <NA>   \n",
       "7692       Toa Baja Municipio, Puerto Rico           28483           24735   \n",
       "7693  Trujillo Alto Municipio, Puerto Rico           36446            <NA>   \n",
       "\n",
       "        Earning range  Count  Population_18+  BA/BS_18+  \n",
       "7684  100,000 or more   2418        153817.0    49999.0  \n",
       "7685  100,000 or more   2278        105577.0    35015.0  \n",
       "7686  100,000 or more   3598        128213.0    42966.0  \n",
       "7687  100,000 or more   5252         77139.0    37235.0  \n",
       "7688  100,000 or more   <NA>         59187.0    13463.0  \n",
       "7689  100,000 or more   1377        108609.0    31585.0  \n",
       "7690  100,000 or more   9531        283752.0   111878.0  \n",
       "7691  100,000 or more   <NA>         55533.0    16133.0  \n",
       "7692  100,000 or more    495         60750.0    16918.0  \n",
       "7693  100,000 or more   <NA>         56610.0    22111.0  "
      ]
     },
     "execution_count": 75,
     "metadata": {},
     "output_type": "execute_result"
    }
   ],
   "source": [
    "merged_df.tail(10)"
   ]
  },
  {
   "cell_type": "code",
   "execution_count": 76,
   "metadata": {},
   "outputs": [
    {
     "name": "stdout",
     "output_type": "stream",
     "text": [
      "<class 'pandas.core.frame.DataFrame'>\n",
      "RangeIndex: 7694 entries, 0 to 7693\n",
      "Data columns (total 7 columns):\n",
      " #   Column          Non-Null Count  Dtype  \n",
      "---  ------          --------------  -----  \n",
      " 0   Area            7694 non-null   object \n",
      " 1   Median earning  7686 non-null   Int64  \n",
      " 2   Population_16+  7092 non-null   Int64  \n",
      " 3   Earning range   7694 non-null   object \n",
      " 4   Count           7092 non-null   Int64  \n",
      " 5   Population_18+  7686 non-null   float64\n",
      " 6   BA/BS_18+       7686 non-null   float64\n",
      "dtypes: Int64(3), float64(2), object(2)\n",
      "memory usage: 443.4+ KB\n"
     ]
    }
   ],
   "source": [
    "merged_df.info()"
   ]
  },
  {
   "cell_type": "markdown",
   "metadata": {
    "id": "F42urHuzttjF"
   },
   "source": [
    "## 5. Update data store"
   ]
  },
  {
   "cell_type": "code",
   "execution_count": 77,
   "metadata": {
    "id": "V3uay7EJUV_L"
   },
   "outputs": [],
   "source": [
    "# Saving data\n",
    "merged_df.to_csv('cleaned_merged_data.csv', index=False)"
   ]
  },
  {
   "cell_type": "code",
   "execution_count": 78,
   "metadata": {},
   "outputs": [
    {
     "data": {
      "text/html": [
       "<div>\n",
       "<style scoped>\n",
       "    .dataframe tbody tr th:only-of-type {\n",
       "        vertical-align: middle;\n",
       "    }\n",
       "\n",
       "    .dataframe tbody tr th {\n",
       "        vertical-align: top;\n",
       "    }\n",
       "\n",
       "    .dataframe thead th {\n",
       "        text-align: right;\n",
       "    }\n",
       "</style>\n",
       "<table border=\"1\" class=\"dataframe\">\n",
       "  <thead>\n",
       "    <tr style=\"text-align: right;\">\n",
       "      <th></th>\n",
       "      <th>Area</th>\n",
       "      <th>Median earning</th>\n",
       "      <th>Population_16+</th>\n",
       "      <th>Earning range</th>\n",
       "      <th>Count</th>\n",
       "      <th>Population_18+</th>\n",
       "      <th>BA/BS_18+</th>\n",
       "    </tr>\n",
       "  </thead>\n",
       "  <tbody>\n",
       "    <tr>\n",
       "      <th>0</th>\n",
       "      <td>Baldwin County, Alabama</td>\n",
       "      <td>56339.0</td>\n",
       "      <td>90456.0</td>\n",
       "      <td>9,999 or less</td>\n",
       "      <td>1332.0</td>\n",
       "      <td>200404.0</td>\n",
       "      <td>61456.0</td>\n",
       "    </tr>\n",
       "    <tr>\n",
       "      <th>1</th>\n",
       "      <td>Calhoun County, Alabama</td>\n",
       "      <td>45999.0</td>\n",
       "      <td>35776.0</td>\n",
       "      <td>9,999 or less</td>\n",
       "      <td>392.0</td>\n",
       "      <td>91919.0</td>\n",
       "      <td>19162.0</td>\n",
       "    </tr>\n",
       "    <tr>\n",
       "      <th>2</th>\n",
       "      <td>Cullman County, Alabama</td>\n",
       "      <td>50270.0</td>\n",
       "      <td>30508.0</td>\n",
       "      <td>9,999 or less</td>\n",
       "      <td>784.0</td>\n",
       "      <td>71530.0</td>\n",
       "      <td>11726.0</td>\n",
       "    </tr>\n",
       "    <tr>\n",
       "      <th>3</th>\n",
       "      <td>DeKalb County, Alabama</td>\n",
       "      <td>40200.0</td>\n",
       "      <td>22690.0</td>\n",
       "      <td>9,999 or less</td>\n",
       "      <td>726.0</td>\n",
       "      <td>55149.0</td>\n",
       "      <td>7136.0</td>\n",
       "    </tr>\n",
       "    <tr>\n",
       "      <th>4</th>\n",
       "      <td>Elmore County, Alabama</td>\n",
       "      <td>53486.0</td>\n",
       "      <td>NaN</td>\n",
       "      <td>9,999 or less</td>\n",
       "      <td>NaN</td>\n",
       "      <td>71009.0</td>\n",
       "      <td>17858.0</td>\n",
       "    </tr>\n",
       "  </tbody>\n",
       "</table>\n",
       "</div>"
      ],
      "text/plain": [
       "                      Area  Median earning  Population_16+  Earning range  \\\n",
       "0  Baldwin County, Alabama         56339.0         90456.0  9,999 or less   \n",
       "1  Calhoun County, Alabama         45999.0         35776.0  9,999 or less   \n",
       "2  Cullman County, Alabama         50270.0         30508.0  9,999 or less   \n",
       "3   DeKalb County, Alabama         40200.0         22690.0  9,999 or less   \n",
       "4   Elmore County, Alabama         53486.0             NaN  9,999 or less   \n",
       "\n",
       "    Count  Population_18+  BA/BS_18+  \n",
       "0  1332.0        200404.0    61456.0  \n",
       "1   392.0         91919.0    19162.0  \n",
       "2   784.0         71530.0    11726.0  \n",
       "3   726.0         55149.0     7136.0  \n",
       "4     NaN         71009.0    17858.0  "
      ]
     },
     "execution_count": 78,
     "metadata": {},
     "output_type": "execute_result"
    }
   ],
   "source": [
    "# Check the saved CSV file\n",
    "df = pd.read_csv('cleaned_merged_data.csv')\n",
    "df.head()"
   ]
  },
  {
   "cell_type": "markdown",
   "metadata": {
    "id": "cGy_yddGtzhM"
   },
   "source": [
    "## 6. Answer the research question\n",
    "\n",
    "### 6.1: Define and answer the research question "
   ]
  },
  {
   "cell_type": "markdown",
   "metadata": {
    "id": "gjedE4s4ZkEd"
   },
   "source": [
    "**Research question:**  \n",
    "1.\tWhat's the relationship between the percentage of bachelor's degree holders and median earnings across U.S. counties?  \n",
    "2.\tWhich income range has the highest percentage in the U.S.?"
   ]
  },
  {
   "cell_type": "code",
   "execution_count": 79,
   "metadata": {},
   "outputs": [],
   "source": [
    "import matplotlib.pyplot as plt"
   ]
  },
  {
   "cell_type": "markdown",
   "metadata": {},
   "source": [
    "**1. Scatter plot: Percentage of Bachelor's Degree Holders vs. Median Earnings by County**"
   ]
  },
  {
   "cell_type": "code",
   "execution_count": 80,
   "metadata": {},
   "outputs": [
    {
     "data": {
      "text/html": [
       "<div>\n",
       "<style scoped>\n",
       "    .dataframe tbody tr th:only-of-type {\n",
       "        vertical-align: middle;\n",
       "    }\n",
       "\n",
       "    .dataframe tbody tr th {\n",
       "        vertical-align: top;\n",
       "    }\n",
       "\n",
       "    .dataframe thead th {\n",
       "        text-align: right;\n",
       "    }\n",
       "</style>\n",
       "<table border=\"1\" class=\"dataframe\">\n",
       "  <thead>\n",
       "    <tr style=\"text-align: right;\">\n",
       "      <th></th>\n",
       "      <th>Area</th>\n",
       "      <th>Median earning</th>\n",
       "      <th>Percentage_BA</th>\n",
       "    </tr>\n",
       "  </thead>\n",
       "  <tbody>\n",
       "    <tr>\n",
       "      <th>0</th>\n",
       "      <td>Baldwin County, Alabama</td>\n",
       "      <td>56339.0</td>\n",
       "      <td>30.666055</td>\n",
       "    </tr>\n",
       "    <tr>\n",
       "      <th>1</th>\n",
       "      <td>Calhoun County, Alabama</td>\n",
       "      <td>45999.0</td>\n",
       "      <td>20.846615</td>\n",
       "    </tr>\n",
       "    <tr>\n",
       "      <th>2</th>\n",
       "      <td>Cullman County, Alabama</td>\n",
       "      <td>50270.0</td>\n",
       "      <td>16.393122</td>\n",
       "    </tr>\n",
       "    <tr>\n",
       "      <th>3</th>\n",
       "      <td>DeKalb County, Alabama</td>\n",
       "      <td>40200.0</td>\n",
       "      <td>12.939491</td>\n",
       "    </tr>\n",
       "    <tr>\n",
       "      <th>4</th>\n",
       "      <td>Elmore County, Alabama</td>\n",
       "      <td>53486.0</td>\n",
       "      <td>25.148925</td>\n",
       "    </tr>\n",
       "  </tbody>\n",
       "</table>\n",
       "</div>"
      ],
      "text/plain": [
       "                      Area  Median earning  Percentage_BA\n",
       "0  Baldwin County, Alabama         56339.0      30.666055\n",
       "1  Calhoun County, Alabama         45999.0      20.846615\n",
       "2  Cullman County, Alabama         50270.0      16.393122\n",
       "3   DeKalb County, Alabama         40200.0      12.939491\n",
       "4   Elmore County, Alabama         53486.0      25.148925"
      ]
     },
     "execution_count": 80,
     "metadata": {},
     "output_type": "execute_result"
    }
   ],
   "source": [
    "# Create a column for the percentage of bachelor's degree holders\n",
    "df['Percentage_BA'] = (df['BA/BS_18+'] / df['Population_18+']) * 100\n",
    "# Columns used for the visualization\n",
    "df[['Area','Median earning', 'Percentage_BA']].head()"
   ]
  },
  {
   "cell_type": "code",
   "execution_count": 81,
   "metadata": {
    "id": "Lkw3rW9kZmOm"
   },
   "outputs": [
    {
     "data": {
      "image/png": "[encoded data removed]",
      "text/plain": [
       "<Figure size 1000x600 with 1 Axes>"
      ]
     },
     "metadata": {},
     "output_type": "display_data"
    }
   ],
   "source": [
    "# Visual 1 - Scatter plot\n",
    "plt.figure(figsize=(10, 6))\n",
    "plt.scatter(df['Percentage_BA'], df['Median earning'], alpha=0.1)\n",
    "plt.title('Percentage of Bachelor\\'s Degree Holders vs. Median Earnings by County')\n",
    "plt.xlabel('Percentage of Bachelor\\'s Degree Holders (%)')\n",
    "plt.ylabel('Median Earnings (USD)')\n",
    "plt.show()"
   ]
  },
  {
   "cell_type": "markdown",
   "metadata": {},
   "source": [
    "**Answer to research question:** There seems to be a strong positive trend between the percentage of bachelor's degree hoders and the median earning. This trend suggests that, in general, counties with a higher percentage of people holding a bachelor's degree tend to have higher median earnings."
   ]
  },
  {
   "cell_type": "markdown",
   "metadata": {},
   "source": [
    "**2. Pie chart: The total percentage for each income bracket in the U.S.**"
   ]
  },
  {
   "cell_type": "code",
   "execution_count": 82,
   "metadata": {},
   "outputs": [
    {
     "data": {
      "text/html": [
       "<div>\n",
       "<style scoped>\n",
       "    .dataframe tbody tr th:only-of-type {\n",
       "        vertical-align: middle;\n",
       "    }\n",
       "\n",
       "    .dataframe tbody tr th {\n",
       "        vertical-align: top;\n",
       "    }\n",
       "\n",
       "    .dataframe thead th {\n",
       "        text-align: right;\n",
       "    }\n",
       "</style>\n",
       "<table border=\"1\" class=\"dataframe\">\n",
       "  <thead>\n",
       "    <tr style=\"text-align: right;\">\n",
       "      <th></th>\n",
       "      <th>Earning range</th>\n",
       "      <th>total_count</th>\n",
       "      <th>total_population</th>\n",
       "    </tr>\n",
       "  </thead>\n",
       "  <tbody>\n",
       "    <tr>\n",
       "      <th>0</th>\n",
       "      <td>10,000 - 14,999</td>\n",
       "      <td>1730260.0</td>\n",
       "      <td>103866868.0</td>\n",
       "    </tr>\n",
       "    <tr>\n",
       "      <th>1</th>\n",
       "      <td>100,000 or more</td>\n",
       "      <td>25590155.0</td>\n",
       "      <td>103866868.0</td>\n",
       "    </tr>\n",
       "    <tr>\n",
       "      <th>2</th>\n",
       "      <td>15,000 - 24,999</td>\n",
       "      <td>5830513.0</td>\n",
       "      <td>103866868.0</td>\n",
       "    </tr>\n",
       "    <tr>\n",
       "      <th>3</th>\n",
       "      <td>25,000 - 34,999</td>\n",
       "      <td>10932997.0</td>\n",
       "      <td>103866868.0</td>\n",
       "    </tr>\n",
       "    <tr>\n",
       "      <th>4</th>\n",
       "      <td>35,000 - 49,999</td>\n",
       "      <td>18945130.0</td>\n",
       "      <td>103866868.0</td>\n",
       "    </tr>\n",
       "    <tr>\n",
       "      <th>5</th>\n",
       "      <td>50,000 - 64,999</td>\n",
       "      <td>16840709.0</td>\n",
       "      <td>103866868.0</td>\n",
       "    </tr>\n",
       "    <tr>\n",
       "      <th>6</th>\n",
       "      <td>65,000 - 74,999</td>\n",
       "      <td>8268836.0</td>\n",
       "      <td>103866868.0</td>\n",
       "    </tr>\n",
       "    <tr>\n",
       "      <th>7</th>\n",
       "      <td>75,000 - 99,999</td>\n",
       "      <td>14207289.0</td>\n",
       "      <td>103866868.0</td>\n",
       "    </tr>\n",
       "    <tr>\n",
       "      <th>8</th>\n",
       "      <td>9,999 or less</td>\n",
       "      <td>1520979.0</td>\n",
       "      <td>103866868.0</td>\n",
       "    </tr>\n",
       "  </tbody>\n",
       "</table>\n",
       "</div>"
      ],
      "text/plain": [
       "     Earning range  total_count  total_population\n",
       "0  10,000 - 14,999    1730260.0       103866868.0\n",
       "1  100,000 or more   25590155.0       103866868.0\n",
       "2  15,000 - 24,999    5830513.0       103866868.0\n",
       "3  25,000 - 34,999   10932997.0       103866868.0\n",
       "4  35,000 - 49,999   18945130.0       103866868.0\n",
       "5  50,000 - 64,999   16840709.0       103866868.0\n",
       "6  65,000 - 74,999    8268836.0       103866868.0\n",
       "7  75,000 - 99,999   14207289.0       103866868.0\n",
       "8    9,999 or less    1520979.0       103866868.0"
      ]
     },
     "execution_count": 82,
     "metadata": {},
     "output_type": "execute_result"
    }
   ],
   "source": [
    "# Create a subset of df that groups dataframe by 'Earning range' and aggregate 'Population_16+'' and 'Count' columns\n",
    "df_earning = df.groupby('Earning range').agg(total_count=('Count', 'sum'), total_population=('Population_16+', 'sum')).reset_index()\n",
    "df_earning.head(9)"
   ]
  },
  {
   "cell_type": "code",
   "execution_count": 83,
   "metadata": {},
   "outputs": [
    {
     "data": {
      "text/html": [
       "<div>\n",
       "<style scoped>\n",
       "    .dataframe tbody tr th:only-of-type {\n",
       "        vertical-align: middle;\n",
       "    }\n",
       "\n",
       "    .dataframe tbody tr th {\n",
       "        vertical-align: top;\n",
       "    }\n",
       "\n",
       "    .dataframe thead th {\n",
       "        text-align: right;\n",
       "    }\n",
       "</style>\n",
       "<table border=\"1\" class=\"dataframe\">\n",
       "  <thead>\n",
       "    <tr style=\"text-align: right;\">\n",
       "      <th></th>\n",
       "      <th>Earning range</th>\n",
       "      <th>total_count</th>\n",
       "      <th>total_population</th>\n",
       "      <th>Percentage</th>\n",
       "    </tr>\n",
       "  </thead>\n",
       "  <tbody>\n",
       "    <tr>\n",
       "      <th>0</th>\n",
       "      <td>10,000 - 14,999</td>\n",
       "      <td>1730260.0</td>\n",
       "      <td>103866868.0</td>\n",
       "      <td>1.665844</td>\n",
       "    </tr>\n",
       "    <tr>\n",
       "      <th>1</th>\n",
       "      <td>100,000 or more</td>\n",
       "      <td>25590155.0</td>\n",
       "      <td>103866868.0</td>\n",
       "      <td>24.637457</td>\n",
       "    </tr>\n",
       "    <tr>\n",
       "      <th>2</th>\n",
       "      <td>15,000 - 24,999</td>\n",
       "      <td>5830513.0</td>\n",
       "      <td>103866868.0</td>\n",
       "      <td>5.613448</td>\n",
       "    </tr>\n",
       "    <tr>\n",
       "      <th>3</th>\n",
       "      <td>25,000 - 34,999</td>\n",
       "      <td>10932997.0</td>\n",
       "      <td>103866868.0</td>\n",
       "      <td>10.525972</td>\n",
       "    </tr>\n",
       "    <tr>\n",
       "      <th>4</th>\n",
       "      <td>35,000 - 49,999</td>\n",
       "      <td>18945130.0</td>\n",
       "      <td>103866868.0</td>\n",
       "      <td>18.239820</td>\n",
       "    </tr>\n",
       "    <tr>\n",
       "      <th>5</th>\n",
       "      <td>50,000 - 64,999</td>\n",
       "      <td>16840709.0</td>\n",
       "      <td>103866868.0</td>\n",
       "      <td>16.213745</td>\n",
       "    </tr>\n",
       "    <tr>\n",
       "      <th>6</th>\n",
       "      <td>65,000 - 74,999</td>\n",
       "      <td>8268836.0</td>\n",
       "      <td>103866868.0</td>\n",
       "      <td>7.960995</td>\n",
       "    </tr>\n",
       "    <tr>\n",
       "      <th>7</th>\n",
       "      <td>75,000 - 99,999</td>\n",
       "      <td>14207289.0</td>\n",
       "      <td>103866868.0</td>\n",
       "      <td>13.678365</td>\n",
       "    </tr>\n",
       "    <tr>\n",
       "      <th>8</th>\n",
       "      <td>9,999 or less</td>\n",
       "      <td>1520979.0</td>\n",
       "      <td>103866868.0</td>\n",
       "      <td>1.464354</td>\n",
       "    </tr>\n",
       "  </tbody>\n",
       "</table>\n",
       "</div>"
      ],
      "text/plain": [
       "     Earning range  total_count  total_population  Percentage\n",
       "0  10,000 - 14,999    1730260.0       103866868.0    1.665844\n",
       "1  100,000 or more   25590155.0       103866868.0   24.637457\n",
       "2  15,000 - 24,999    5830513.0       103866868.0    5.613448\n",
       "3  25,000 - 34,999   10932997.0       103866868.0   10.525972\n",
       "4  35,000 - 49,999   18945130.0       103866868.0   18.239820\n",
       "5  50,000 - 64,999   16840709.0       103866868.0   16.213745\n",
       "6  65,000 - 74,999    8268836.0       103866868.0    7.960995\n",
       "7  75,000 - 99,999   14207289.0       103866868.0   13.678365\n",
       "8    9,999 or less    1520979.0       103866868.0    1.464354"
      ]
     },
     "execution_count": 83,
     "metadata": {},
     "output_type": "execute_result"
    }
   ],
   "source": [
    "# Calculate the percentage for each earning range\n",
    "df_earning['Percentage'] = (df_earning['total_count'] / df_earning['total_population']) * 100\n",
    "df_earning.head(9)"
   ]
  },
  {
   "cell_type": "code",
   "execution_count": 84,
   "metadata": {
    "id": "6fdK_8ZGZm9R"
   },
   "outputs": [
    {
     "data": {
      "image/png": "[encoded data removed]",
      "text/plain": [
       "<Figure size 640x480 with 1 Axes>"
      ]
     },
     "metadata": {},
     "output_type": "display_data"
    }
   ],
   "source": [
    "# Visual 2 - Pie chart\n",
    "plt.pie(df_earning['Percentage'], labels=df_earning['Earning range'], autopct='%1.1f%%')\n",
    "plt.title('Percentage of U.S. Population in Each Income Bracket')\n",
    "plt.tight_layout()\n",
    "plt.show()"
   ]
  },
  {
   "cell_type": "markdown",
   "metadata": {},
   "source": [
    "**Answer to research question:** The largest percentage of the U.S. population falls into the $100,000 or more income bracket (24.64\\%), which represents a significant portion of high earners."
   ]
  },
  {
   "cell_type": "markdown",
   "metadata": {
    "id": "0ezWXXZVj-TP"
   },
   "source": [
    "### 6.2: Reflection\n",
    "\n",
    "I would further inspect the missing values in the earning dataset or gather more data to impute the missing values.  \n",
    "The research question that I would further explore is: How does the distribution of the population across income brackets vary by county?"
   ]
  },
  {
   "cell_type": "markdown",
   "metadata": {},
   "source": [
    "## 7. References"
   ]
  },
  {
   "cell_type": "markdown",
   "metadata": {},
   "source": [
    "**Links to U.S. Census Bureau resources:**\n",
    "\n",
    "Available APIs: https://www.census.gov/data/developers/data-sets.html\n",
    "\n",
    "2023 ACS Subject Tables Variables: https://api.census.gov/data/2023/acs/acs1/subject/variables.html\n",
    "\n",
    "Census Data API User Guide: https://www2.census.gov/data/api-documentation/api-user-guide.pdf\n",
    "\n",
    "Example API Queries: https://www.census.gov/data/developers/guidance/api-user-guide.Example_API_Queries.html#list-tab-559651575\n"
   ]
  },
  {
   "cell_type": "code",
   "execution_count": null,
   "metadata": {},
   "outputs": [],
   "source": []
  }
 ],
 "metadata": {
  "colab": {
   "provenance": []
  },
  "kernelspec": {
   "display_name": "Python 3 (ipykernel)",
   "language": "python",
   "name": "python3"
  },
  "language_info": {
   "codemirror_mode": {
    "name": "ipython",
    "version": 3
   },
   "file_extension": ".py",
   "mimetype": "text/x-python",
   "name": "python",
   "nbconvert_exporter": "python",
   "pygments_lexer": "ipython3",
   "version": "3.12.3"
  }
 },
 "nbformat": 4,
 "nbformat_minor": 4
}
